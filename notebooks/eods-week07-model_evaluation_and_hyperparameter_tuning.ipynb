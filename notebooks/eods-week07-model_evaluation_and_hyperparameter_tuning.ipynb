{
 "cells": [
  {
   "cell_type": "markdown",
   "metadata": {
    "slideshow": {
     "slide_type": "slide"
    }
   },
   "source": [
    "## <center>Elements Of Data Science - F2022</center>\n",
    "# <center>Week 7: Model Evaluation and Hyperparameter Tuning<center>\n",
    "### <center>10/19/2022</center>"
   ]
  },
  {
   "cell_type": "markdown",
   "metadata": {
    "slideshow": {
     "slide_type": "slide"
    }
   },
   "source": [
    "# TODOs\n",
    "\n",
    "- Readings:\n",
    " - PML 4.1 Dealing with Missing Data - 4.4 Bringing Features onto the Same Scale\n",
    " - Additional: [PDSH Chapter 5: Feature Engineering](https://jakevdp.github.io/PythonDataScienceHandbook/05.04-feature-engineering.html)\n",
    "<br>\n",
    "<br>\n",
    "\n",
    "- **Quiz 7**, due **Tues Oct 25th, 11:59pm ET**\n",
    "- **HW2**, out Fri\n",
    "- **Midterm**\n",
    "  - Online via gradescope, open-book, open-note, open-python\n",
    "  - Released *Tonight, Wednesday Oct 19th 11:59pm*\n",
    "  - Due *This Friday Oct 21st 11:59pm ET*\n",
    "  - Have maximum of 24hrs after starting to finish\n",
    "  - 30-40 questions (fill in the blank/multiple choice/short answer)\n",
    "  - Questions asked/answered **privately** via Ed"
   ]
  },
  {
   "cell_type": "markdown",
   "metadata": {
    "slideshow": {
     "slide_type": "slide"
    }
   },
   "source": [
    "# Midterm Questions?"
   ]
  },
  {
   "cell_type": "markdown",
   "metadata": {
    "slideshow": {
     "slide_type": "slide"
    }
   },
   "source": [
    "# Current Timeline (subject to change)\n",
    "\n",
    "```\n",
    "- Midterm : Due Fri Oct 21st\n",
    "- HW2     : Due Fri Nov 4th\n",
    "- HW3     : Due Fri Nov 18th\n",
    "- No Class Wed Nov 23rd\n",
    "- HW4     : Due Fri Dec 2nd\n",
    "- Final   : Due Fri Dec 9th\n",
    "```"
   ]
  },
  {
   "cell_type": "markdown",
   "metadata": {
    "slideshow": {
     "slide_type": "slide"
    }
   },
   "source": [
    "# Today\n",
    "\n",
    "- Model Evaluation and Selection\n",
    "- Hyperparameter Tuning\n",
    "- Regularization\n",
    "<br>\n",
    "<br>\n",
    "\n",
    "# <center>Questions?</center>\n",
    "<br>\n",
    "<br>"
   ]
  },
  {
   "cell_type": "markdown",
   "metadata": {
    "slideshow": {
     "slide_type": "slide"
    }
   },
   "source": [
    "# Environment Setup"
   ]
  },
  {
   "cell_type": "code",
   "execution_count": 1,
   "metadata": {
    "slideshow": {
     "slide_type": "fragment"
    }
   },
   "outputs": [],
   "source": [
    "import numpy\n",
    "import numpy as np\n",
    "import pandas as pd\n",
    "import matplotlib.pyplot as plt\n",
    "import seaborn as sns\n",
    "\n",
    "from mlxtend.plotting import plot_decision_regions\n",
    "\n",
    "import warnings\n",
    "warnings.filterwarnings('ignore') # sklearn complains about predicting on data \n",
    "                                  # without column-names when trained on a dataframe\n",
    "\n",
    "\n",
    "sns.set_style('darkgrid')\n",
    "\n",
    "%matplotlib inline"
   ]
  },
  {
   "cell_type": "markdown",
   "metadata": {
    "slideshow": {
     "slide_type": "slide"
    }
   },
   "source": [
    "# Model Evaluation and Hyperparameter Tuning\n",
    "<br>\n",
    "\n",
    "- How well are any of our models working?\n",
    "- How can we compare different models?\n",
    "- How do we decide on hyperparameter settings?\n",
    "- How can we keep our models from \"overfitting\" (and what does that mean)?\n",
    "- How do we do all this for both Regression and Classification?"
   ]
  },
  {
   "cell_type": "markdown",
   "metadata": {
    "slideshow": {
     "slide_type": "slide"
    }
   },
   "source": [
    "# How well are our models performing?\n",
    "\n",
    "## Regression\n",
    "\n",
    "- Mean Squared Error (MSE) and Root Mean Squared Error (RMSE)\n",
    "- $R^2$ or `R^2` or `R2`\n",
    "- (Adjusted $R^2$ - we'll talk about this during Feature Selection)\n",
    "\n",
    "## Classification\n",
    "\n",
    "- Accuracy\n",
    "- Precision/Recall/F1\n",
    "- ROC Area Under the Curve (AUC)"
   ]
  },
  {
   "cell_type": "markdown",
   "metadata": {
    "slideshow": {
     "slide_type": "slide"
    }
   },
   "source": [
    "# Data Setup for Regression"
   ]
  },
  {
   "cell_type": "code",
   "execution_count": 2,
   "metadata": {
    "slideshow": {
     "slide_type": "fragment"
    }
   },
   "outputs": [],
   "source": [
    "zscore = lambda x: (x - x.mean()) / x.std()\n",
    "\n",
    "df_wine = pd.read_csv('../data/wine_dataset.csv',\n",
    "                      usecols=['alcalinity_of_ash','magnesium','alcohol','ash','proline','hue','class'])\n",
    "numeric_cols = ['alcalinity_of_ash','magnesium','alcohol','ash','proline','hue']\n",
    "\n",
    "df_wine[numeric_cols] = df_wine[numeric_cols].apply(zscore)  # standardize numeric feature cols\n",
    "\n",
    "X = df_wine[['proline','hue','ash']]                       \n",
    "\n",
    "y_r = df_wine['alcohol']                                     # regression target"
   ]
  },
  {
   "cell_type": "code",
   "execution_count": 3,
   "metadata": {
    "slideshow": {
     "slide_type": "fragment"
    }
   },
   "outputs": [
    {
     "name": "stdout",
     "output_type": "stream",
     "text": [
      "<class 'pandas.core.frame.DataFrame'>\n",
      "RangeIndex: 178 entries, 0 to 177\n",
      "Data columns (total 7 columns):\n",
      " #   Column             Non-Null Count  Dtype  \n",
      "---  ------             --------------  -----  \n",
      " 0   alcohol            178 non-null    float64\n",
      " 1   ash                178 non-null    float64\n",
      " 2   alcalinity_of_ash  178 non-null    float64\n",
      " 3   magnesium          178 non-null    float64\n",
      " 4   hue                178 non-null    float64\n",
      " 5   proline            178 non-null    float64\n",
      " 6   class              178 non-null    int64  \n",
      "dtypes: float64(6), int64(1)\n",
      "memory usage: 9.9 KB\n"
     ]
    }
   ],
   "source": [
    "df_wine.info()"
   ]
  },
  {
   "cell_type": "markdown",
   "metadata": {
    "slideshow": {
     "slide_type": "slide"
    }
   },
   "source": [
    "# Regression with Simple Linear Model"
   ]
  },
  {
   "cell_type": "code",
   "execution_count": 4,
   "metadata": {},
   "outputs": [
    {
     "data": {
      "image/png": "[encoded data removed]",
      "text/plain": [
       "<Figure size 800x600 with 1 Axes>"
      ]
     },
     "metadata": {},
     "output_type": "display_data"
    }
   ],
   "source": [
    "from sklearn.linear_model import LinearRegression\n",
    "\n",
    "lr = LinearRegression().fit(X[['proline']],y_r)\n",
    "argmax_y_r = np.argmax(y_r)\n",
    "y_lr_pred = lr.predict(X[['proline']])\n",
    "\n",
    "fig,ax = plt.subplots(1,1,figsize=(8,6))\n",
    "sns.scatterplot(x=X.proline, y=y_r, color='grey');\n",
    "ax.plot(X.proline,y_lr_pred,color='k');\n",
    "ax.vlines(X.proline.iloc[argmax_y_r],y_r.iloc[argmax_y_r],y_lr_pred[argmax_y_r],color='r');"
   ]
  },
  {
   "cell_type": "markdown",
   "metadata": {
    "slideshow": {
     "slide_type": "slide"
    }
   },
   "source": [
    "# How Good is This Fit? MSE and RMSE\n",
    "<br>\n",
    "\n",
    "- **Mean Squared Error (MSE) :** $\\frac{1}{n} \\sum_i{(y_i - \\hat{y}_i)^2}$"
   ]
  },
  {
   "cell_type": "code",
   "execution_count": 5,
   "metadata": {
    "slideshow": {
     "slide_type": "fragment"
    }
   },
   "outputs": [
    {
     "name": "stdout",
     "output_type": "stream",
     "text": [
      "lr_mse = 0.58\n"
     ]
    }
   ],
   "source": [
    "from sklearn.metrics import mean_squared_error\n",
    "\n",
    "lr_mse = mean_squared_error(y_r,y_lr_pred)\n",
    "print(f'{lr_mse = :0.2f}')"
   ]
  },
  {
   "cell_type": "markdown",
   "metadata": {
    "slideshow": {
     "slide_type": "fragment"
    }
   },
   "source": [
    "- But this is the squared error! (alcohol^2)\n",
    "\n",
    "- **Root Mean Squared Error (RMSE) :** $\\sqrt{ \\frac {1}{n} \\sum_i{(y_i-\\hat{y}_i)^2} }$"
   ]
  },
  {
   "cell_type": "code",
   "execution_count": 6,
   "metadata": {
    "slideshow": {
     "slide_type": "fragment"
    }
   },
   "outputs": [
    {
     "name": "stdout",
     "output_type": "stream",
     "text": [
      "lr_rmse = 0.76\n"
     ]
    }
   ],
   "source": [
    "lr_rmse = mean_squared_error(y_r,y_lr_pred,squared=False)\n",
    "print(f'{lr_rmse = :0.2f}')"
   ]
  },
  {
   "cell_type": "markdown",
   "metadata": {
    "slideshow": {
     "slide_type": "slide"
    }
   },
   "source": [
    "# Is this good? Need a Baseline Comparison\n",
    "<br>\n",
    "\n",
    "- What's a baseline to compare against?\n",
    "- Simple one for Regression: always predict the mean of the targets"
   ]
  },
  {
   "cell_type": "code",
   "execution_count": 7,
   "metadata": {
    "slideshow": {
     "slide_type": "fragment"
    }
   },
   "outputs": [
    {
     "name": "stdout",
     "output_type": "stream",
     "text": [
      "dummy_rmse = 0.99\n"
     ]
    }
   ],
   "source": [
    "from sklearn.dummy import DummyRegressor\n",
    "\n",
    "dummyr = DummyRegressor(strategy='mean') # default strategy\n",
    "dummyr.fit(X[['proline']],y_r)\n",
    "\n",
    "dummy_rmse = mean_squared_error(y_r,dummyr.predict(X[['proline']]),squared=True)\n",
    "\n",
    "print(f'{dummy_rmse = :0.2f}')"
   ]
  },
  {
   "cell_type": "markdown",
   "metadata": {
    "slideshow": {
     "slide_type": "slide"
    }
   },
   "source": [
    "# Comparing against the mean: $R^2$\n",
    "\n",
    "- the proportion of variance explained by the model\n",
    "<br>\n",
    "<br>\n",
    "\n",
    "<center>$\\Large R^2 = 1 - \\frac{\\sum{(y_i - \\hat{y}_i)^2}}{\\sum(y_i - \\bar{y})^2}$</center>\n",
    "<br>\n",
    "\n",
    "- maximum value of 1\n",
    "- a value below 0 means the model is predicting worse than just predicting the mean\n",
    "- sklearn uses $R^2$ as the default for regression scoring"
   ]
  },
  {
   "cell_type": "code",
   "execution_count": 8,
   "metadata": {},
   "outputs": [
    {
     "name": "stdout",
     "output_type": "stream",
     "text": [
      "r2_dummyr = 0.00\n",
      "r2_lr     = 0.41\n"
     ]
    }
   ],
   "source": [
    "r2_lr = lr.score(X[['proline']],y_r)\n",
    "r2_dummyr = dummyr.score(X[['proline']],y_r)\n",
    "\n",
    "print(f'{r2_dummyr = :0.2f}\\n{r2_lr     = :0.2f}')"
   ]
  },
  {
   "cell_type": "markdown",
   "metadata": {
    "slideshow": {
     "slide_type": "slide"
    }
   },
   "source": [
    "# Can we do better?"
   ]
  },
  {
   "cell_type": "code",
   "execution_count": 9,
   "metadata": {
    "slideshow": {
     "slide_type": "fragment"
    }
   },
   "outputs": [
    {
     "name": "stdout",
     "output_type": "stream",
     "text": [
      "r2_lr  = 0.41\n",
      "r2_dtr = 0.76\n"
     ]
    },
    {
     "data": {
      "image/png": "[encoded data removed]",
      "text/plain": [
       "<Figure size 800x400 with 1 Axes>"
      ]
     },
     "metadata": {},
     "output_type": "display_data"
    }
   ],
   "source": [
    "from sklearn.tree import DecisionTreeRegressor\n",
    "\n",
    "dtr = DecisionTreeRegressor(max_depth=10).fit(X[['proline']],y_r)\n",
    "r2_dtr = dtr.score(X[['proline']],y_r)\n",
    "print(f'{r2_lr  = :0.2f}\\n{r2_dtr = :0.2f}')\n",
    "\n",
    "X_query = pd.DataFrame({'proline':np.linspace(X.proline.min(),X.proline.max(),1000)})\n",
    "y_dtr_pred = dtr.predict(X_query)\n",
    "y_lr_pred = lr.predict(X_query)\n",
    "fig,ax = plt.subplots(1,1,figsize=(8,4))\n",
    "sns.scatterplot(x=X.proline, y=y_r,color='gray')\n",
    "ax.plot(X_query,y_dtr_pred,color='b')\n",
    "ax.plot(X_query,y_lr_pred,color='r');"
   ]
  },
  {
   "cell_type": "markdown",
   "metadata": {
    "slideshow": {
     "slide_type": "slide"
    }
   },
   "source": [
    "# But is this what we want? Interpretation vs Prediction\n",
    "<br>\n",
    "\n",
    "Always good to ask:\n",
    "- do we want our model to very closely fit our data for interpretation?\n",
    "- do we want our model to predict well on new, unseen data (*generalize well*)?\n",
    "<br>\n",
    "\n",
    "**Generalization:**\n",
    "- how well will model predict on data that it hasn't seen yet?\n",
    "<br>\n",
    "\n",
    "But we used all of our data to train?\n",
    "- Need to do a **Train/Test Split** to create a held-aside set"
   ]
  },
  {
   "cell_type": "markdown",
   "metadata": {
    "slideshow": {
     "slide_type": "slide"
    }
   },
   "source": [
    "# Train/Test Split\n",
    "<br>\n",
    "\n",
    "- **Training Set:** portion of dataset used for training\n",
    "- **Test/Held-Aside/Validation/Out of sample:** portion of dataset used for evaluation\n",
    "<br>\n",
    "\n",
    "- Want the test set to reflect the same distribution as training\n",
    "<bf>\n",
    "<br>\n",
    "    \n",
    "<div align=\"center\"><img src=\"images/train_test_split.png\" width=\"600px\"></div>\n",
    "\n",
    "<font size=4>From https://www.researchgate.net/figure/Train-Test-Data-Split_fig6_325870973</font>"
   ]
  },
  {
   "cell_type": "markdown",
   "metadata": {
    "slideshow": {
     "slide_type": "slide"
    }
   },
   "source": [
    "# Train/Test split with Sklearn"
   ]
  },
  {
   "cell_type": "code",
   "execution_count": 10,
   "metadata": {
    "slideshow": {
     "slide_type": "fragment"
    }
   },
   "outputs": [
    {
     "name": "stdout",
     "output_type": "stream",
     "text": [
      "n_total = 178\n",
      "n_train = 133\n",
      "n_test  = 45\n"
     ]
    }
   ],
   "source": [
    "from sklearn.model_selection import train_test_split\n",
    "\n",
    "X_train_r,X_test_r,y_train_r,y_test_r = train_test_split(X[['proline']],\n",
    "                                                         y_r,\n",
    "                                                         train_size=.75,  #default (only need one of train/test)\n",
    "                                                         test_size=.25,   #default\n",
    "                                                         random_state=123)\n",
    "print(f\"n_total = {X[['proline']].shape[0]}\")\n",
    "print(f'n_train = {X_train_r.shape[0]}')\n",
    "print(f'n_test  = {X_test_r.shape[0]}')"
   ]
  },
  {
   "cell_type": "markdown",
   "metadata": {
    "slideshow": {
     "slide_type": "fragment"
    }
   },
   "source": [
    "- How big should test be? \n",
    " - Large enough to capture variance of dataset.\n",
    " - Depends on the dataset and the models being trained"
   ]
  },
  {
   "cell_type": "markdown",
   "metadata": {
    "slideshow": {
     "slide_type": "slide"
    }
   },
   "source": [
    "# Training and Evaluating on Different Data"
   ]
  },
  {
   "cell_type": "code",
   "execution_count": 11,
   "metadata": {
    "slideshow": {
     "slide_type": "fragment"
    }
   },
   "outputs": [
    {
     "name": "stdout",
     "output_type": "stream",
     "text": [
      "r2_dummyr = -0.03\n",
      "r2_lr     =  0.28\n",
      "r2_dtr    = -0.31\n"
     ]
    }
   ],
   "source": [
    "dummyr = DummyRegressor().fit(X_train_r,y_train_r)\n",
    "lr = LinearRegression().fit(X_train_r,y_train_r)\n",
    "dtr = DecisionTreeRegressor(max_depth=10).fit(X_train_r,y_train_r)\n",
    "\n",
    "r2_dummyr = dummyr.score(X_test_r,y_test_r)\n",
    "r2_lr     = lr.score(X_test_r,y_test_r)\n",
    "r2_dtr    = dtr.score(X_test_r,y_test_r)\n",
    "\n",
    "print(f'{r2_dummyr = : 0.2f}\\n{r2_lr     = : 0.2f}\\n{r2_dtr    = : 0.2f}')"
   ]
  },
  {
   "cell_type": "markdown",
   "metadata": {
    "slideshow": {
     "slide_type": "fragment"
    }
   },
   "source": [
    "- DecisionTree model is doing worse than the Dummy model on the test set!"
   ]
  },
  {
   "cell_type": "markdown",
   "metadata": {
    "slideshow": {
     "slide_type": "slide"
    }
   },
   "source": [
    "# Overfitting and Underfitting"
   ]
  },
  {
   "cell_type": "markdown",
   "metadata": {
    "slideshow": {
     "slide_type": "fragment"
    }
   },
   "source": [
    "- **Overfitting:** poor generalization due to complexity\n",
    " - learning noise in training data\n",
    "<br>\n",
    "<br>\n",
    "\n",
    "- **Underfitting:** poor generalization due to simplicity\n",
    " - not flexibile enough to learn concept\n",
    "<br>\n",
    "<br>\n",
    "\n",
    "- Need to find a balance between simplicity and complexity\n",
    "- Need to find a balance between **bias** and **variance**\n"
   ]
  },
  {
   "cell_type": "markdown",
   "metadata": {
    "slideshow": {
     "slide_type": "slide"
    }
   },
   "source": [
    "# Bias-Variance Tradeoff\n",
    "<br>\n",
    "\n",
    "<div align=\"center\"><img src=\"images/05.03-bias-variance.png\" width=\"1400px\"></div>\n",
    "\n",
    "From PDSH"
   ]
  },
  {
   "cell_type": "markdown",
   "metadata": {
    "slideshow": {
     "slide_type": "slide"
    }
   },
   "source": [
    "# Bias-Variance Tradeoff\n",
    "<br>\n",
    "\n",
    "<div align=\"center\"><img src=\"images/05.03-bias-variance-2.png\" width=\"1400px\"></div>\n",
    "\n",
    "From PDSH"
   ]
  },
  {
   "cell_type": "markdown",
   "metadata": {
    "slideshow": {
     "slide_type": "slide"
    }
   },
   "source": [
    "# Bias-Variance Tradeoff Continued\n",
    "<br>\n",
    "\n",
    "- How close is the model to the underlying concept?\n",
    "- How sensitive is the model to the training set?\n",
    "\n",
    "<div align=\"center\"><img src=\"images/bias_variance_targets.jpeg\" width=\"900px\"></div>"
   ]
  },
  {
   "cell_type": "markdown",
   "metadata": {
    "slideshow": {
     "slide_type": "slide"
    }
   },
   "source": [
    "# Bias-Variance Tradeoff Continued\n",
    "<br>\n",
    "<br>\n",
    "\n",
    "<div align=\"center\"><img src=\"images/bias-variance-tradeoff.png\" width=\"800px\"></div>\n",
    "\n",
    "- We'd like to: \n",
    " - reduce the Bias (use a model complex enough to capture the concept)\n",
    " - without introducing too much Variance (overfit the data)\n",
    " - all in order to minimize **Generalization Error**"
   ]
  },
  {
   "cell_type": "markdown",
   "metadata": {
    "slideshow": {
     "slide_type": "slide"
    }
   },
   "source": [
    "# Overfitting/Underfitting Revisited\n",
    "<br>\n",
    "\n",
    "- **Overfitting:** poor generalization due to complexity\n",
    " - learning noise in training data\n",
    " - model has **high variance and low bias**\n",
    "\n",
    "\n",
    "- **Underfitting:** poor generalization due to simplicity\n",
    " - not flexibile enough to learn concept\n",
    " - model has **high bias and low variance**"
   ]
  },
  {
   "cell_type": "markdown",
   "metadata": {
    "slideshow": {
     "slide_type": "slide"
    }
   },
   "source": [
    "# Avoiding Overfitting/Underfitting"
   ]
  },
  {
   "cell_type": "markdown",
   "metadata": {
    "slideshow": {
     "slide_type": "fragment"
    }
   },
   "source": [
    "- Never train and evaluate on the same set of data!\n",
    " - train test split\n",
    " - **cross-validation**\n",
    "\n",
    "- Rule of thumb: keep the model as simple as possible (Occom's Razor)"
   ]
  },
  {
   "cell_type": "code",
   "execution_count": 12,
   "metadata": {
    "slideshow": {
     "slide_type": "fragment"
    }
   },
   "outputs": [
    {
     "data": {
      "image/png": "[encoded data removed]",
      "text/plain": [
       "<Figure size 1600x300 with 3 Axes>"
      ]
     },
     "metadata": {},
     "output_type": "display_data"
    }
   ],
   "source": [
    "fig,ax = plt.subplots(1,3,figsize=(16,3))\n",
    "for i in range(3):\n",
    "    sns.scatterplot(x=X_train_r.proline,y=y_train_r,color=\"gray\",ax=ax[i])\n",
    "    sns.scatterplot(x=X_test_r.proline,y=y_test_r,color=\"black\",s=100,ax=ax[i]);\n",
    "ax[0].plot(X_query,dummyr.predict(X_query),color='r');\n",
    "ax[1].plot(X_query,lr.predict(X_query),color='g');\n",
    "ax[2].plot(X_query,dtr.predict(X_query),color='b');"
   ]
  },
  {
   "cell_type": "markdown",
   "metadata": {
    "slideshow": {
     "slide_type": "slide"
    }
   },
   "source": [
    "# Overfitting? Simplify the model"
   ]
  },
  {
   "cell_type": "code",
   "execution_count": 13,
   "metadata": {
    "slideshow": {
     "slide_type": "fragment"
    }
   },
   "outputs": [
    {
     "data": {
      "image/png": "[encoded data removed]",
      "text/plain": [
       "<Figure size 1600x400 with 3 Axes>"
      ]
     },
     "metadata": {},
     "output_type": "display_data"
    }
   ],
   "source": [
    "max_depths = [2,3,4]\n",
    "fig,ax = plt.subplots(1,3,figsize=(16,4))\n",
    "for i in range(3):\n",
    "    dtr_tmp = DecisionTreeRegressor(max_depth=max_depths[i]).fit(X_train_r,y_train_r)\n",
    "    sns.scatterplot(x=X_train_r.proline,y=y_train_r,color=\"gray\",ax=ax[i])\n",
    "    sns.scatterplot(x=X_test_r.proline,y=y_test_r,color=\"black\",s=100,ax=ax[i]);\n",
    "    ax[i].plot(X_query,dtr_tmp.predict(X_query),color='b');\n",
    "    ax[i].set_title(f'depth {max_depths[i]}, r2: {dtr_tmp.score(X_test_r,y_test_r):0.2f}')"
   ]
  },
  {
   "cell_type": "markdown",
   "metadata": {
    "slideshow": {
     "slide_type": "fragment"
    }
   },
   "source": [
    "- But now we might be overfitting on the test set!\n",
    "- How to choose hyperparameters: **Cross-Validation**"
   ]
  },
  {
   "cell_type": "markdown",
   "metadata": {
    "slideshow": {
     "slide_type": "slide"
    }
   },
   "source": [
    "# Aside: Hyperparameters\n",
    "<br>\n",
    "    \n",
    "- **parameter:** something learned by the model itself (eg. coefficient in linear model)\n",
    "<br>\n",
    "\n",
    "- **hyperparameter:** something we set by hand (eg. decision tree max depth)"
   ]
  },
  {
   "cell_type": "markdown",
   "metadata": {
    "slideshow": {
     "slide_type": "slide"
    }
   },
   "source": [
    "# $k$-Fold Cross-Validation\n",
    "<br>\n",
    "\n",
    "1. split dataset into $k$ equal sized subsets (folds)\n",
    "2. for each subset (fold)\n",
    " - train on the other $k−1$ subsets combined \n",
    " - test on this subset to get a score\n",
    "3. average across all scores\n",
    "<br>"
   ]
  },
  {
   "cell_type": "markdown",
   "metadata": {
    "slideshow": {
     "slide_type": "fragment"
    }
   },
   "source": [
    "- Result is a set of samples of model performance\n",
    "- Can use to set hyperparameters without overfitting on train or test\n",
    "- Can also use to estimate range of generalization performance"
   ]
  },
  {
   "cell_type": "markdown",
   "metadata": {
    "slideshow": {
     "slide_type": "slide"
    }
   },
   "source": [
    "# Example: 10-Fold Cross-Validation\n",
    "<br>\n",
    "\n",
    "<div align=\"center\"><img src=\"images/cv10fold.png\" width=\"1000px\"></div>"
   ]
  },
  {
   "cell_type": "markdown",
   "metadata": {
    "slideshow": {
     "slide_type": "slide"
    }
   },
   "source": [
    "# k-Fold Cross-Validation Continued\n",
    "<br>\n",
    "\n",
    "- Can be used for:\n",
    " - tuning hyperparameters\n",
    " - model selection\n",
    " - any time we need estimate of model performance\n",
    "<br>\n",
    "<br>\n",
    "\n",
    "- **Issue:** each fold requires training the model\n",
    " - Training time can be an issue for large $k$ or models with long training time\n",
    "<br>\n",
    "<br>\n",
    "\n",
    "- What values can $k$ take?\n",
    " - min: 2\n",
    " - max: $n$, the size of the dataset (aka Leave-One-Out CV)"
   ]
  },
  {
   "cell_type": "markdown",
   "metadata": {
    "slideshow": {
     "slide_type": "slide"
    }
   },
   "source": [
    "# k-Fold Cross-Validation in sklearn"
   ]
  },
  {
   "cell_type": "code",
   "execution_count": 14,
   "metadata": {
    "slideshow": {
     "slide_type": "fragment"
    }
   },
   "outputs": [
    {
     "data": {
      "text/plain": [
       "array([0.42, 0.37, 0.45, 0.26, 0.23])"
      ]
     },
     "execution_count": 14,
     "metadata": {},
     "output_type": "execute_result"
    }
   ],
   "source": [
    "from sklearn.model_selection import cross_val_score\n",
    "\n",
    "scores = cross_val_score(DecisionTreeRegressor(max_depth=2),\n",
    "                         X_train_r,\n",
    "                         y_train_r,\n",
    "                         n_jobs=-1, # default None == 1\n",
    "                         cv=5, # default\n",
    "                        ) \n",
    "scores.round(2)"
   ]
  },
  {
   "cell_type": "code",
   "execution_count": 15,
   "metadata": {
    "slideshow": {
     "slide_type": "fragment"
    }
   },
   "outputs": [
    {
     "name": "stdout",
     "output_type": "stream",
     "text": [
      "0.35 +- 0.18\n"
     ]
    }
   ],
   "source": [
    "print(f'{np.mean(scores).round(2)} +- {2*np.std(scores).round(2)}')"
   ]
  },
  {
   "cell_type": "markdown",
   "metadata": {
    "slideshow": {
     "slide_type": "slide"
    }
   },
   "source": [
    "# Tuning Hyperparameters with CV"
   ]
  },
  {
   "cell_type": "code",
   "execution_count": 16,
   "metadata": {
    "slideshow": {
     "slide_type": "fragment"
    }
   },
   "outputs": [
    {
     "name": "stdout",
     "output_type": "stream",
     "text": [
      "depth =  1 :  0.289\n",
      "depth =  2 :  0.346\n",
      "depth =  3 :  0.341\n",
      "depth =  5 :  0.050\n",
      "depth = 10 : -0.142\n"
     ]
    }
   ],
   "source": [
    "mean_scores = []\n",
    "\n",
    "for depth in [1, 2, 3, 5, 10]:\n",
    "    dtr_tmp = DecisionTreeRegressor(max_depth=depth)\n",
    "    scores = cross_val_score(dtr_tmp,X_train_r,y_train_r,cv=5)\n",
    "    mean_scores.append( (depth, scores.mean().round(3)) )\n",
    "\n",
    "for depth,mean_score in mean_scores:\n",
    "    print(f'{depth = :2d} : {mean_score: .3f}')"
   ]
  },
  {
   "cell_type": "code",
   "execution_count": 17,
   "metadata": {
    "slideshow": {
     "slide_type": "fragment"
    }
   },
   "outputs": [
    {
     "name": "stdout",
     "output_type": "stream",
     "text": [
      "best_depth =  2 : best_score =  0.346\n"
     ]
    }
   ],
   "source": [
    "# find the depth that gives best score (highest R^2)\n",
    "best_depth,best_score = sorted(mean_scores, key=lambda x:x[1],reverse=True)[0] # sorted is ascending by default\n",
    "print(f'{best_depth = :2d} : {best_score = : .3f}')"
   ]
  },
  {
   "cell_type": "markdown",
   "metadata": {
    "slideshow": {
     "slide_type": "slide"
    }
   },
   "source": [
    "# Visualize Tuning: Validation Curve\n",
    "\n",
    "**Validation Curve**\n",
    " - Show model complexity vs model performance on both train and test/validation\n",
    " - Want to find point where performance on validation set begins to decline (*elbow rule*) \n",
    " \n",
    "<div align=\"center\"><img src=\"images/05.03-validation-curve.png\"></div>\n",
    "\n",
    "From PDSH"
   ]
  },
  {
   "cell_type": "markdown",
   "metadata": {
    "slideshow": {
     "slide_type": "slide"
    }
   },
   "source": [
    "# Validation Curve in sklearn"
   ]
  },
  {
   "cell_type": "code",
   "execution_count": 18,
   "metadata": {
    "slideshow": {
     "slide_type": "fragment"
    }
   },
   "outputs": [
    {
     "data": {
      "text/plain": [
       "array([[0.35, 0.42, 0.45],\n",
       "       [0.48, 0.49, 0.51],\n",
       "       [0.52, 0.53, 0.56],\n",
       "       [0.68, 0.69, 0.65],\n",
       "       [0.79, 0.83, 0.76],\n",
       "       [0.82, 0.84, 0.81]])"
      ]
     },
     "execution_count": 18,
     "metadata": {},
     "output_type": "execute_result"
    }
   ],
   "source": [
    "from sklearn.model_selection import validation_curve\n",
    "\n",
    "depth = [1,2,3,5,8,10]\n",
    "train_scores,test_scores = validation_curve(DecisionTreeRegressor(),\n",
    "                                            X_train_r, y_train_r,\n",
    "                                            param_name='max_depth',\n",
    "                                            param_range=depth,\n",
    "                                            cv=3)\n",
    "train_scores.round(2)"
   ]
  },
  {
   "cell_type": "code",
   "execution_count": 19,
   "metadata": {
    "slideshow": {
     "slide_type": "fragment"
    }
   },
   "outputs": [
    {
     "data": {
      "text/plain": [
       "array([[0.41, 0.31, 0.17],\n",
       "       [0.33, 0.42, 0.16],\n",
       "       [0.29, 0.4 , 0.22],\n",
       "       [0.2 , 0.25, 0.24],\n",
       "       [0.17, 0.04, 0.12],\n",
       "       [0.24, 0.04, 0.03]])"
      ]
     },
     "execution_count": 19,
     "metadata": {},
     "output_type": "execute_result"
    }
   ],
   "source": [
    "test_scores.round(2)"
   ]
  },
  {
   "cell_type": "code",
   "execution_count": 20,
   "metadata": {
    "slideshow": {
     "slide_type": "fragment"
    }
   },
   "outputs": [],
   "source": [
    "mean_train_scores = np.mean(train_scores,axis=1) # take the mean across columns\n",
    "mean_test_scores = np.mean(test_scores,axis=1)"
   ]
  },
  {
   "cell_type": "markdown",
   "metadata": {
    "slideshow": {
     "slide_type": "slide"
    }
   },
   "source": [
    "# Validation Curve in sklearn Continued"
   ]
  },
  {
   "cell_type": "code",
   "execution_count": 21,
   "metadata": {
    "slideshow": {
     "slide_type": "fragment"
    }
   },
   "outputs": [
    {
     "data": {
      "image/png": "[encoded data removed]",
      "text/plain": [
       "<Figure size 800x600 with 1 Axes>"
      ]
     },
     "metadata": {},
     "output_type": "display_data"
    }
   ],
   "source": [
    "fig,ax = plt.subplots(1,1,figsize=(8,6))\n",
    "ax.plot(depth, mean_train_scores, 'o-', color='b',label='training score');\n",
    "ax.plot(depth, mean_test_scores, 'o-', color='r', label='validation score');\n",
    "ax.set_xlabel('max_depth'), ax.set_ylabel('R^2'); ax.set_title('Validation Curve for DecisionTree');\n",
    "ax.legend();"
   ]
  },
  {
   "cell_type": "markdown",
   "metadata": {
    "slideshow": {
     "slide_type": "slide"
    }
   },
   "source": [
    "# More Than One HyperParameter? Grid Search\n",
    "\n",
    "**Grid Search:** Search over a 'grid' of hyperparameter settings\n",
    "\n",
    "Example: KNN \"number of neighbors\" and \"distance metric\""
   ]
  },
  {
   "cell_type": "code",
   "execution_count": 22,
   "metadata": {
    "slideshow": {
     "slide_type": "fragment"
    }
   },
   "outputs": [
    {
     "name": "stdout",
     "output_type": "stream",
     "text": [
      "['euclidean', 1]\n",
      "['euclidean', 3]\n",
      "['euclidean', 5]\n",
      "['manhattan', 1]\n",
      "['manhattan', 3]\n",
      "['manhattan', 5]\n"
     ]
    }
   ],
   "source": [
    "distance_metrics = ['euclidean','manhattan']\n",
    "n_neighbors = [1,3,5]\n",
    "\n",
    "grid = []\n",
    "for d in distance_metrics:\n",
    "    for k in n_neighbors:\n",
    "        print([d,k])"
   ]
  },
  {
   "cell_type": "markdown",
   "metadata": {
    "slideshow": {
     "slide_type": "slide"
    }
   },
   "source": [
    "# Grid Search in sklearn"
   ]
  },
  {
   "cell_type": "code",
   "execution_count": 23,
   "metadata": {
    "slideshow": {
     "slide_type": "fragment"
    }
   },
   "outputs": [
    {
     "name": "stdout",
     "output_type": "stream",
     "text": [
      "{'metric': 'euclidean', 'n_neighbors': 5}\n"
     ]
    }
   ],
   "source": [
    "from sklearn.model_selection import GridSearchCV\n",
    "from sklearn.neighbors import KNeighborsRegressor\n",
    "\n",
    "params = {'n_neighbors':[1,2,3,5,10],\n",
    "          'metric':['euclidean','manhattan']}\n",
    "gscv = GridSearchCV(KNeighborsRegressor(),\n",
    "                    param_grid=params,     # grid of size 10\n",
    "                    cv=3,       # do 3-fold CV at every grid point\n",
    "                    refit=True) # refit True trains one more time on the entire training set\n",
    "\n",
    "gscv.fit(X_train_r,y_train_r)   # Q: How many times are we training a model here? (2*5*3 + 1 = 31)\n",
    "\n",
    "print(gscv.best_params_)"
   ]
  },
  {
   "cell_type": "code",
   "execution_count": 24,
   "metadata": {
    "slideshow": {
     "slide_type": "fragment"
    }
   },
   "outputs": [
    {
     "name": "stdout",
     "output_type": "stream",
     "text": [
      "0.33 +- 0.16\n"
     ]
    }
   ],
   "source": [
    "scores = cross_val_score(gscv.best_estimator_,X_train_r,y_train_r,cv=5)\n",
    "\n",
    "print(f'{np.mean(scores).round(2):0.2f} +- {2*np.std(scores).round(2):0.2f}')"
   ]
  },
  {
   "cell_type": "markdown",
   "metadata": {
    "slideshow": {
     "slide_type": "slide"
    }
   },
   "source": [
    "# Review So Far\n",
    "<br>\n",
    "\n",
    "- Regression Metrics\n",
    " - MSE and RMSE\n",
    " - $R^2$\n",
    "- Model Selection\n",
    " - Comparison to Baseline Model\n",
    " - Underfitting/Overfitting and Bias/Variance\n",
    " - Train/Test Split\n",
    "- Hyperparameter Tuning \n",
    " - Cross-Validation\n",
    " - Validation Curve\n",
    " - Grid Search"
   ]
  },
  {
   "cell_type": "markdown",
   "metadata": {
    "slideshow": {
     "slide_type": "slide"
    }
   },
   "source": [
    "# Data Setup for Classification"
   ]
  },
  {
   "cell_type": "code",
   "execution_count": 25,
   "metadata": {
    "slideshow": {
     "slide_type": "fragment"
    }
   },
   "outputs": [
    {
     "data": {
      "text/html": [
       "<div>\n",
       "<style scoped>\n",
       "    .dataframe tbody tr th:only-of-type {\n",
       "        vertical-align: middle;\n",
       "    }\n",
       "\n",
       "    .dataframe tbody tr th {\n",
       "        vertical-align: top;\n",
       "    }\n",
       "\n",
       "    .dataframe thead th {\n",
       "        text-align: right;\n",
       "    }\n",
       "</style>\n",
       "<table border=\"1\" class=\"dataframe\">\n",
       "  <thead>\n",
       "    <tr style=\"text-align: right;\">\n",
       "      <th></th>\n",
       "      <th>train</th>\n",
       "      <th>test</th>\n",
       "    </tr>\n",
       "  </thead>\n",
       "  <tbody>\n",
       "    <tr>\n",
       "      <th>0</th>\n",
       "      <td>44</td>\n",
       "      <td>15</td>\n",
       "    </tr>\n",
       "    <tr>\n",
       "      <th>1</th>\n",
       "      <td>53</td>\n",
       "      <td>18</td>\n",
       "    </tr>\n",
       "  </tbody>\n",
       "</table>\n",
       "</div>"
      ],
      "text/plain": [
       "   train  test\n",
       "0     44    15\n",
       "1     53    18"
      ]
     },
     "execution_count": 25,
     "metadata": {},
     "output_type": "execute_result"
    }
   ],
   "source": [
    "idx_binary = df_wine['class'].isin([0,1])               # reduce to binary classification\n",
    "\n",
    "X_bc = df_wine.loc[idx_binary,['alcalinity_of_ash','magnesium']]         # only 2 features for ease of plotting\n",
    "y_bc = df_wine.loc[idx_binary,'class']                   # pull out classification target [0,1]\n",
    "\n",
    "X_train_bc,X_test_bc,y_train_bc,y_test_bc = train_test_split(X_bc,\n",
    "                                                             y_bc,\n",
    "                                                             stratify=y_bc, # maintain label proportions\n",
    "                                                             random_state=0\n",
    "                                                            )\n",
    "\n",
    "pd.DataFrame({'train':y_train_bc.value_counts(),'test':y_test_bc.value_counts()}).sort_index()"
   ]
  },
  {
   "cell_type": "code",
   "execution_count": 26,
   "metadata": {
    "slideshow": {
     "slide_type": "fragment"
    }
   },
   "outputs": [
    {
     "data": {
      "text/html": [
       "<div>\n",
       "<style scoped>\n",
       "    .dataframe tbody tr th:only-of-type {\n",
       "        vertical-align: middle;\n",
       "    }\n",
       "\n",
       "    .dataframe tbody tr th {\n",
       "        vertical-align: top;\n",
       "    }\n",
       "\n",
       "    .dataframe thead th {\n",
       "        text-align: right;\n",
       "    }\n",
       "</style>\n",
       "<table border=\"1\" class=\"dataframe\">\n",
       "  <thead>\n",
       "    <tr style=\"text-align: right;\">\n",
       "      <th></th>\n",
       "      <th>train</th>\n",
       "      <th>test</th>\n",
       "    </tr>\n",
       "  </thead>\n",
       "  <tbody>\n",
       "    <tr>\n",
       "      <th>2</th>\n",
       "      <td>36</td>\n",
       "      <td>12</td>\n",
       "    </tr>\n",
       "    <tr>\n",
       "      <th>0</th>\n",
       "      <td>44</td>\n",
       "      <td>15</td>\n",
       "    </tr>\n",
       "    <tr>\n",
       "      <th>1</th>\n",
       "      <td>53</td>\n",
       "      <td>18</td>\n",
       "    </tr>\n",
       "  </tbody>\n",
       "</table>\n",
       "</div>"
      ],
      "text/plain": [
       "   train  test\n",
       "2     36    12\n",
       "0     44    15\n",
       "1     53    18"
      ]
     },
     "execution_count": 26,
     "metadata": {},
     "output_type": "execute_result"
    }
   ],
   "source": [
    "X_mc = df_wine.loc[:,['alcalinity_of_ash', 'magnesium']]      # multiple features for multiclass classification task\n",
    "y_mc = df_wine.loc[:,'class']                                 # pull out classification target [0,1,2]\n",
    "X_train_mc,X_test_mc,y_train_mc,y_test_mc = train_test_split(X_mc,\n",
    "                                                             y_mc,\n",
    "                                                             stratify=y_mc, # maintain label proportions\n",
    "                                                             random_state=123\n",
    "                                                            ) \n",
    "pd.DataFrame({'train':y_train_mc.value_counts(),'test':y_test_mc.value_counts()}).sort_values(by=\"train\")"
   ]
  },
  {
   "cell_type": "markdown",
   "metadata": {
    "slideshow": {
     "slide_type": "slide"
    }
   },
   "source": [
    "# Default Metric in Classification: Accuracy\n",
    "<br>\n",
    "\n",
    "\n",
    "- **Accuracy**: out of all the observations, how many did I get right?"
   ]
  },
  {
   "cell_type": "code",
   "execution_count": 27,
   "metadata": {
    "slideshow": {
     "slide_type": "fragment"
    }
   },
   "outputs": [
    {
     "name": "stdout",
     "output_type": "stream",
     "text": [
      "dummyc.score(X_test_bc,y_test_bc) = 0.55\n",
      "dtc.score(X_test_bc,y_test_bc)    = 0.79\n"
     ]
    }
   ],
   "source": [
    "from sklearn.dummy import DummyClassifier\n",
    "from sklearn.tree import DecisionTreeClassifier\n",
    "dummyc = DummyClassifier(strategy='prior').fit(X_train_bc,y_train_bc) # works like 'most-frequent'\n",
    "dtc = DecisionTreeClassifier(max_depth=2).fit(X_train_bc,y_train_bc)\n",
    "\n",
    "print(f'{dummyc.score(X_test_bc,y_test_bc) = :0.2f}') # default classification score is accuracy\n",
    "print(f'{dtc.score(X_test_bc,y_test_bc)    = :0.2f}') "
   ]
  },
  {
   "cell_type": "markdown",
   "metadata": {
    "slideshow": {
     "slide_type": "fragment"
    }
   },
   "source": [
    "- But what if the cost of calling a negative a positive is different from calling a positive a negative?\n",
    "- Examples: \n",
    " - disease testing\n",
    " - medical product failures\n",
    " - incarceration"
   ]
  },
  {
   "cell_type": "markdown",
   "metadata": {
    "slideshow": {
     "slide_type": "slide"
    }
   },
   "source": [
    "# Errors in Classification\n",
    "<br>\n",
    "\n",
    "- Just like hypothesis testing, there are different kinds of error in classification\n",
    "\n",
    "<div align=\"center\"><img src=\"images/confusion_matrix.png\" width=\"600px\"></div>\n",
    "\n",
    "From PML"
   ]
  },
  {
   "cell_type": "markdown",
   "metadata": {
    "slideshow": {
     "slide_type": "slide"
    }
   },
   "source": [
    "# Visualizing Errors with a Confusion Matrix"
   ]
  },
  {
   "cell_type": "code",
   "execution_count": 28,
   "metadata": {
    "slideshow": {
     "slide_type": "fragment"
    }
   },
   "outputs": [
    {
     "data": {
      "image/png": "[encoded data removed]",
      "text/plain": [
       "<Figure size 600x300 with 1 Axes>"
      ]
     },
     "metadata": {},
     "output_type": "display_data"
    }
   ],
   "source": [
    "fig,ax = plt.subplots(1,1,figsize=(6,3));\n",
    "plot_decision_regions(X_train_bc.values,y_train_bc.values,dtc,ax=ax);\n",
    "sns.scatterplot(x=X_bc.columns[0],y=X_bc.columns[1],data=X_test_bc[y_test_bc == 0],color=\"blue\",s=120);\n",
    "sns.scatterplot(x=X_bc.columns[0],y=X_bc.columns[1],data=X_test_bc[y_test_bc == 1],color=\"red\",s=120);"
   ]
  },
  {
   "cell_type": "code",
   "execution_count": 29,
   "metadata": {
    "slideshow": {
     "slide_type": "fragment"
    }
   },
   "outputs": [
    {
     "name": "stdout",
     "output_type": "stream",
     "text": [
      "training set error\n",
      " [[41  3]\n",
      " [14 39]]\n",
      "\n",
      "test set error\n",
      " [[15  0]\n",
      " [ 7 11]]\n"
     ]
    }
   ],
   "source": [
    "from sklearn.metrics import confusion_matrix\n",
    "\n",
    "print('training set error\\n', confusion_matrix(y_train_bc,dtc.predict(X_train_bc)))\n",
    "print()\n",
    "print('test set error\\n', confusion_matrix(y_test_bc,dtc.predict(X_test_bc)))"
   ]
  },
  {
   "cell_type": "markdown",
   "metadata": {
    "slideshow": {
     "slide_type": "slide"
    }
   },
   "source": [
    "# Plot Confusion Matrix with mlxtend"
   ]
  },
  {
   "cell_type": "code",
   "execution_count": 30,
   "metadata": {
    "slideshow": {
     "slide_type": "fragment"
    }
   },
   "outputs": [
    {
     "data": {
      "image/png": "[encoded data removed]",
      "text/plain": [
       "<Figure size 400x400 with 1 Axes>"
      ]
     },
     "metadata": {},
     "output_type": "display_data"
    }
   ],
   "source": [
    "from mlxtend.plotting import plot_confusion_matrix\n",
    "\n",
    "fig,ax = plt.subplots(1,1,figsize=(4,4))\n",
    "plot_confusion_matrix(confusion_matrix(y_test_bc,dtc.predict(X_test_bc)),axis=ax);"
   ]
  },
  {
   "cell_type": "markdown",
   "metadata": {
    "slideshow": {
     "slide_type": "slide"
    }
   },
   "source": [
    "# Weighing Errors: Precision vs. Recall\n",
    "<br>\n",
    "\n",
    "**Precision**\n",
    "\n",
    "- Out of the observations I predicted positive (TP+FP), how many are truly positive (TP)?\n",
    "<br>\n",
    "<br>\n",
    "\n",
    "<center>$\\large precision=\\frac{\\text{TP}}{\\text{TP}+\\text{FP}}$</center>\n",
    "\n",
    "**Recall**\n",
    "\n",
    "- Out of the truly positive (TP+FN), how many obsersevations did I predict positive (TP)?\n",
    "<br>\n",
    "<br>\n",
    "\n",
    "<center>$\\large recall=\\frac{\\text{TP}}{\\text{TP}+\\text{FN}}$</center>\n"
   ]
  },
  {
   "cell_type": "markdown",
   "metadata": {
    "slideshow": {
     "slide_type": "slide"
    }
   },
   "source": [
    "# Using Other Measures in sklearn"
   ]
  },
  {
   "cell_type": "code",
   "execution_count": 31,
   "metadata": {
    "slideshow": {
     "slide_type": "fragment"
    }
   },
   "outputs": [
    {
     "name": "stdout",
     "output_type": "stream",
     "text": [
      "dummy precision: 0.55 +- 0.04\n",
      "dummy recall   : 1.00 +- 0.00\n",
      "\n",
      "dtc precision  : 0.85 +- 0.36\n",
      "dtc recall     : 0.66 +- 0.38\n"
     ]
    }
   ],
   "source": [
    "dummyc_precision_scores = cross_val_score(dummyc,X_train_bc,y_train_bc,cv=5,scoring='precision')\n",
    "dummyc_recall_scores    = cross_val_score(dummyc,X_train_bc,y_train_bc,cv=5,scoring='recall')\n",
    "\n",
    "print(f'dummy precision: {np.mean(dummyc_precision_scores):0.2f} +- {2*np.std(dummyc_precision_scores):0.2f}')\n",
    "print(f'dummy recall   : {np.mean(dummyc_recall_scores):0.2f} +- {2*np.std(dummyc_recall_scores):0.2f}')\n",
    "print()\n",
    "\n",
    "dtc_precision_scores = cross_val_score(dtc,X_train_bc,y_train_bc,cv=5,scoring='precision')\n",
    "dtc_recall_scores    = cross_val_score(dtc,X_train_bc,y_train_bc,cv=5,scoring='recall')\n",
    "\n",
    "print(f'dtc precision  : {np.mean(dtc_precision_scores):0.2f} +- {2*np.std(dtc_precision_scores):0.2f}')\n",
    "print(f'dtc recall     : {np.mean(dtc_recall_scores):0.2f} +- {2*np.std(dtc_recall_scores):0.2f}')"
   ]
  },
  {
   "cell_type": "markdown",
   "metadata": {
    "slideshow": {
     "slide_type": "slide"
    }
   },
   "source": [
    "# How do we decide if something is positive or negative?\n",
    "<br>\n",
    "\n",
    "Usually set a threshold :\n",
    "\n",
    "$$\n",
    "\\hat{y}_i = \\begin{cases}\n",
    "1 &\\text{if } P(y_i=1|x_i) > \\text{threshold}, \\\\\\\\\n",
    "0 &\\text{o.w.}\n",
    "\\end{cases}\n",
    "$$\n",
    "\n",
    "Usually, threshold = .5, but it doesn't have to be.\n",
    "\n",
    "What happens if we change it?\n",
    " - High threshold $\\rightarrow$ High Precision, Low Recall\n",
    " - Low threshold $\\rightarrow$ High Recall, Low Precision"
   ]
  },
  {
   "cell_type": "markdown",
   "metadata": {
    "slideshow": {
     "slide_type": "slide"
    }
   },
   "source": [
    "# Combining Precision and Recall: $F_1$-score\n",
    "    \n",
    "    \n",
    "Usually, we just want one number to optimize\n",
    "\n",
    "**$F_1$-score:** harmonic mean of precision and recall\n",
    "- eg. weighted average of the precision and recall\n",
    "\n",
    "$$\n",
    "F_1 = 2 \\cdot \\frac{\\text{precision} \\cdot \\text{recall}}{\\text{precision} + \\text{recall}}\n",
    "$$\n",
    "\n",
    "\n",
    "Note that $F_1$ ignores True Negatives!"
   ]
  },
  {
   "cell_type": "code",
   "execution_count": 32,
   "metadata": {
    "slideshow": {
     "slide_type": "fragment"
    }
   },
   "outputs": [
    {
     "name": "stdout",
     "output_type": "stream",
     "text": [
      "dummyc f1 = 0.71 +- 0.03\n",
      "   dtc f1 = 0.72 +- 0.31\n"
     ]
    }
   ],
   "source": [
    "dummyc_f1_scores = cross_val_score(dummyc,X_train_bc,y_train_bc,cv=5,scoring='f1')\n",
    "dtc_f1_scores = cross_val_score(dtc,X_train_bc,y_train_bc,cv=5,scoring='f1')\n",
    "print(f'dummyc f1 = {np.mean(dummyc_f1_scores):0.2f} +- {2*np.std(dummyc_f1_scores):0.2f}')\n",
    "print(f'   dtc f1 = {np.mean(dtc_f1_scores):0.2f} +- {2*np.std(dtc_f1_scores):0.2f}')"
   ]
  },
  {
   "cell_type": "markdown",
   "metadata": {
    "slideshow": {
     "slide_type": "slide"
    }
   },
   "source": [
    "# Paying attention to True Negatives: ROC\n",
    "\n",
    "**R**eceiver **O**perating **C**haracteristic\n",
    "- displays FPR vs TPR\n",
    "\n",
    "False Positive Rate (FPR) = $\\frac{\\text{FP}}{\\text{FP}+\\text{TN}}$ = $\\frac{\\text{negatives we got wrong}}{\\text{all negatives}}$\n",
    "\n",
    "True Positive Rate (TPR) = Recall = $\\frac{\\text{TP}}{\\text{TP}+\\text{FN}}$ = $\\frac{\\text{positives we got right}}{\\text{all positives}}$\n",
    "\n",
    "How do these change as we move our threshold?\n"
   ]
  },
  {
   "cell_type": "code",
   "execution_count": 33,
   "metadata": {
    "slideshow": {
     "slide_type": "fragment"
    }
   },
   "outputs": [
    {
     "name": "stdout",
     "output_type": "stream",
     "text": [
      "thresholds:           [2.   1.   0.75 0.25]\n",
      "False Positive Rates: [0.   0.   0.07 1.  ]\n",
      "True Positive Rates:  [0.   0.57 0.74 1.  ]\n"
     ]
    }
   ],
   "source": [
    "from sklearn.metrics import roc_curve\n",
    "fpr_dtc, tpr_dtc, thresholds = roc_curve(y_train_bc, dtc.predict_proba(X_train_bc)[:,-1])\n",
    "\n",
    "print('thresholds:          ',thresholds.round(2))\n",
    "print('False Positive Rates:',fpr_dtc.round(2))\n",
    "print('True Positive Rates: ',tpr_dtc.round(2))"
   ]
  },
  {
   "cell_type": "markdown",
   "metadata": {
    "slideshow": {
     "slide_type": "slide"
    }
   },
   "source": [
    "# Plotting ROC Curves"
   ]
  },
  {
   "cell_type": "code",
   "execution_count": 34,
   "metadata": {
    "slideshow": {
     "slide_type": "fragment"
    }
   },
   "outputs": [],
   "source": [
    "def plot_roc(curves):\n",
    "    fig,ax = plt.subplots(1,1,figsize=(6,6))\n",
    "    lw = 2\n",
    "    for fpr,tpr,model_name in curves:\n",
    "        l1, = ax.plot(fpr, tpr, lw=lw, label=model_name)\n",
    "    ax.plot([0, 1], [0, 1], color='k', lw=lw, linestyle='--')\n",
    "    ax.set_xlim([0.0, 1.0])\n",
    "    ax.set_ylim([0.0, 1.05])\n",
    "    ax.set_xlabel('False Positive Rate')\n",
    "    ax.set_ylabel('True Positive Rate')\n",
    "    ax.set_aspect('equal', 'box')\n",
    "    ax.set_title('Receiver operating characteristic example')\n",
    "    ax.legend()"
   ]
  },
  {
   "cell_type": "markdown",
   "metadata": {
    "slideshow": {
     "slide_type": "slide"
    }
   },
   "source": [
    "# Plotting ROC Curves"
   ]
  },
  {
   "cell_type": "code",
   "execution_count": 35,
   "metadata": {
    "slideshow": {
     "slide_type": "fragment"
    }
   },
   "outputs": [
    {
     "data": {
      "image/png": "[encoded data removed]",
      "text/plain": [
       "<Figure size 600x600 with 1 Axes>"
      ]
     },
     "metadata": {},
     "output_type": "display_data"
    }
   ],
   "source": [
    "curves = [(fpr_dtc,tpr_dtc,'dtc2')]\n",
    "fpr_dummyc, tpr_dummyc, _ = roc_curve(y_train_bc, dummyc.predict_proba(X_train_bc)[:,1]) # Compare dummy\n",
    "curves.append((fpr_dummyc,tpr_dummyc,'dummy'));\n",
    "plot_roc(curves);"
   ]
  },
  {
   "cell_type": "markdown",
   "metadata": {
    "slideshow": {
     "slide_type": "slide"
    }
   },
   "source": [
    "# Plotting ROC Curves"
   ]
  },
  {
   "cell_type": "code",
   "execution_count": 36,
   "metadata": {
    "slideshow": {
     "slide_type": "fragment"
    }
   },
   "outputs": [
    {
     "data": {
      "image/png": "[encoded data removed]",
      "text/plain": [
       "<Figure size 600x600 with 1 Axes>"
      ]
     },
     "metadata": {},
     "output_type": "display_data"
    }
   ],
   "source": [
    "for depth in [3,4]: \n",
    "    fpr, tpr, _ = roc_curve(y_train_bc,\n",
    "                            DecisionTreeClassifier(max_depth=depth).fit(X_train_bc,y_train_bc).predict_proba(X_train_bc)[:,1])\n",
    "    curves.append((fpr,tpr,'dtc'+str(depth)))\n",
    "plot_roc(curves);"
   ]
  },
  {
   "cell_type": "markdown",
   "metadata": {
    "slideshow": {
     "slide_type": "slide"
    }
   },
   "source": [
    "# ROC AUC\n",
    "\n",
    "- But again, we'd like one number to optimize\n",
    "- ROC **A**rea **U**nder the **C**urve\n",
    " - How much area falls under the ROC curve?"
   ]
  },
  {
   "cell_type": "code",
   "execution_count": 37,
   "metadata": {
    "slideshow": {
     "slide_type": "fragment"
    }
   },
   "outputs": [
    {
     "name": "stdout",
     "output_type": "stream",
     "text": [
      "dummyc rocauc = 0.50 +- 0.00\n",
      "dtc rocauc    = 0.78 +- 0.22\n"
     ]
    }
   ],
   "source": [
    "dummyc_rocauc_scores = cross_val_score(dummyc,X_train_bc,y_train_bc,cv=5,scoring='roc_auc')\n",
    "dtc_rocauc_scores = cross_val_score(dtc,X_train_bc,y_train_bc,cv=5,scoring='roc_auc')\n",
    "\n",
    "print(f'dummyc rocauc = {np.mean(dummyc_rocauc_scores).round(2):0.2f} +- {2*np.std(dummyc_rocauc_scores).round(2):0.2f}')\n",
    "print(f'dtc rocauc    = {np.mean(dtc_rocauc_scores).round(2):0.2f} +- {2*np.std(dtc_rocauc_scores).round(2):0.2f}')"
   ]
  },
  {
   "cell_type": "markdown",
   "metadata": {
    "slideshow": {
     "slide_type": "slide"
    }
   },
   "source": [
    "# Review: Steps to Choosing a Model\n",
    "\n",
    "1. Create Held-Aside Set (Train/Test Split)\n",
    "2. Determine Metric to use (or combination of metrics)\n",
    "3. Get a Baseline for comparison\n",
    "3. Use Cross-Validation to fit Hyperparameters and Choose Model\n",
    "3. Evaluate Chosen Model on Held-Aside Set\n",
    "<br>\n",
    "<br>\n",
    "\n",
    "<div align=\"center\"><img src=\"images/train_tune_test.png\" width=\"600px\"></div>\n",
    "<font size=4>From PML</font>"
   ]
  },
  {
   "cell_type": "markdown",
   "metadata": {
    "slideshow": {
     "slide_type": "slide"
    }
   },
   "source": [
    "# Avoiding Overfitting in Linear Models: Regularization\n",
    "<br>\n",
    "\n",
    "- Use to avoid overfitting in linear models\n",
    "- Idea: can we reduce complexity of our linear model by minimizing weights?\n",
    "<br>\n",
    "\n",
    "<div align=\"center\"><img src=\"images/Regularization.png\" width=\"600px\"></div>\n",
    "    \n",
    "From https://www.wikiwand.com/en/Regularization_(mathematics)"
   ]
  },
  {
   "cell_type": "markdown",
   "metadata": {
    "slideshow": {
     "slide_type": "slide"
    }
   },
   "source": [
    "# Regression: Finding the Weights\n",
    "<br>\n",
    "\n",
    "- Linear models learn by finding weights that minimize a cost.\n",
    "- Can we get close to the solution while still keeping weights small (simpler model)?\n",
    "<br>\n",
    "<br>\n",
    "\n",
    "<div align=\"center\"><img src=\"images/regularization_minimizecost.png\" width=\"700px\"></div>\n",
    "\n",
    "From PML"
   ]
  },
  {
   "cell_type": "markdown",
   "metadata": {
    "slideshow": {
     "slide_type": "slide"
    }
   },
   "source": [
    "# Regularization: Add a cost for large weights\n",
    "<br>\n",
    "\n",
    "Goal: Penalize extreme weights (w)\n",
    "\n",
    "If the original cost function looks like:\n",
    "\n",
    "<center>$\\arg\\min_w C(f(w,x),y)$</center>\n",
    "\n",
    "we can add a **regularization term**:\n",
    "\n",
    "<center>$\\arg\\min_w C(f(w,x),y)+\\lambda g(w)$</center>"
   ]
  },
  {
   "cell_type": "markdown",
   "metadata": {
    "slideshow": {
     "slide_type": "slide"
    }
   },
   "source": [
    "# Regularization: Ridge\n",
    "\n",
    "- Goal: \n",
    " - Keep all coefficeints relatively small\n",
    " - Drive coefficients of uninformative features to be smaller\n",
    "- Uses $L_2$ norm: $\\Vert w\\Vert_2 = \\sqrt{\\sum_{j=1}^m w_j^2}$\n",
    "\n",
    "<div align=\"center\"><img src=\"images/regularization_L2.png\" width=\"700px\"></div>\n",
    "\n",
    "From PML"
   ]
  },
  {
   "cell_type": "markdown",
   "metadata": {
    "slideshow": {
     "slide_type": "slide"
    }
   },
   "source": [
    "# Regularization: LASSO\n",
    "\n",
    "- Goal: \n",
    " - Keep all coefficeints relatively small\n",
    " - Drive coefficients of unhelpful features to zero\n",
    "- Uses $L_1$ norm: $\\Vert w\\Vert_1 = \\sum_{j=1}^m \\mid w_j \\mid$\n",
    "\n",
    "<div align=\"center\"><img src=\"images/regularization_L1.png\" width=\"700px\"></div>\n",
    "\n",
    "From PML"
   ]
  },
  {
   "cell_type": "markdown",
   "metadata": {
    "slideshow": {
     "slide_type": "slide"
    }
   },
   "source": [
    "# Regularization: ElasticNet\n",
    "\n",
    "- Mixture of $L_1$ and $L_2$\n",
    "- $\\alpha L_1 + (1-\\alpha)L_2$\n",
    "<br>\n",
    "\n",
    "- introduces a new hyperparameter $\\alpha$ or `l1_ratio`\n",
    "- $\\text{l1_ratio} = 1$ is LASSO ($L_1$)\n",
    "- $\\text{l1_ratio} = 0$ is Ridge ($L_2$)"
   ]
  },
  {
   "cell_type": "markdown",
   "metadata": {
    "slideshow": {
     "slide_type": "slide"
    }
   },
   "source": [
    "# Regularization in sklearn"
   ]
  },
  {
   "cell_type": "code",
   "execution_count": 38,
   "metadata": {
    "slideshow": {
     "slide_type": "fragment"
    }
   },
   "outputs": [],
   "source": [
    "from sklearn.linear_model import LogisticRegression\n",
    "\n",
    "logr = LogisticRegression(penalty='l2', # default\n",
    "                          C=1.0,        # weight on regularization, 1/lambda above\n",
    "                          l1_ratio=None # only used when penalty is 'elasticnet'\n",
    "                         )"
   ]
  },
  {
   "cell_type": "code",
   "execution_count": 39,
   "metadata": {
    "slideshow": {
     "slide_type": "fragment"
    }
   },
   "outputs": [
    {
     "name": "stdout",
     "output_type": "stream",
     "text": [
      "0.001 : [ 0.02 -0.02]\n",
      "0.1   : [ 0.69 -0.57]\n",
      "1     : [ 1.09 -0.93]\n",
      "10    : [ 1.19 -1.02]\n",
      "1000  : [ 1.2  -1.03]\n"
     ]
    }
   ],
   "source": [
    "for C in [.001,.1,1,10,1000]:\n",
    "    logr = LogisticRegression(penalty='l2', # default\n",
    "                              C=C,          # weight on regularization, 1/lambda above\n",
    "                         ).fit(X_train_bc,y_train_bc)\n",
    "    print(f'{str(C):5s} : {logr.coef_[0].round(2)}')"
   ]
  },
  {
   "cell_type": "code",
   "execution_count": 40,
   "metadata": {
    "slideshow": {
     "slide_type": "fragment"
    }
   },
   "outputs": [
    {
     "name": "stdout",
     "output_type": "stream",
     "text": [
      "0.001 : [0. 0.]\n",
      "0.1   : [ 0.5  -0.37]\n",
      "1     : [ 1.08 -0.92]\n",
      "10    : [ 1.19 -1.02]\n",
      "1000  : [ 1.2  -1.03]\n"
     ]
    }
   ],
   "source": [
    "for C in [.001,.1,1,10,1000]:\n",
    "    logr = LogisticRegression(penalty='l1',\n",
    "                              C=C,          # weight on regularization, 1/lambda above\n",
    "                              solver='liblinear'\n",
    "                         ).fit(X_train_bc,y_train_bc)\n",
    "    print(f'{str(C):5s} : {logr.coef_[0].round(2)}')"
   ]
  },
  {
   "cell_type": "markdown",
   "metadata": {
    "slideshow": {
     "slide_type": "slide"
    }
   },
   "source": [
    "# GridSearchCV with Regularization"
   ]
  },
  {
   "cell_type": "code",
   "execution_count": 41,
   "metadata": {
    "slideshow": {
     "slide_type": "fragment"
    }
   },
   "outputs": [
    {
     "name": "stdout",
     "output_type": "stream",
     "text": [
      "best parameter setting found: {'C': 1, 'l1_ratio': 1}\n",
      "best coefficients found     : [ 1.1  -0.93]\n",
      "best training score found   : 0.825\n",
      "\n",
      "logr_gscv test score  : 0.818\n",
      "logr noreg test score : 0.818\n"
     ]
    }
   ],
   "source": [
    "param_grid = {'l1_ratio':[0,.5,1],\n",
    "              'C': [.001,.01,1,10]}\n",
    "logr_gscv = GridSearchCV(estimator=LogisticRegression(penalty='elasticnet',solver='saga'),\n",
    "                         param_grid=param_grid,\n",
    "                         cv=3,\n",
    "                         n_jobs=-1).fit(X_train_bc,y_train_bc)\n",
    "\n",
    "print(f'best parameter setting found: {logr_gscv.best_params_}')\n",
    "print(f'best coefficients found     : {logr_gscv.best_estimator_.coef_[0].round(2)}')\n",
    "print(f'best training score found   : {logr_gscv.best_score_.round(3)}')\n",
    "\n",
    "logr_gscv_test_score = logr_gscv.score(X_test_bc,y_test_bc)\n",
    "logr_noreg_test_score = (LogisticRegression(penalty='none')\n",
    "                         .fit(X_train_bc,y_train_bc)\n",
    "                         .score(X_test_bc,y_test_bc)\n",
    "                        )\n",
    "print()\n",
    "print(f'logr_gscv test score  : {logr_gscv_test_score.round(3)}')\n",
    "print(f'logr noreg test score : {logr_noreg_test_score.round(3)}')\n"
   ]
  },
  {
   "cell_type": "markdown",
   "metadata": {
    "slideshow": {
     "slide_type": "slide"
    }
   },
   "source": [
    "# ElasticNetCV"
   ]
  },
  {
   "cell_type": "code",
   "execution_count": 42,
   "metadata": {
    "slideshow": {
     "slide_type": "fragment"
    }
   },
   "outputs": [
    {
     "name": "stdout",
     "output_type": "stream",
     "text": [
      "found alpha: 1.0, found l1_ratio: 0.5\n",
      "\n",
      "dummy_synth train:  0.00\n",
      "lr_synth train   :  1.00\n",
      "en_synth train   :  0.95\n",
      "\n",
      "dummy_synth test : -0.00\n",
      "lr_synth test    :  0.15\n",
      "en_synth test    :  0.24\n"
     ]
    }
   ],
   "source": [
    "from sklearn.datasets import make_regression\n",
    "from sklearn.linear_model import ElasticNetCV\n",
    "\n",
    "X_synth,y_synth = make_regression(n_samples=100,\n",
    "                                  n_features=200,\n",
    "                                  n_informative=10,\n",
    "                                  random_state=123\n",
    "                                 )\n",
    "X_synth_train,X_synth_test,y_synth_train,y_synth_test = train_test_split(X_synth, y_synth, random_state=123)\n",
    "\n",
    "dummy_synth = DummyRegressor(strategy='mean').fit(X_synth_train,y_synth_train)\n",
    "lr_synth = LinearRegression().fit(X_synth_train,y_synth_train)\n",
    "en_synth = ElasticNetCV(alphas=[.01,.1,1,100]).fit(X_synth_train,y_synth_train)\n",
    "\n",
    "print(f'found alpha: {en_synth.alpha_}, found l1_ratio: {en_synth.l1_ratio_}\\n')\n",
    "print(f'dummy_synth train: {dummy_synth.score(X_synth_train,y_synth_train).round(2) : 0.2f}')\n",
    "print(f'lr_synth train   : {lr_synth.score(X_synth_train,y_synth_train).round(2)    : 0.2f}')\n",
    "print(f'en_synth train   : {en_synth.score(X_synth_train,y_synth_train).round(2)    : 0.2f}\\n')\n",
    "print(f'dummy_synth test : {dummy_synth.score(X_synth_test,y_synth_test).round(2)   : 0.2f}')\n",
    "print(f'lr_synth test    : {lr_synth.score(X_synth_test,y_synth_test).round(2)      : 0.2f}')\n",
    "print(f'en_synth test    : {en_synth.score(X_synth_test,y_synth_test).round(2)      : 0.2f}')"
   ]
  },
  {
   "cell_type": "markdown",
   "metadata": {
    "slideshow": {
     "slide_type": "slide"
    }
   },
   "source": [
    "<br>\n",
    "<br>\n",
    "\n",
    "# <center>Questions?</center>\n",
    "<br>\n",
    "<br>"
   ]
  }
 ],
 "metadata": {
  "celltoolbar": "Slideshow",
  "kernelspec": {
   "display_name": "eods-f22",
   "language": "python",
   "name": "eods-f22"
  },
  "language_info": {
   "codemirror_mode": {
    "name": "ipython",
    "version": 3
   },
   "file_extension": ".py",
   "mimetype": "text/x-python",
   "name": "python",
   "nbconvert_exporter": "python",
   "pygments_lexer": "ipython3",
   "version": "3.10.6"
  },
  "toc": {
   "base_numbering": 1,
   "nav_menu": {},
   "number_sections": false,
   "sideBar": true,
   "skip_h1_title": false,
   "title_cell": "Table of Contents",
   "title_sidebar": "Contents",
   "toc_cell": false,
   "toc_position": {},
   "toc_section_display": true,
   "toc_window_display": false
  }
 },
 "nbformat": 4,
 "nbformat_minor": 4
}
