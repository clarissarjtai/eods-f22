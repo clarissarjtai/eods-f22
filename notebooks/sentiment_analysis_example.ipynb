{
 "cells": [
  {
   "cell_type": "code",
   "execution_count": 1,
   "metadata": {},
   "outputs": [],
   "source": [
    "import pandas as pd\n",
    "import numpy as np\n",
    "import matplotlib.pyplot\n",
    "import glob\n",
    "import requests\n",
    "import tarfile\n",
    "import tqdm\n",
    "import os"
   ]
  },
  {
   "cell_type": "markdown",
   "metadata": {},
   "source": [
    "## From: Python Machine Learning by Raschka and Mirjalili"
   ]
  },
  {
   "cell_type": "markdown",
   "metadata": {},
   "source": [
    "---"
   ]
  },
  {
   "cell_type": "markdown",
   "metadata": {},
   "source": [
    "## Get the data"
   ]
  },
  {
   "cell_type": "code",
   "execution_count": 2,
   "metadata": {},
   "outputs": [],
   "source": [
    "# only need to rerun if csv's are not in ../data\n",
    "\n",
    "imdb_url = 'http://ai.stanford.edu/~amaas/data/sentiment/'\n",
    "imdb_tar = 'aclImdb_v1.tar.gz'\n",
    "data_base = '../data/'\n",
    "imdb_base = 'aclImdb'\n",
    "imdb_csv = 'acl_imdb_data.csv'\n",
    "\n",
    "if not glob.glob(os.path.join(data_base,imdb_tar)):\n",
    "    req = requests.get(imdb_url+imdb_tar)\n",
    "    open('../data/'+imdb_tar,'wb').write(req.content)\n",
    "\n",
    "if not glob.glob(os.path.join(data_base,imdb_base)):\n",
    "    with tarfile.open(os.path.join(data_base,imdb_tar),'r:gz') as tar:\n",
    "            tar.extractall(path=data_base)\n",
    "if not glob.glob(os.path.join(data_base,imdb_csv)):\n",
    "    labels = {'pos':1,'neg':0}\n",
    "    df = pd.DataFrame()\n",
    "    with tqdm.tqdm(total=50000) as pbar:\n",
    "        for s in ('test','train'):\n",
    "            for l in ('pos','neg'):\n",
    "                path = os.path.join(data_base,imdb_base,s,l)\n",
    "                for file in sorted(os.listdir(path)):\n",
    "                    with open(os.path.join(path,file),\n",
    "                              'r', encoding='utf-8') as infile:\n",
    "                        txt = infile.read()\n",
    "                    df = df.append([[txt, labels[l]]],ignore_index=True)\n",
    "                    pbar.update()\n",
    "    df.columns = ['review','sentiment']\n",
    "    \n",
    "    np.random.seed(0)\n",
    "    df = df.reindex(np.random.permutation(df.index))\n",
    "    df.to_csv('../data/acl_imdb_data.csv',index=False,encoding='utf-8')"
   ]
  },
  {
   "cell_type": "code",
   "execution_count": 3,
   "metadata": {},
   "outputs": [
    {
     "name": "stdout",
     "output_type": "stream",
     "text": [
      "<class 'pandas.core.frame.DataFrame'>\n",
      "RangeIndex: 50000 entries, 0 to 49999\n",
      "Data columns (total 2 columns):\n",
      " #   Column     Non-Null Count  Dtype \n",
      "---  ------     --------------  ----- \n",
      " 0   review     50000 non-null  object\n",
      " 1   sentiment  50000 non-null  int64 \n",
      "dtypes: int64(1), object(1)\n",
      "memory usage: 781.4+ KB\n"
     ]
    }
   ],
   "source": [
    "df = pd.read_csv('../data/acl_imdb_data.csv',encoding='utf-8')\n",
    "df.info()"
   ]
  },
  {
   "cell_type": "code",
   "execution_count": 4,
   "metadata": {},
   "outputs": [
    {
     "data": {
      "text/html": [
       "<div>\n",
       "<style scoped>\n",
       "    .dataframe tbody tr th:only-of-type {\n",
       "        vertical-align: middle;\n",
       "    }\n",
       "\n",
       "    .dataframe tbody tr th {\n",
       "        vertical-align: top;\n",
       "    }\n",
       "\n",
       "    .dataframe thead th {\n",
       "        text-align: right;\n",
       "    }\n",
       "</style>\n",
       "<table border=\"1\" class=\"dataframe\">\n",
       "  <thead>\n",
       "    <tr style=\"text-align: right;\">\n",
       "      <th></th>\n",
       "      <th>review</th>\n",
       "      <th>sentiment</th>\n",
       "    </tr>\n",
       "  </thead>\n",
       "  <tbody>\n",
       "    <tr>\n",
       "      <th>0</th>\n",
       "      <td>In 1974, the teenager Martha Moxley (Maggie Gr...</td>\n",
       "      <td>1</td>\n",
       "    </tr>\n",
       "    <tr>\n",
       "      <th>1</th>\n",
       "      <td>OK... so... I really like Kris Kristofferson a...</td>\n",
       "      <td>0</td>\n",
       "    </tr>\n",
       "    <tr>\n",
       "      <th>2</th>\n",
       "      <td>***SPOILER*** Do not read this, if you think a...</td>\n",
       "      <td>0</td>\n",
       "    </tr>\n",
       "  </tbody>\n",
       "</table>\n",
       "</div>"
      ],
      "text/plain": [
       "                                              review  sentiment\n",
       "0  In 1974, the teenager Martha Moxley (Maggie Gr...          1\n",
       "1  OK... so... I really like Kris Kristofferson a...          0\n",
       "2  ***SPOILER*** Do not read this, if you think a...          0"
      ]
     },
     "execution_count": 4,
     "metadata": {},
     "output_type": "execute_result"
    }
   ],
   "source": [
    "df.head(3)"
   ]
  },
  {
   "cell_type": "markdown",
   "metadata": {},
   "source": [
    "---"
   ]
  },
  {
   "cell_type": "markdown",
   "metadata": {},
   "source": [
    "## Transform Data"
   ]
  },
  {
   "cell_type": "code",
   "execution_count": 5,
   "metadata": {},
   "outputs": [
    {
     "data": {
      "text/plain": [
       "'OK... so... I really like Kris Kristofferson and his'"
      ]
     },
     "execution_count": 5,
     "metadata": {},
     "output_type": "execute_result"
    }
   ],
   "source": [
    "test_doc = df.loc[1,'review'][:52]\n",
    "test_doc"
   ]
  },
  {
   "cell_type": "code",
   "execution_count": 6,
   "metadata": {},
   "outputs": [],
   "source": [
    "# preprocess the text to remove html tags, normalize emoticons, remove other non-word characters and lowercase\n",
    "import re\n",
    "def preprocessor(text):\n",
    "    text = re.sub('<[^>]*>','',text)                             # remove html tags\n",
    "    emoticons = re.findall('(?::|;|=)(?:-)?(?:\\)|\\(|D|P)',text)  # find emoticons, see https://regex101.com/\n",
    "    # remove non-word chars, lowercase, add back in emoticons\n",
    "    text = (re.sub('[\\W]+',' ',text.lower()) + ' '.join(emoticons).replace('-','')) \n",
    "    return text"
   ]
  },
  {
   "cell_type": "code",
   "execution_count": 7,
   "metadata": {},
   "outputs": [
    {
     "data": {
      "text/plain": [
       "'this is a test :) :( :)'"
      ]
     },
     "execution_count": 7,
     "metadata": {},
     "output_type": "execute_result"
    }
   ],
   "source": [
    "preprocessor(\"</a>This :) is :( a test :-)!\")"
   ]
  },
  {
   "cell_type": "code",
   "execution_count": 8,
   "metadata": {},
   "outputs": [
    {
     "data": {
      "text/plain": [
       "'ok so i really like kris kristofferson and his'"
      ]
     },
     "execution_count": 8,
     "metadata": {},
     "output_type": "execute_result"
    }
   ],
   "source": [
    "preprocessor(test_doc)"
   ]
  },
  {
   "cell_type": "code",
   "execution_count": 9,
   "metadata": {},
   "outputs": [],
   "source": [
    "# We'll do this once here to speed up the grid search later on\n",
    "df['review_processed'] = df.review.apply(preprocessor)"
   ]
  },
  {
   "cell_type": "code",
   "execution_count": 10,
   "metadata": {},
   "outputs": [
    {
     "data": {
      "text/plain": [
       "'ok so i really like kris kristofferson and his'"
      ]
     },
     "execution_count": 10,
     "metadata": {},
     "output_type": "execute_result"
    }
   ],
   "source": [
    "test_doc_processed = preprocessor(test_doc)\n",
    "test_doc_processed"
   ]
  },
  {
   "cell_type": "markdown",
   "metadata": {},
   "source": [
    "## Different Tokenizers"
   ]
  },
  {
   "cell_type": "code",
   "execution_count": 11,
   "metadata": {},
   "outputs": [
    {
     "data": {
      "text/plain": [
       "['ok', 'so', 'i', 'really', 'like', 'kris', 'kristofferson', 'and', 'his']"
      ]
     },
     "execution_count": 11,
     "metadata": {},
     "output_type": "execute_result"
    }
   ],
   "source": [
    "def tokenizer_split(text):\n",
    "    return text.split() # split on whitespace\n",
    "\n",
    "tokenizer_split(preprocessor(test_doc_processed))"
   ]
  },
  {
   "cell_type": "code",
   "execution_count": 12,
   "metadata": {},
   "outputs": [
    {
     "data": {
      "text/plain": [
       "['ok', 'so', 'i', 'realli', 'like', 'kri', 'kristofferson', 'and', 'hi']"
      ]
     },
     "execution_count": 12,
     "metadata": {},
     "output_type": "execute_result"
    }
   ],
   "source": [
    "# need to run: conda install -n eods-s22 nltk\n",
    "from nltk.stem.porter import PorterStemmer\n",
    "\n",
    "porter = PorterStemmer()\n",
    "def tokenizer_split_porter(text):\n",
    "    return [porter.stem(word) for word in tokenizer_split(text)]\n",
    "\n",
    "tokenizer_split_porter(test_doc_processed)"
   ]
  },
  {
   "cell_type": "markdown",
   "metadata": {},
   "source": [
    "---"
   ]
  },
  {
   "cell_type": "markdown",
   "metadata": {},
   "source": [
    "## Train Model"
   ]
  },
  {
   "cell_type": "code",
   "execution_count": 13,
   "metadata": {},
   "outputs": [],
   "source": [
    "from sklearn.model_selection import train_test_split\n",
    "\n",
    "X_train,X_test,y_train,y_test = train_test_split(df.review_processed,df.sentiment)"
   ]
  },
  {
   "cell_type": "code",
   "execution_count": 14,
   "metadata": {},
   "outputs": [],
   "source": [
    "from sklearn.model_selection import GridSearchCV\n",
    "from sklearn.pipeline import Pipeline\n",
    "from sklearn.linear_model import LogisticRegression\n",
    "from sklearn.feature_extraction.text import TfidfVectorizer\n",
    "\n",
    "tfidf = TfidfVectorizer(strip_accents=None,\n",
    "                        lowercase=False,\n",
    "                        preprocessor=None)\n",
    "\n",
    "lr_tfidf = Pipeline([('vect',tfidf),\n",
    "                     ('clf',LogisticRegression(random_state=0,solver='liblinear'))])"
   ]
  },
  {
   "cell_type": "code",
   "execution_count": 15,
   "metadata": {},
   "outputs": [
    {
     "name": "stdout",
     "output_type": "stream",
     "text": [
      "Fitting 3 folds for each of 72 candidates, totalling 216 fits\n",
      "CPU times: user 36.5 s, sys: 37.5 s, total: 1min 13s\n",
      "Wall time: 1h 30min 56s\n"
     ]
    },
    {
     "data": {
      "text/html": [
       "<style>#sk-container-id-1 {color: black;background-color: white;}#sk-container-id-1 pre{padding: 0;}#sk-container-id-1 div.sk-toggleable {background-color: white;}#sk-container-id-1 label.sk-toggleable__label {cursor: pointer;display: block;width: 100%;margin-bottom: 0;padding: 0.3em;box-sizing: border-box;text-align: center;}#sk-container-id-1 label.sk-toggleable__label-arrow:before {content: \"▸\";float: left;margin-right: 0.25em;color: #696969;}#sk-container-id-1 label.sk-toggleable__label-arrow:hover:before {color: black;}#sk-container-id-1 div.sk-estimator:hover label.sk-toggleable__label-arrow:before {color: black;}#sk-container-id-1 div.sk-toggleable__content {max-height: 0;max-width: 0;overflow: hidden;text-align: left;background-color: #f0f8ff;}#sk-container-id-1 div.sk-toggleable__content pre {margin: 0.2em;color: black;border-radius: 0.25em;background-color: #f0f8ff;}#sk-container-id-1 input.sk-toggleable__control:checked~div.sk-toggleable__content {max-height: 200px;max-width: 100%;overflow: auto;}#sk-container-id-1 input.sk-toggleable__control:checked~label.sk-toggleable__label-arrow:before {content: \"▾\";}#sk-container-id-1 div.sk-estimator input.sk-toggleable__control:checked~label.sk-toggleable__label {background-color: #d4ebff;}#sk-container-id-1 div.sk-label input.sk-toggleable__control:checked~label.sk-toggleable__label {background-color: #d4ebff;}#sk-container-id-1 input.sk-hidden--visually {border: 0;clip: rect(1px 1px 1px 1px);clip: rect(1px, 1px, 1px, 1px);height: 1px;margin: -1px;overflow: hidden;padding: 0;position: absolute;width: 1px;}#sk-container-id-1 div.sk-estimator {font-family: monospace;background-color: #f0f8ff;border: 1px dotted black;border-radius: 0.25em;box-sizing: border-box;margin-bottom: 0.5em;}#sk-container-id-1 div.sk-estimator:hover {background-color: #d4ebff;}#sk-container-id-1 div.sk-parallel-item::after {content: \"\";width: 100%;border-bottom: 1px solid gray;flex-grow: 1;}#sk-container-id-1 div.sk-label:hover label.sk-toggleable__label {background-color: #d4ebff;}#sk-container-id-1 div.sk-serial::before {content: \"\";position: absolute;border-left: 1px solid gray;box-sizing: border-box;top: 0;bottom: 0;left: 50%;z-index: 0;}#sk-container-id-1 div.sk-serial {display: flex;flex-direction: column;align-items: center;background-color: white;padding-right: 0.2em;padding-left: 0.2em;position: relative;}#sk-container-id-1 div.sk-item {position: relative;z-index: 1;}#sk-container-id-1 div.sk-parallel {display: flex;align-items: stretch;justify-content: center;background-color: white;position: relative;}#sk-container-id-1 div.sk-item::before, #sk-container-id-1 div.sk-parallel-item::before {content: \"\";position: absolute;border-left: 1px solid gray;box-sizing: border-box;top: 0;bottom: 0;left: 50%;z-index: -1;}#sk-container-id-1 div.sk-parallel-item {display: flex;flex-direction: column;z-index: 1;position: relative;background-color: white;}#sk-container-id-1 div.sk-parallel-item:first-child::after {align-self: flex-end;width: 50%;}#sk-container-id-1 div.sk-parallel-item:last-child::after {align-self: flex-start;width: 50%;}#sk-container-id-1 div.sk-parallel-item:only-child::after {width: 0;}#sk-container-id-1 div.sk-dashed-wrapped {border: 1px dashed gray;margin: 0 0.4em 0.5em 0.4em;box-sizing: border-box;padding-bottom: 0.4em;background-color: white;}#sk-container-id-1 div.sk-label label {font-family: monospace;font-weight: bold;display: inline-block;line-height: 1.2em;}#sk-container-id-1 div.sk-label-container {text-align: center;}#sk-container-id-1 div.sk-container {/* jupyter's `normalize.less` sets `[hidden] { display: none; }` but bootstrap.min.css set `[hidden] { display: none !important; }` so we also need the `!important` here to be able to override the default hidden behavior on the sphinx rendered scikit-learn.org. See: https://github.com/scikit-learn/scikit-learn/issues/21755 */display: inline-block !important;position: relative;}#sk-container-id-1 div.sk-text-repr-fallback {display: none;}</style><div id=\"sk-container-id-1\" class=\"sk-top-container\"><div class=\"sk-text-repr-fallback\"><pre>GridSearchCV(cv=3,\n",
       "             estimator=Pipeline(steps=[(&#x27;vect&#x27;,\n",
       "                                        TfidfVectorizer(lowercase=False)),\n",
       "                                       (&#x27;clf&#x27;,\n",
       "                                        LogisticRegression(random_state=0,\n",
       "                                                           solver=&#x27;liblinear&#x27;))]),\n",
       "             n_jobs=-1,\n",
       "             param_grid=[{&#x27;clf__C&#x27;: [1.0, 10.0, 100.0],\n",
       "                          &#x27;clf__penalty&#x27;: [&#x27;l1&#x27;, &#x27;l2&#x27;],\n",
       "                          &#x27;vect__max_df&#x27;: [0.25, 0.5, 0.75],\n",
       "                          &#x27;vect__ngram_range&#x27;: [(1, 1)],\n",
       "                          &#x27;vect__tokenizer&#x27;: [&lt;function tokenizer_split at 0x7f12a44e05e0&gt;,\n",
       "                                              &lt;function tokenizer_split_porter at 0x7f12a44e0940&gt;]},\n",
       "                         {&#x27;clf__C&#x27;: [1.0, 10.0, 100.0],\n",
       "                          &#x27;clf__penalty&#x27;: [&#x27;l1&#x27;, &#x27;l2&#x27;],\n",
       "                          &#x27;vect__max_df&#x27;: [0.25, 0.5, 0.75],\n",
       "                          &#x27;vect__ngram_range&#x27;: [(1, 1)], &#x27;vect__norm&#x27;: [None],\n",
       "                          &#x27;vect__tokenizer&#x27;: [&lt;function tokenizer_split at 0x7f12a44e05e0&gt;,\n",
       "                                              &lt;function tokenizer_split_porter at 0x7f12a44e0940&gt;],\n",
       "                          &#x27;vect__use_idf&#x27;: [False]}],\n",
       "             scoring=&#x27;accuracy&#x27;, verbose=2)</pre><b>In a Jupyter environment, please rerun this cell to show the HTML representation or trust the notebook. <br />On GitHub, the HTML representation is unable to render, please try loading this page with nbviewer.org.</b></div><div class=\"sk-container\" hidden><div class=\"sk-item sk-dashed-wrapped\"><div class=\"sk-label-container\"><div class=\"sk-label sk-toggleable\"><input class=\"sk-toggleable__control sk-hidden--visually\" id=\"sk-estimator-id-1\" type=\"checkbox\" ><label for=\"sk-estimator-id-1\" class=\"sk-toggleable__label sk-toggleable__label-arrow\">GridSearchCV</label><div class=\"sk-toggleable__content\"><pre>GridSearchCV(cv=3,\n",
       "             estimator=Pipeline(steps=[(&#x27;vect&#x27;,\n",
       "                                        TfidfVectorizer(lowercase=False)),\n",
       "                                       (&#x27;clf&#x27;,\n",
       "                                        LogisticRegression(random_state=0,\n",
       "                                                           solver=&#x27;liblinear&#x27;))]),\n",
       "             n_jobs=-1,\n",
       "             param_grid=[{&#x27;clf__C&#x27;: [1.0, 10.0, 100.0],\n",
       "                          &#x27;clf__penalty&#x27;: [&#x27;l1&#x27;, &#x27;l2&#x27;],\n",
       "                          &#x27;vect__max_df&#x27;: [0.25, 0.5, 0.75],\n",
       "                          &#x27;vect__ngram_range&#x27;: [(1, 1)],\n",
       "                          &#x27;vect__tokenizer&#x27;: [&lt;function tokenizer_split at 0x7f12a44e05e0&gt;,\n",
       "                                              &lt;function tokenizer_split_porter at 0x7f12a44e0940&gt;]},\n",
       "                         {&#x27;clf__C&#x27;: [1.0, 10.0, 100.0],\n",
       "                          &#x27;clf__penalty&#x27;: [&#x27;l1&#x27;, &#x27;l2&#x27;],\n",
       "                          &#x27;vect__max_df&#x27;: [0.25, 0.5, 0.75],\n",
       "                          &#x27;vect__ngram_range&#x27;: [(1, 1)], &#x27;vect__norm&#x27;: [None],\n",
       "                          &#x27;vect__tokenizer&#x27;: [&lt;function tokenizer_split at 0x7f12a44e05e0&gt;,\n",
       "                                              &lt;function tokenizer_split_porter at 0x7f12a44e0940&gt;],\n",
       "                          &#x27;vect__use_idf&#x27;: [False]}],\n",
       "             scoring=&#x27;accuracy&#x27;, verbose=2)</pre></div></div></div><div class=\"sk-parallel\"><div class=\"sk-parallel-item\"><div class=\"sk-item\"><div class=\"sk-label-container\"><div class=\"sk-label sk-toggleable\"><input class=\"sk-toggleable__control sk-hidden--visually\" id=\"sk-estimator-id-2\" type=\"checkbox\" ><label for=\"sk-estimator-id-2\" class=\"sk-toggleable__label sk-toggleable__label-arrow\">estimator: Pipeline</label><div class=\"sk-toggleable__content\"><pre>Pipeline(steps=[(&#x27;vect&#x27;, TfidfVectorizer(lowercase=False)),\n",
       "                (&#x27;clf&#x27;,\n",
       "                 LogisticRegression(random_state=0, solver=&#x27;liblinear&#x27;))])</pre></div></div></div><div class=\"sk-serial\"><div class=\"sk-item\"><div class=\"sk-serial\"><div class=\"sk-item\"><div class=\"sk-estimator sk-toggleable\"><input class=\"sk-toggleable__control sk-hidden--visually\" id=\"sk-estimator-id-3\" type=\"checkbox\" ><label for=\"sk-estimator-id-3\" class=\"sk-toggleable__label sk-toggleable__label-arrow\">TfidfVectorizer</label><div class=\"sk-toggleable__content\"><pre>TfidfVectorizer(lowercase=False)</pre></div></div></div><div class=\"sk-item\"><div class=\"sk-estimator sk-toggleable\"><input class=\"sk-toggleable__control sk-hidden--visually\" id=\"sk-estimator-id-4\" type=\"checkbox\" ><label for=\"sk-estimator-id-4\" class=\"sk-toggleable__label sk-toggleable__label-arrow\">LogisticRegression</label><div class=\"sk-toggleable__content\"><pre>LogisticRegression(random_state=0, solver=&#x27;liblinear&#x27;)</pre></div></div></div></div></div></div></div></div></div></div></div></div>"
      ],
      "text/plain": [
       "GridSearchCV(cv=3,\n",
       "             estimator=Pipeline(steps=[('vect',\n",
       "                                        TfidfVectorizer(lowercase=False)),\n",
       "                                       ('clf',\n",
       "                                        LogisticRegression(random_state=0,\n",
       "                                                           solver='liblinear'))]),\n",
       "             n_jobs=-1,\n",
       "             param_grid=[{'clf__C': [1.0, 10.0, 100.0],\n",
       "                          'clf__penalty': ['l1', 'l2'],\n",
       "                          'vect__max_df': [0.25, 0.5, 0.75],\n",
       "                          'vect__ngram_range': [(1, 1)],\n",
       "                          'vect__tokenizer': [<function tokenizer_split at 0x7f12a44e05e0>,\n",
       "                                              <function tokenizer_split_porter at 0x7f12a44e0940>]},\n",
       "                         {'clf__C': [1.0, 10.0, 100.0],\n",
       "                          'clf__penalty': ['l1', 'l2'],\n",
       "                          'vect__max_df': [0.25, 0.5, 0.75],\n",
       "                          'vect__ngram_range': [(1, 1)], 'vect__norm': [None],\n",
       "                          'vect__tokenizer': [<function tokenizer_split at 0x7f12a44e05e0>,\n",
       "                                              <function tokenizer_split_porter at 0x7f12a44e0940>],\n",
       "                          'vect__use_idf': [False]}],\n",
       "             scoring='accuracy', verbose=2)"
      ]
     },
     "execution_count": 15,
     "metadata": {},
     "output_type": "execute_result"
    }
   ],
   "source": [
    "%%time\n",
    "# NOTE!! This step takes a long time: ~1.5 hours on 8-core i7 @ 1.8 GHz\n",
    "\n",
    "# try with two different parameter grids, one using tfidf, the other only tf\n",
    "param_grid = [\n",
    "    {'vect__ngram_range': [(1,1)],\n",
    "     'vect__max_df':[.25,.5,.75],\n",
    "     'vect__tokenizer': [tokenizer_split,tokenizer_split_porter], # try with and without stemming\n",
    "     'clf__penalty': ['l1','l2'],\n",
    "     'clf__C':[1.0,10.0,100.0],\n",
    "    },\n",
    "    \n",
    "    {'vect__ngram_range': [(1,1)],\n",
    "     'vect__max_df':[.25,.5,.75],\n",
    "     'vect__tokenizer': [tokenizer_split,tokenizer_split_porter],\n",
    "     'vect__use_idf': [False],                        # try using term frequencies without tf-idf\n",
    "     'vect__norm': [None],                            # turn off norming when using tf\n",
    "     'clf__penalty':['l1','l2'],\n",
    "     'clf__C': [1.0,10.0,100.0]\n",
    "    }\n",
    "]\n",
    "\n",
    "gs_lr_tfidf = GridSearchCV(lr_tfidf, param_grid, scoring='accuracy', cv=3, verbose=2, n_jobs=-1)\n",
    "gs_lr_tfidf.fit(X_train,y_train)"
   ]
  },
  {
   "cell_type": "code",
   "execution_count": 16,
   "metadata": {},
   "outputs": [
    {
     "name": "stdout",
     "output_type": "stream",
     "text": [
      "Best parameter set: {'clf__C': 10.0, 'clf__penalty': 'l2', 'vect__max_df': 0.5, 'vect__ngram_range': (1, 1), 'vect__tokenizer': <function tokenizer_split at 0x7f12a44e05e0>}\n",
      "CV Accuracy: 0.896\n"
     ]
    }
   ],
   "source": [
    "print(f'Best parameter set: {gs_lr_tfidf.best_params_}')\n",
    "print(f'CV Accuracy: {gs_lr_tfidf.best_score_:0.3f}')"
   ]
  },
  {
   "cell_type": "code",
   "execution_count": 17,
   "metadata": {},
   "outputs": [
    {
     "name": "stdout",
     "output_type": "stream",
     "text": [
      "Test Accuracy: 0.905\n"
     ]
    }
   ],
   "source": [
    "clf = gs_lr_tfidf.best_estimator_\n",
    "print(f'Test Accuracy: {clf.score(X_test, y_test):0.3f}')"
   ]
  },
  {
   "cell_type": "code",
   "execution_count": 18,
   "metadata": {},
   "outputs": [
    {
     "data": {
      "text/plain": [
       "0.50408"
      ]
     },
     "execution_count": 18,
     "metadata": {},
     "output_type": "execute_result"
    }
   ],
   "source": [
    "(y_test == 1).sum() / len(y_test)"
   ]
  },
  {
   "cell_type": "code",
   "execution_count": 19,
   "metadata": {},
   "outputs": [
    {
     "data": {
      "text/plain": [
       "(array([1]), array([[0., 1.]]))"
      ]
     },
     "execution_count": 19,
     "metadata": {},
     "output_type": "execute_result"
    }
   ],
   "source": [
    "gs_lr_tfidf.predict(['this was great']),np.round(gs_lr_tfidf.predict_proba(['this was great']))"
   ]
  },
  {
   "cell_type": "code",
   "execution_count": 20,
   "metadata": {},
   "outputs": [
    {
     "data": {
      "text/plain": [
       "(array([0]), array([[1., 0.]]))"
      ]
     },
     "execution_count": 20,
     "metadata": {},
     "output_type": "execute_result"
    }
   ],
   "source": [
    "gs_lr_tfidf.predict(['this was bad']),np.round(gs_lr_tfidf.predict_proba(['this was bad']),2)"
   ]
  },
  {
   "cell_type": "code",
   "execution_count": 21,
   "metadata": {},
   "outputs": [
    {
     "data": {
      "text/plain": [
       "(array([1]), array([[0., 1.]]))"
      ]
     },
     "execution_count": 21,
     "metadata": {},
     "output_type": "execute_result"
    },
    {
     "name": "stdout",
     "output_type": "stream",
     "text": [
      "[CV] END clf__C=1.0, clf__penalty=l1, vect__max_df=0.25, vect__ngram_range=(1, 1), vect__tokenizer=<function tokenizer_split at 0x7fc219ea29e0>; total time=   7.2s\n",
      "[CV] END clf__C=1.0, clf__penalty=l1, vect__max_df=0.5, vect__ngram_range=(1, 1), vect__tokenizer=<function tokenizer_split_porter at 0x7fc219ea2cb0>; total time= 6.3min\n",
      "[CV] END clf__C=1.0, clf__penalty=l2, vect__max_df=0.25, vect__ngram_range=(1, 1), vect__tokenizer=<function tokenizer_split_porter at 0x7fc219ea2c20>; total time= 6.0min\n",
      "[CV] END clf__C=10.0, clf__penalty=l1, vect__max_df=0.25, vect__ngram_range=(1, 1), vect__tokenizer=<function tokenizer_split at 0x7fc219ea2cb0>; total time=  15.3s\n",
      "[CV] END clf__C=10.0, clf__penalty=l1, vect__max_df=0.25, vect__ngram_range=(1, 1), vect__tokenizer=<function tokenizer_split_porter at 0x7fc219ea2c20>; total time= 7.6min\n",
      "[CV] END clf__C=10.0, clf__penalty=l2, vect__max_df=0.25, vect__ngram_range=(1, 1), vect__tokenizer=<function tokenizer_split at 0x7fc219ea2cb0>; total time=  12.2s\n",
      "[CV] END clf__C=10.0, clf__penalty=l2, vect__max_df=0.25, vect__ngram_range=(1, 1), vect__tokenizer=<function tokenizer_split at 0x7fc219ea2c20>; total time=  13.0s\n",
      "[CV] END clf__C=10.0, clf__penalty=l2, vect__max_df=0.25, vect__ngram_range=(1, 1), vect__tokenizer=<function tokenizer_split_porter at 0x7fc219ea2cb0>; total time= 6.6min\n",
      "[CV] END clf__C=100.0, clf__penalty=l1, vect__max_df=0.25, vect__ngram_range=(1, 1), vect__tokenizer=<function tokenizer_split at 0x7fc21fe59360>; total time=  13.7s\n",
      "[CV] END clf__C=100.0, clf__penalty=l1, vect__max_df=0.25, vect__ngram_range=(1, 1), vect__tokenizer=<function tokenizer_split_porter at 0x7fc219ea2cb0>; total time= 6.8min\n",
      "[CV] END clf__C=100.0, clf__penalty=l1, vect__max_df=0.75, vect__ngram_range=(1, 1), vect__tokenizer=<function tokenizer_split_porter at 0x7fc21fe59360>; total time= 6.4min\n",
      "[CV] END clf__C=100.0, clf__penalty=l2, vect__max_df=0.75, vect__ngram_range=(1, 1), vect__tokenizer=<function tokenizer_split at 0x7fc219ea2cb0>; total time=  15.5s\n",
      "[CV] END clf__C=100.0, clf__penalty=l2, vect__max_df=0.75, vect__ngram_range=(1, 1), vect__tokenizer=<function tokenizer_split_porter at 0x7fc21fe59360>; total time= 5.9min\n",
      "[CV] END clf__C=1.0, clf__penalty=l1, vect__max_df=0.5, vect__ngram_range=(1, 1), vect__norm=None, vect__tokenizer=<function tokenizer_split_porter at 0x7fc219ea2cb0>, vect__use_idf=False; total time= 6.0min\n",
      "[CV] END clf__C=1.0, clf__penalty=l2, vect__max_df=0.5, vect__ngram_range=(1, 1), vect__norm=None, vect__tokenizer=<function tokenizer_split at 0x7fc21fe59360>, vect__use_idf=False; total time=  18.2s\n",
      "[CV] END clf__C=1.0, clf__penalty=l2, vect__max_df=0.5, vect__ngram_range=(1, 1), vect__norm=None, vect__tokenizer=<function tokenizer_split_porter at 0x7fc219ea2cb0>, vect__use_idf=False; total time= 6.3min\n",
      "[CV] END clf__C=10.0, clf__penalty=l1, vect__max_df=0.25, vect__ngram_range=(1, 1), vect__norm=None, vect__tokenizer=<function tokenizer_split_porter at 0x7fc21fe59360>, vect__use_idf=False; total time= 6.5min\n",
      "[CV] END clf__C=10.0, clf__penalty=l2, vect__max_df=0.25, vect__ngram_range=(1, 1), vect__norm=None, vect__tokenizer=<function tokenizer_split at 0x7fc219ea2cb0>, vect__use_idf=False; total time=  19.2s\n",
      "[CV] END clf__C=10.0, clf__penalty=l2, vect__max_df=0.25, vect__ngram_range=(1, 1), vect__norm=None, vect__tokenizer=<function tokenizer_split_porter at 0x7fc21fe59360>, vect__use_idf=False; total time= 7.4min\n",
      "[CV] END clf__C=100.0, clf__penalty=l1, vect__max_df=0.25, vect__ngram_range=(1, 1), vect__norm=None, vect__tokenizer=<function tokenizer_split at 0x7fc219ea2cb0>, vect__use_idf=False; total time=  13.1s\n",
      "[CV] END clf__C=100.0, clf__penalty=l1, vect__max_df=0.25, vect__ngram_range=(1, 1), vect__norm=None, vect__tokenizer=<function tokenizer_split at 0x7fc21fe59360>, vect__use_idf=False; total time=  14.1s\n",
      "[CV] END clf__C=100.0, clf__penalty=l1, vect__max_df=0.25, vect__ngram_range=(1, 1), vect__norm=None, vect__tokenizer=<function tokenizer_split_porter at 0x7fc219ea2cb0>, vect__use_idf=False; total time= 6.4min\n",
      "[CV] END clf__C=100.0, clf__penalty=l2, vect__max_df=0.25, vect__ngram_range=(1, 1), vect__norm=None, vect__tokenizer=<function tokenizer_split at 0x7fc21fe59360>, vect__use_idf=False; total time=  19.2s\n",
      "[CV] END clf__C=100.0, clf__penalty=l2, vect__max_df=0.25, vect__ngram_range=(1, 1), vect__norm=None, vect__tokenizer=<function tokenizer_split at 0x7fc219ea2cb0>, vect__use_idf=False; total time=  17.4s\n",
      "[CV] END clf__C=100.0, clf__penalty=l2, vect__max_df=0.25, vect__ngram_range=(1, 1), vect__norm=None, vect__tokenizer=<function tokenizer_split at 0x7fc21fe59360>, vect__use_idf=False; total time=  16.9s\n",
      "[CV] END clf__C=100.0, clf__penalty=l2, vect__max_df=0.25, vect__ngram_range=(1, 1), vect__norm=None, vect__tokenizer=<function tokenizer_split_porter at 0x7fc219ea2cb0>, vect__use_idf=False; total time= 6.0min\n",
      "[CV] END clf__C=1.0, clf__penalty=l1, vect__max_df=0.25, vect__ngram_range=(1, 1), vect__tokenizer=<function tokenizer_split_porter at 0x7f3189dee9e0>; total time= 6.2min\n",
      "[CV] END clf__C=1.0, clf__penalty=l2, vect__max_df=0.25, vect__ngram_range=(1, 1), vect__tokenizer=<function tokenizer_split at 0x7f3189dee950>; total time=  11.4s\n",
      "[CV] END clf__C=1.0, clf__penalty=l2, vect__max_df=0.5, vect__ngram_range=(1, 1), vect__tokenizer=<function tokenizer_split at 0x7f3189deea70>; total time=  11.2s\n",
      "[CV] END clf__C=1.0, clf__penalty=l2, vect__max_df=0.5, vect__ngram_range=(1, 1), vect__tokenizer=<function tokenizer_split at 0x7f3189dee950>; total time=  11.2s\n",
      "[CV] END clf__C=1.0, clf__penalty=l2, vect__max_df=0.5, vect__ngram_range=(1, 1), vect__tokenizer=<function tokenizer_split_porter at 0x7f3189deea70>; total time= 6.2min\n",
      "[CV] END clf__C=10.0, clf__penalty=l1, vect__max_df=0.5, vect__ngram_range=(1, 1), vect__tokenizer=<function tokenizer_split at 0x7f3189dee950>; total time=  17.7s\n",
      "[CV] END clf__C=10.0, clf__penalty=l1, vect__max_df=0.5, vect__ngram_range=(1, 1), vect__tokenizer=<function tokenizer_split_porter at 0x7f3189deea70>; total time= 7.4min\n",
      "[CV] END clf__C=10.0, clf__penalty=l2, vect__max_df=0.25, vect__ngram_range=(1, 1), vect__tokenizer=<function tokenizer_split_porter at 0x7f3189dee950>; total time= 6.5min\n",
      "[CV] END clf__C=100.0, clf__penalty=l1, vect__max_df=0.25, vect__ngram_range=(1, 1), vect__tokenizer=<function tokenizer_split at 0x7f318fda53f0>; total time=  12.6s\n",
      "[CV] END clf__C=100.0, clf__penalty=l1, vect__max_df=0.25, vect__ngram_range=(1, 1), vect__tokenizer=<function tokenizer_split at 0x7f3189dee950>; total time=  12.3s\n",
      "[CV] END clf__C=100.0, clf__penalty=l1, vect__max_df=0.25, vect__ngram_range=(1, 1), vect__tokenizer=<function tokenizer_split_porter at 0x7f318fda53f0>; total time= 6.8min\n",
      "[CV] END clf__C=100.0, clf__penalty=l2, vect__max_df=0.25, vect__ngram_range=(1, 1), vect__tokenizer=<function tokenizer_split at 0x7f3189dee950>; total time=  13.6s\n",
      "[CV] END clf__C=100.0, clf__penalty=l2, vect__max_df=0.25, vect__ngram_range=(1, 1), vect__tokenizer=<function tokenizer_split at 0x7f318fda53f0>; total time=  13.2s\n",
      "[CV] END clf__C=100.0, clf__penalty=l2, vect__max_df=0.25, vect__ngram_range=(1, 1), vect__tokenizer=<function tokenizer_split_porter at 0x7f3189dee950>; total time= 6.4min\n",
      "[CV] END clf__C=100.0, clf__penalty=l2, vect__max_df=0.75, vect__ngram_range=(1, 1), vect__tokenizer=<function tokenizer_split_porter at 0x7f318fda53f0>; total time= 6.0min\n",
      "[CV] END clf__C=1.0, clf__penalty=l1, vect__max_df=0.75, vect__ngram_range=(1, 1), vect__norm=None, vect__tokenizer=<function tokenizer_split at 0x7f3189dee950>, vect__use_idf=False; total time=  10.9s\n",
      "[CV] END clf__C=1.0, clf__penalty=l1, vect__max_df=0.75, vect__ngram_range=(1, 1), vect__norm=None, vect__tokenizer=<function tokenizer_split_porter at 0x7f318fda53f0>, vect__use_idf=False; total time= 6.1min\n",
      "[CV] END clf__C=1.0, clf__penalty=l2, vect__max_df=0.75, vect__ngram_range=(1, 1), vect__norm=None, vect__tokenizer=<function tokenizer_split at 0x7f3189dee950>, vect__use_idf=False; total time=  25.8s\n",
      "[CV] END clf__C=1.0, clf__penalty=l2, vect__max_df=0.75, vect__ngram_range=(1, 1), vect__norm=None, vect__tokenizer=<function tokenizer_split at 0x7f318fda53f0>, vect__use_idf=False; total time=  20.2s\n",
      "[CV] END clf__C=1.0, clf__penalty=l2, vect__max_df=0.75, vect__ngram_range=(1, 1), vect__norm=None, vect__tokenizer=<function tokenizer_split_porter at 0x7f3189dee950>, vect__use_idf=False; total time= 6.4min\n",
      "[CV] END clf__C=10.0, clf__penalty=l1, vect__max_df=0.75, vect__ngram_range=(1, 1), vect__norm=None, vect__tokenizer=<function tokenizer_split at 0x7f318fda53f0>, vect__use_idf=False; total time=  13.6s\n",
      "[CV] END clf__C=10.0, clf__penalty=l1, vect__max_df=0.75, vect__ngram_range=(1, 1), vect__norm=None, vect__tokenizer=<function tokenizer_split at 0x7f3189dee950>, vect__use_idf=False; total time=  13.3s\n",
      "[CV] END clf__C=10.0, clf__penalty=l1, vect__max_df=0.75, vect__ngram_range=(1, 1), vect__norm=None, vect__tokenizer=<function tokenizer_split_porter at 0x7f318fda53f0>, vect__use_idf=False; total time= 6.8min\n",
      "[CV] END clf__C=10.0, clf__penalty=l2, vect__max_df=0.5, vect__ngram_range=(1, 1), vect__norm=None, vect__tokenizer=<function tokenizer_split_porter at 0x7f3189dee950>, vect__use_idf=False; total time= 7.5min\n",
      "[CV] END clf__C=100.0, clf__penalty=l1, vect__max_df=0.5, vect__ngram_range=(1, 1), vect__norm=None, vect__tokenizer=<function tokenizer_split at 0x7f318fda53f0>, vect__use_idf=False; total time=  14.2s\n",
      "[CV] END clf__C=100.0, clf__penalty=l1, vect__max_df=0.5, vect__ngram_range=(1, 1), vect__norm=None, vect__tokenizer=<function tokenizer_split_porter at 0x7f3189dee950>, vect__use_idf=False; total time= 6.1min\n",
      "[CV] END clf__C=100.0, clf__penalty=l2, vect__max_df=0.25, vect__ngram_range=(1, 1), vect__norm=None, vect__tokenizer=<function tokenizer_split_porter at 0x7f318fda53f0>, vect__use_idf=False; total time= 6.0min\n"
     ]
    },
    {
     "name": "stdout",
     "output_type": "stream",
     "text": [
      "[CV] END clf__C=1.0, clf__penalty=l1, vect__max_df=0.25, vect__ngram_range=(1, 1), vect__tokenizer=<function tokenizer_split at 0x7f1edcebe9e0>; total time=   6.9s\n",
      "[CV] END clf__C=1.0, clf__penalty=l1, vect__max_df=0.5, vect__ngram_range=(1, 1), vect__tokenizer=<function tokenizer_split at 0x7f1edcebecb0>; total time=   9.9s\n",
      "[CV] END clf__C=1.0, clf__penalty=l1, vect__max_df=0.75, vect__ngram_range=(1, 1), vect__tokenizer=<function tokenizer_split at 0x7f1edcebec20>; total time=  11.0s\n",
      "[CV] END clf__C=1.0, clf__penalty=l1, vect__max_df=0.75, vect__ngram_range=(1, 1), vect__tokenizer=<function tokenizer_split_porter at 0x7f1edcebecb0>; total time= 6.3min\n",
      "[CV] END clf__C=1.0, clf__penalty=l2, vect__max_df=0.5, vect__ngram_range=(1, 1), vect__tokenizer=<function tokenizer_split_porter at 0x7f1edcebec20>; total time= 6.1min\n",
      "[CV] END clf__C=10.0, clf__penalty=l1, vect__max_df=0.5, vect__ngram_range=(1, 1), vect__tokenizer=<function tokenizer_split at 0x7f1edcebecb0>; total time=  18.4s\n",
      "[CV] END clf__C=10.0, clf__penalty=l1, vect__max_df=0.5, vect__ngram_range=(1, 1), vect__tokenizer=<function tokenizer_split at 0x7f1edcebec20>; total time=  19.6s\n",
      "[CV] END clf__C=10.0, clf__penalty=l1, vect__max_df=0.5, vect__ngram_range=(1, 1), vect__tokenizer=<function tokenizer_split_porter at 0x7f1edcebecb0>; total time= 7.3min\n",
      "[CV] END clf__C=10.0, clf__penalty=l2, vect__max_df=0.5, vect__ngram_range=(1, 1), vect__tokenizer=<function tokenizer_split at 0x7f1edcebec20>; total time=  13.0s\n",
      "[CV] END clf__C=10.0, clf__penalty=l2, vect__max_df=0.5, vect__ngram_range=(1, 1), vect__tokenizer=<function tokenizer_split at 0x7f1edcebecb0>; total time=  11.7s\n",
      "[CV] END clf__C=10.0, clf__penalty=l2, vect__max_df=0.5, vect__ngram_range=(1, 1), vect__tokenizer=<function tokenizer_split_porter at 0x7f1edcebec20>; total time= 6.6min\n",
      "[CV] END clf__C=100.0, clf__penalty=l1, vect__max_df=0.25, vect__ngram_range=(1, 1), vect__tokenizer=<function tokenizer_split_porter at 0x7f1ee9510160>; total time= 6.8min\n",
      "[CV] END clf__C=100.0, clf__penalty=l2, vect__max_df=0.25, vect__ngram_range=(1, 1), vect__tokenizer=<function tokenizer_split at 0x7f1edcebec20>; total time=  13.9s\n",
      "[CV] END clf__C=100.0, clf__penalty=l2, vect__max_df=0.25, vect__ngram_range=(1, 1), vect__tokenizer=<function tokenizer_split_porter at 0x7f1ee9510160>; total time= 6.4min\n",
      "[CV] END clf__C=1.0, clf__penalty=l1, vect__max_df=0.25, vect__ngram_range=(1, 1), vect__norm=None, vect__tokenizer=<function tokenizer_split at 0x7f1edcebec20>, vect__use_idf=False; total time=  10.1s\n",
      "[CV] END clf__C=1.0, clf__penalty=l1, vect__max_df=0.25, vect__ngram_range=(1, 1), vect__norm=None, vect__tokenizer=<function tokenizer_split at 0x7f1ee9510160>, vect__use_idf=False; total time=  10.7s\n",
      "[CV] END clf__C=1.0, clf__penalty=l1, vect__max_df=0.25, vect__ngram_range=(1, 1), vect__norm=None, vect__tokenizer=<function tokenizer_split at 0x7f1edcebec20>, vect__use_idf=False; total time=  10.2s\n",
      "[CV] END clf__C=1.0, clf__penalty=l1, vect__max_df=0.25, vect__ngram_range=(1, 1), vect__norm=None, vect__tokenizer=<function tokenizer_split_porter at 0x7f1ee9510160>, vect__use_idf=False; total time= 5.9min\n",
      "[CV] END clf__C=1.0, clf__penalty=l2, vect__max_df=0.25, vect__ngram_range=(1, 1), vect__norm=None, vect__tokenizer=<function tokenizer_split at 0x7f1edcebec20>, vect__use_idf=False; total time=  13.9s\n",
      "[CV] END clf__C=1.0, clf__penalty=l2, vect__max_df=0.25, vect__ngram_range=(1, 1), vect__norm=None, vect__tokenizer=<function tokenizer_split at 0x7f1ee9510160>, vect__use_idf=False; total time=  13.7s\n",
      "[CV] END clf__C=1.0, clf__penalty=l2, vect__max_df=0.25, vect__ngram_range=(1, 1), vect__norm=None, vect__tokenizer=<function tokenizer_split at 0x7f1edcebec20>, vect__use_idf=False; total time=  13.5s\n",
      "[CV] END clf__C=1.0, clf__penalty=l2, vect__max_df=0.25, vect__ngram_range=(1, 1), vect__norm=None, vect__tokenizer=<function tokenizer_split_porter at 0x7f1ee9510160>, vect__use_idf=False; total time= 6.2min\n",
      "[CV] END clf__C=1.0, clf__penalty=l2, vect__max_df=0.75, vect__ngram_range=(1, 1), vect__norm=None, vect__tokenizer=<function tokenizer_split_porter at 0x7f1edcebec20>, vect__use_idf=False; total time= 6.4min\n",
      "[CV] END clf__C=10.0, clf__penalty=l1, vect__max_df=0.75, vect__ngram_range=(1, 1), vect__norm=None, vect__tokenizer=<function tokenizer_split at 0x7f1ee9510160>, vect__use_idf=False; total time=  15.8s\n",
      "[CV] END clf__C=10.0, clf__penalty=l1, vect__max_df=0.75, vect__ngram_range=(1, 1), vect__norm=None, vect__tokenizer=<function tokenizer_split_porter at 0x7f1edcebec20>, vect__use_idf=False; total time= 6.8min\n",
      "[CV] END clf__C=10.0, clf__penalty=l2, vect__max_df=0.75, vect__ngram_range=(1, 1), vect__norm=None, vect__tokenizer=<function tokenizer_split at 0x7f1ee9510160>, vect__use_idf=False; total time=  32.9s\n",
      "[CV] END clf__C=10.0, clf__penalty=l2, vect__max_df=0.75, vect__ngram_range=(1, 1), vect__norm=None, vect__tokenizer=<function tokenizer_split at 0x7f1edcebec20>, vect__use_idf=False; total time=  36.8s\n",
      "[CV] END clf__C=10.0, clf__penalty=l2, vect__max_df=0.75, vect__ngram_range=(1, 1), vect__norm=None, vect__tokenizer=<function tokenizer_split at 0x7f1ee9510160>, vect__use_idf=False; total time=  31.3s\n",
      "[CV] END clf__C=10.0, clf__penalty=l2, vect__max_df=0.75, vect__ngram_range=(1, 1), vect__norm=None, vect__tokenizer=<function tokenizer_split_porter at 0x7f1edcebec20>, vect__use_idf=False; total time= 7.5min\n",
      "[CV] END clf__C=100.0, clf__penalty=l1, vect__max_df=0.5, vect__ngram_range=(1, 1), vect__norm=None, vect__tokenizer=<function tokenizer_split_porter at 0x7f1ee9510160>, vect__use_idf=False; total time= 6.0min\n",
      "[CV] END clf__C=100.0, clf__penalty=l2, vect__max_df=0.5, vect__ngram_range=(1, 1), vect__norm=None, vect__tokenizer=<function tokenizer_split_porter at 0x7f1edcebec20>, vect__use_idf=False; total time= 5.3min\n",
      "[CV] END clf__C=1.0, clf__penalty=l1, vect__max_df=0.5, vect__ngram_range=(1, 1), vect__tokenizer=<function tokenizer_split at 0x7ff75749a9e0>; total time=   6.9s\n",
      "[CV] END clf__C=1.0, clf__penalty=l1, vect__max_df=0.75, vect__ngram_range=(1, 1), vect__tokenizer=<function tokenizer_split at 0x7ff75749acb0>; total time=  10.1s\n",
      "[CV] END clf__C=1.0, clf__penalty=l1, vect__max_df=0.75, vect__ngram_range=(1, 1), vect__tokenizer=<function tokenizer_split at 0x7ff75749ac20>; total time=  10.9s\n",
      "[CV] END clf__C=1.0, clf__penalty=l1, vect__max_df=0.75, vect__ngram_range=(1, 1), vect__tokenizer=<function tokenizer_split_porter at 0x7ff75749acb0>; total time= 6.3min\n",
      "[CV] END clf__C=1.0, clf__penalty=l2, vect__max_df=0.75, vect__ngram_range=(1, 1), vect__tokenizer=<function tokenizer_split at 0x7ff75749ac20>; total time=  11.0s\n",
      "[CV] END clf__C=1.0, clf__penalty=l2, vect__max_df=0.75, vect__ngram_range=(1, 1), vect__tokenizer=<function tokenizer_split at 0x7ff75749acb0>; total time=  10.7s\n",
      "[CV] END clf__C=1.0, clf__penalty=l2, vect__max_df=0.75, vect__ngram_range=(1, 1), vect__tokenizer=<function tokenizer_split at 0x7ff75749ac20>; total time=  10.7s\n",
      "[CV] END clf__C=1.0, clf__penalty=l2, vect__max_df=0.75, vect__ngram_range=(1, 1), vect__tokenizer=<function tokenizer_split_porter at 0x7ff75749acb0>; total time= 6.6min\n",
      "[CV] END clf__C=10.0, clf__penalty=l1, vect__max_df=0.5, vect__ngram_range=(1, 1), vect__tokenizer=<function tokenizer_split_porter at 0x7ff75749ac20>; total time= 7.1min\n",
      "[CV] END clf__C=10.0, clf__penalty=l2, vect__max_df=0.5, vect__ngram_range=(1, 1), vect__tokenizer=<function tokenizer_split at 0x7ff75749acb0>; total time=  12.0s\n",
      "[CV] END clf__C=10.0, clf__penalty=l2, vect__max_df=0.5, vect__ngram_range=(1, 1), vect__tokenizer=<function tokenizer_split_porter at 0x7ff75749ac20>; total time= 6.7min\n",
      "[CV] END clf__C=100.0, clf__penalty=l1, vect__max_df=0.5, vect__ngram_range=(1, 1), vect__tokenizer=<function tokenizer_split at 0x7ff767b04160>; total time=  12.0s\n",
      "[CV] END clf__C=100.0, clf__penalty=l1, vect__max_df=0.5, vect__ngram_range=(1, 1), vect__tokenizer=<function tokenizer_split at 0x7ff75749ac20>; total time=  11.7s\n",
      "[CV] END clf__C=100.0, clf__penalty=l1, vect__max_df=0.5, vect__ngram_range=(1, 1), vect__tokenizer=<function tokenizer_split at 0x7ff767b04160>; total time=  11.9s\n",
      "[CV] END clf__C=100.0, clf__penalty=l1, vect__max_df=0.5, vect__ngram_range=(1, 1), vect__tokenizer=<function tokenizer_split_porter at 0x7ff75749ac20>; total time= 6.8min\n",
      "[CV] END clf__C=100.0, clf__penalty=l2, vect__max_df=0.25, vect__ngram_range=(1, 1), vect__tokenizer=<function tokenizer_split_porter at 0x7ff767b04160>; total time= 6.4min\n",
      "[CV] END clf__C=1.0, clf__penalty=l1, vect__max_df=0.25, vect__ngram_range=(1, 1), vect__norm=None, vect__tokenizer=<function tokenizer_split_porter at 0x7ff75749ac20>, vect__use_idf=False; total time= 5.9min\n",
      "[CV] END clf__C=1.0, clf__penalty=l1, vect__max_df=0.75, vect__ngram_range=(1, 1), vect__norm=None, vect__tokenizer=<function tokenizer_split_porter at 0x7ff767b04160>, vect__use_idf=False; total time= 6.1min\n",
      "[CV] END clf__C=1.0, clf__penalty=l2, vect__max_df=0.75, vect__ngram_range=(1, 1), vect__norm=None, vect__tokenizer=<function tokenizer_split at 0x7ff75749ac20>, vect__use_idf=False; total time=  22.3s\n",
      "[CV] END clf__C=1.0, clf__penalty=l2, vect__max_df=0.75, vect__ngram_range=(1, 1), vect__norm=None, vect__tokenizer=<function tokenizer_split_porter at 0x7ff767b04160>, vect__use_idf=False; total time= 6.4min\n",
      "[CV] END clf__C=10.0, clf__penalty=l1, vect__max_df=0.5, vect__ngram_range=(1, 1), vect__norm=None, vect__tokenizer=<function tokenizer_split_porter at 0x7ff75749ac20>, vect__use_idf=False; total time= 6.8min\n",
      "[CV] END clf__C=10.0, clf__penalty=l2, vect__max_df=0.5, vect__ngram_range=(1, 1), vect__norm=None, vect__tokenizer=<function tokenizer_split at 0x7ff767b04160>, vect__use_idf=False; total time=  23.4s\n",
      "[CV] END clf__C=10.0, clf__penalty=l2, vect__max_df=0.5, vect__ngram_range=(1, 1), vect__norm=None, vect__tokenizer=<function tokenizer_split_porter at 0x7ff75749ac20>, vect__use_idf=False; total time= 7.6min\n",
      "[CV] END clf__C=100.0, clf__penalty=l1, vect__max_df=0.5, vect__ngram_range=(1, 1), vect__norm=None, vect__tokenizer=<function tokenizer_split at 0x7ff767b04160>, vect__use_idf=False; total time=  15.5s\n",
      "[CV] END clf__C=100.0, clf__penalty=l1, vect__max_df=0.5, vect__ngram_range=(1, 1), vect__norm=None, vect__tokenizer=<function tokenizer_split at 0x7ff75749ac20>, vect__use_idf=False; total time=  12.7s\n",
      "[CV] END clf__C=100.0, clf__penalty=l1, vect__max_df=0.5, vect__ngram_range=(1, 1), vect__norm=None, vect__tokenizer=<function tokenizer_split_porter at 0x7ff767b04160>, vect__use_idf=False; total time= 6.2min\n",
      "[CV] END clf__C=100.0, clf__penalty=l2, vect__max_df=0.5, vect__ngram_range=(1, 1), vect__norm=None, vect__tokenizer=<function tokenizer_split at 0x7ff75749ac20>, vect__use_idf=False; total time=  19.9s\n",
      "[CV] END clf__C=100.0, clf__penalty=l2, vect__max_df=0.5, vect__ngram_range=(1, 1), vect__norm=None, vect__tokenizer=<function tokenizer_split at 0x7ff767b04160>, vect__use_idf=False; total time=  19.9s\n",
      "[CV] END clf__C=100.0, clf__penalty=l2, vect__max_df=0.5, vect__ngram_range=(1, 1), vect__norm=None, vect__tokenizer=<function tokenizer_split at 0x7ff75749ac20>, vect__use_idf=False; total time=  19.6s\n",
      "[CV] END clf__C=100.0, clf__penalty=l2, vect__max_df=0.5, vect__ngram_range=(1, 1), vect__norm=None, vect__tokenizer=<function tokenizer_split_porter at 0x7ff767b04160>, vect__use_idf=False; total time= 5.8min\n"
     ]
    },
    {
     "name": "stdout",
     "output_type": "stream",
     "text": [
      "[CV] END clf__C=1.0, clf__penalty=l1, vect__max_df=0.5, vect__ngram_range=(1, 1), vect__tokenizer=<function tokenizer_split at 0x7f8385fda9e0>; total time=   7.1s\n",
      "[CV] END clf__C=1.0, clf__penalty=l1, vect__max_df=0.5, vect__ngram_range=(1, 1), vect__tokenizer=<function tokenizer_split_porter at 0x7f8385fdacb0>; total time= 6.2min\n",
      "[CV] END clf__C=1.0, clf__penalty=l2, vect__max_df=0.25, vect__ngram_range=(1, 1), vect__tokenizer=<function tokenizer_split_porter at 0x7f8385fdac20>; total time= 5.9min\n",
      "[CV] END clf__C=10.0, clf__penalty=l1, vect__max_df=0.25, vect__ngram_range=(1, 1), vect__tokenizer=<function tokenizer_split at 0x7f8385fdacb0>; total time=  14.0s\n",
      "[CV] END clf__C=10.0, clf__penalty=l1, vect__max_df=0.25, vect__ngram_range=(1, 1), vect__tokenizer=<function tokenizer_split at 0x7f8385fdac20>; total time=  17.8s\n",
      "[CV] END clf__C=10.0, clf__penalty=l1, vect__max_df=0.25, vect__ngram_range=(1, 1), vect__tokenizer=<function tokenizer_split_porter at 0x7f8385fdacb0>; total time= 7.4min\n",
      "[CV] END clf__C=10.0, clf__penalty=l2, vect__max_df=0.25, vect__ngram_range=(1, 1), vect__tokenizer=<function tokenizer_split at 0x7f8385fdac20>; total time=  11.8s\n",
      "[CV] END clf__C=10.0, clf__penalty=l2, vect__max_df=0.25, vect__ngram_range=(1, 1), vect__tokenizer=<function tokenizer_split_porter at 0x7f8385fdacb0>; total time= 6.6min\n",
      "[CV] END clf__C=10.0, clf__penalty=l2, vect__max_df=0.75, vect__ngram_range=(1, 1), vect__tokenizer=<function tokenizer_split_porter at 0x7f838c1c5360>; total time= 6.8min\n",
      "[CV] END clf__C=100.0, clf__penalty=l1, vect__max_df=0.75, vect__ngram_range=(1, 1), vect__tokenizer=<function tokenizer_split at 0x7f8385fdacb0>; total time=  13.5s\n",
      "[CV] END clf__C=100.0, clf__penalty=l1, vect__max_df=0.75, vect__ngram_range=(1, 1), vect__tokenizer=<function tokenizer_split_porter at 0x7f838c1c5360>; total time= 6.4min\n",
      "[CV] END clf__C=100.0, clf__penalty=l2, vect__max_df=0.5, vect__ngram_range=(1, 1), vect__tokenizer=<function tokenizer_split_porter at 0x7f8385fdacb0>; total time= 5.9min\n",
      "[CV] END clf__C=1.0, clf__penalty=l1, vect__max_df=0.5, vect__ngram_range=(1, 1), vect__norm=None, vect__tokenizer=<function tokenizer_split at 0x7f838c1c5360>, vect__use_idf=False; total time=  10.4s\n",
      "[CV] END clf__C=1.0, clf__penalty=l1, vect__max_df=0.5, vect__ngram_range=(1, 1), vect__norm=None, vect__tokenizer=<function tokenizer_split_porter at 0x7f8385fdacb0>, vect__use_idf=False; total time= 6.0min\n",
      "[CV] END clf__C=1.0, clf__penalty=l2, vect__max_df=0.25, vect__ngram_range=(1, 1), vect__norm=None, vect__tokenizer=<function tokenizer_split_porter at 0x7f838c1c5360>, vect__use_idf=False; total time= 6.3min\n",
      "[CV] END clf__C=10.0, clf__penalty=l1, vect__max_df=0.25, vect__ngram_range=(1, 1), vect__norm=None, vect__tokenizer=<function tokenizer_split_porter at 0x7f8385fdacb0>, vect__use_idf=False; total time= 6.4min\n",
      "[CV] END clf__C=10.0, clf__penalty=l1, vect__max_df=0.75, vect__ngram_range=(1, 1), vect__norm=None, vect__tokenizer=<function tokenizer_split_porter at 0x7f838c1c5360>, vect__use_idf=False; total time= 7.2min\n",
      "[CV] END clf__C=10.0, clf__penalty=l2, vect__max_df=0.75, vect__ngram_range=(1, 1), vect__norm=None, vect__tokenizer=<function tokenizer_split_porter at 0x7f8385fdacb0>, vect__use_idf=False; total time= 6.9min\n",
      "[CV] END clf__C=100.0, clf__penalty=l1, vect__max_df=0.75, vect__ngram_range=(1, 1), vect__norm=None, vect__tokenizer=<function tokenizer_split at 0x7f838c1c5360>, vect__use_idf=False; total time=  11.1s\n",
      "[CV] END clf__C=100.0, clf__penalty=l1, vect__max_df=0.75, vect__ngram_range=(1, 1), vect__norm=None, vect__tokenizer=<function tokenizer_split at 0x7f8385fdacb0>, vect__use_idf=False; total time=  12.4s\n",
      "[CV] END clf__C=100.0, clf__penalty=l1, vect__max_df=0.75, vect__ngram_range=(1, 1), vect__norm=None, vect__tokenizer=<function tokenizer_split at 0x7f838c1c5360>, vect__use_idf=False; total time=  11.1s\n",
      "[CV] END clf__C=100.0, clf__penalty=l1, vect__max_df=0.75, vect__ngram_range=(1, 1), vect__norm=None, vect__tokenizer=<function tokenizer_split_porter at 0x7f8385fdacb0>, vect__use_idf=False; total time= 5.9min\n",
      "[CV] END clf__C=100.0, clf__penalty=l2, vect__max_df=0.5, vect__ngram_range=(1, 1), vect__norm=None, vect__tokenizer=<function tokenizer_split_porter at 0x7f838c1c5360>, vect__use_idf=False; total time= 4.4min\n",
      "[CV] END clf__C=1.0, clf__penalty=l1, vect__max_df=0.25, vect__ngram_range=(1, 1), vect__tokenizer=<function tokenizer_split_porter at 0x7fb830a569e0>; total time= 6.1min\n",
      "[CV] END clf__C=1.0, clf__penalty=l2, vect__max_df=0.25, vect__ngram_range=(1, 1), vect__tokenizer=<function tokenizer_split at 0x7fb830a56950>; total time=  12.6s\n",
      "[CV] END clf__C=1.0, clf__penalty=l2, vect__max_df=0.25, vect__ngram_range=(1, 1), vect__tokenizer=<function tokenizer_split at 0x7fb830a56a70>; total time=  11.1s\n",
      "[CV] END clf__C=1.0, clf__penalty=l2, vect__max_df=0.5, vect__ngram_range=(1, 1), vect__tokenizer=<function tokenizer_split at 0x7fb830a56950>; total time=  11.9s\n",
      "[CV] END clf__C=1.0, clf__penalty=l2, vect__max_df=0.5, vect__ngram_range=(1, 1), vect__tokenizer=<function tokenizer_split_porter at 0x7fb830a56a70>; total time= 6.0min\n",
      "[CV] END clf__C=10.0, clf__penalty=l1, vect__max_df=0.25, vect__ngram_range=(1, 1), vect__tokenizer=<function tokenizer_split_porter at 0x7fb830a56950>; total time= 7.4min\n",
      "[CV] END clf__C=10.0, clf__penalty=l1, vect__max_df=0.75, vect__ngram_range=(1, 1), vect__tokenizer=<function tokenizer_split_porter at 0x7fb830a56a70>; total time= 6.5min\n",
      "[CV] END clf__C=10.0, clf__penalty=l2, vect__max_df=0.75, vect__ngram_range=(1, 1), vect__tokenizer=<function tokenizer_split at 0x7fb83d0a8160>; total time=  13.5s\n",
      "[CV] END clf__C=10.0, clf__penalty=l2, vect__max_df=0.75, vect__ngram_range=(1, 1), vect__tokenizer=<function tokenizer_split_porter at 0x7fb830a56a70>; total time= 6.8min\n",
      "[CV] END clf__C=100.0, clf__penalty=l1, vect__max_df=0.5, vect__ngram_range=(1, 1), vect__tokenizer=<function tokenizer_split_porter at 0x7fb83d0a8160>; total time= 6.4min\n",
      "[CV] END clf__C=100.0, clf__penalty=l2, vect__max_df=0.5, vect__ngram_range=(1, 1), vect__tokenizer=<function tokenizer_split_porter at 0x7fb830a56a70>; total time= 5.9min\n",
      "[CV] END clf__C=1.0, clf__penalty=l1, vect__max_df=0.25, vect__ngram_range=(1, 1), vect__norm=None, vect__tokenizer=<function tokenizer_split_porter at 0x7fb83d0a8160>, vect__use_idf=False; total time= 5.9min\n",
      "[CV] END clf__C=1.0, clf__penalty=l2, vect__max_df=0.25, vect__ngram_range=(1, 1), vect__norm=None, vect__tokenizer=<function tokenizer_split_porter at 0x7fb830a56a70>, vect__use_idf=False; total time= 6.2min\n",
      "[CV] END clf__C=10.0, clf__penalty=l1, vect__max_df=0.25, vect__ngram_range=(1, 1), vect__norm=None, vect__tokenizer=<function tokenizer_split at 0x7fb83d0a8160>, vect__use_idf=False; total time=  11.6s\n",
      "[CV] END clf__C=10.0, clf__penalty=l1, vect__max_df=0.25, vect__ngram_range=(1, 1), vect__norm=None, vect__tokenizer=<function tokenizer_split at 0x7fb830a56a70>, vect__use_idf=False; total time=  12.2s\n",
      "[CV] END clf__C=10.0, clf__penalty=l1, vect__max_df=0.25, vect__ngram_range=(1, 1), vect__norm=None, vect__tokenizer=<function tokenizer_split at 0x7fb83d0a8160>, vect__use_idf=False; total time=  12.0s\n",
      "[CV] END clf__C=10.0, clf__penalty=l1, vect__max_df=0.25, vect__ngram_range=(1, 1), vect__norm=None, vect__tokenizer=<function tokenizer_split_porter at 0x7fb830a56a70>, vect__use_idf=False; total time= 6.5min\n",
      "[CV] END clf__C=10.0, clf__penalty=l2, vect__max_df=0.25, vect__ngram_range=(1, 1), vect__norm=None, vect__tokenizer=<function tokenizer_split at 0x7fb83d0a8160>, vect__use_idf=False; total time=  19.5s\n",
      "[CV] END clf__C=10.0, clf__penalty=l2, vect__max_df=0.25, vect__ngram_range=(1, 1), vect__norm=None, vect__tokenizer=<function tokenizer_split at 0x7fb830a56a70>, vect__use_idf=False; total time=  21.7s\n",
      "[CV] END clf__C=10.0, clf__penalty=l2, vect__max_df=0.25, vect__ngram_range=(1, 1), vect__norm=None, vect__tokenizer=<function tokenizer_split_porter at 0x7fb83d0a8160>, vect__use_idf=False; total time= 7.4min\n",
      "[CV] END clf__C=10.0, clf__penalty=l2, vect__max_df=0.75, vect__ngram_range=(1, 1), vect__norm=None, vect__tokenizer=<function tokenizer_split_porter at 0x7fb830a56a70>, vect__use_idf=False; total time= 6.8min\n",
      "[CV] END clf__C=100.0, clf__penalty=l1, vect__max_df=0.75, vect__ngram_range=(1, 1), vect__norm=None, vect__tokenizer=<function tokenizer_split_porter at 0x7fb83d0a8160>, vect__use_idf=False; total time= 5.8min\n",
      "[CV] END clf__C=100.0, clf__penalty=l2, vect__max_df=0.75, vect__ngram_range=(1, 1), vect__norm=None, vect__tokenizer=<function tokenizer_split at 0x7fb830a56a70>, vect__use_idf=False; total time=  24.7s\n",
      "[CV] END clf__C=100.0, clf__penalty=l2, vect__max_df=0.75, vect__ngram_range=(1, 1), vect__norm=None, vect__tokenizer=<function tokenizer_split at 0x7fb83d0a8160>, vect__use_idf=False; total time=  27.5s\n",
      "[CV] END clf__C=100.0, clf__penalty=l2, vect__max_df=0.75, vect__ngram_range=(1, 1), vect__norm=None, vect__tokenizer=<function tokenizer_split_porter at 0x7fb830a56a70>, vect__use_idf=False; total time= 3.4min\n"
     ]
    },
    {
     "name": "stdout",
     "output_type": "stream",
     "text": [
      "[CV] END clf__C=1.0, clf__penalty=l1, vect__max_df=0.25, vect__ngram_range=(1, 1), vect__tokenizer=<function tokenizer_split at 0x7efed594a9e0>; total time=   7.0s\n",
      "[CV] END clf__C=1.0, clf__penalty=l1, vect__max_df=0.5, vect__ngram_range=(1, 1), vect__tokenizer=<function tokenizer_split_porter at 0x7efed594acb0>; total time= 6.2min\n",
      "[CV] END clf__C=1.0, clf__penalty=l2, vect__max_df=0.25, vect__ngram_range=(1, 1), vect__tokenizer=<function tokenizer_split_porter at 0x7efed594ac20>; total time= 5.9min\n",
      "[CV] END clf__C=1.0, clf__penalty=l2, vect__max_df=0.75, vect__ngram_range=(1, 1), vect__tokenizer=<function tokenizer_split_porter at 0x7efed594acb0>; total time= 7.5min\n",
      "[CV] END clf__C=10.0, clf__penalty=l1, vect__max_df=0.75, vect__ngram_range=(1, 1), vect__tokenizer=<function tokenizer_split at 0x7efed594ac20>; total time=  12.7s\n",
      "[CV] END clf__C=10.0, clf__penalty=l1, vect__max_df=0.75, vect__ngram_range=(1, 1), vect__tokenizer=<function tokenizer_split_porter at 0x7efed594acb0>; total time= 6.5min\n",
      "[CV] END clf__C=10.0, clf__penalty=l2, vect__max_df=0.5, vect__ngram_range=(1, 1), vect__tokenizer=<function tokenizer_split_porter at 0x7efedbb1d360>; total time= 6.8min\n",
      "[CV] END clf__C=100.0, clf__penalty=l1, vect__max_df=0.5, vect__ngram_range=(1, 1), vect__tokenizer=<function tokenizer_split_porter at 0x7efed594acb0>; total time= 6.4min\n",
      "[CV] END clf__C=100.0, clf__penalty=l2, vect__max_df=0.5, vect__ngram_range=(1, 1), vect__tokenizer=<function tokenizer_split at 0x7efedbb1d360>; total time=  13.7s\n",
      "[CV] END clf__C=100.0, clf__penalty=l2, vect__max_df=0.5, vect__ngram_range=(1, 1), vect__tokenizer=<function tokenizer_split at 0x7efed594acb0>; total time=  13.2s\n",
      "[CV] END clf__C=100.0, clf__penalty=l2, vect__max_df=0.5, vect__ngram_range=(1, 1), vect__tokenizer=<function tokenizer_split at 0x7efedbb1d360>; total time=  14.0s\n",
      "[CV] END clf__C=100.0, clf__penalty=l2, vect__max_df=0.5, vect__ngram_range=(1, 1), vect__tokenizer=<function tokenizer_split_porter at 0x7efed594acb0>; total time= 6.0min\n",
      "[CV] END clf__C=1.0, clf__penalty=l1, vect__max_df=0.5, vect__ngram_range=(1, 1), vect__norm=None, vect__tokenizer=<function tokenizer_split at 0x7efedbb1d360>, vect__use_idf=False; total time=  10.6s\n",
      "[CV] END clf__C=1.0, clf__penalty=l1, vect__max_df=0.5, vect__ngram_range=(1, 1), vect__norm=None, vect__tokenizer=<function tokenizer_split at 0x7efed594acb0>, vect__use_idf=False; total time=  10.7s\n",
      "[CV] END clf__C=1.0, clf__penalty=l1, vect__max_df=0.5, vect__ngram_range=(1, 1), vect__norm=None, vect__tokenizer=<function tokenizer_split_porter at 0x7efedbb1d360>, vect__use_idf=False; total time= 6.0min\n",
      "[CV] END clf__C=1.0, clf__penalty=l2, vect__max_df=0.5, vect__ngram_range=(1, 1), vect__norm=None, vect__tokenizer=<function tokenizer_split at 0x7efed594acb0>, vect__use_idf=False; total time=  18.4s\n",
      "[CV] END clf__C=1.0, clf__penalty=l2, vect__max_df=0.5, vect__ngram_range=(1, 1), vect__norm=None, vect__tokenizer=<function tokenizer_split at 0x7efedbb1d360>, vect__use_idf=False; total time=  18.3s\n",
      "[CV] END clf__C=1.0, clf__penalty=l2, vect__max_df=0.5, vect__ngram_range=(1, 1), vect__norm=None, vect__tokenizer=<function tokenizer_split_porter at 0x7efed594acb0>, vect__use_idf=False; total time= 6.2min\n",
      "[CV] END clf__C=10.0, clf__penalty=l1, vect__max_df=0.5, vect__ngram_range=(1, 1), vect__norm=None, vect__tokenizer=<function tokenizer_split at 0x7efedbb1d360>, vect__use_idf=False; total time=  11.7s\n",
      "[CV] END clf__C=10.0, clf__penalty=l1, vect__max_df=0.5, vect__ngram_range=(1, 1), vect__norm=None, vect__tokenizer=<function tokenizer_split at 0x7efed594acb0>, vect__use_idf=False; total time=  12.4s\n",
      "[CV] END clf__C=10.0, clf__penalty=l1, vect__max_df=0.5, vect__ngram_range=(1, 1), vect__norm=None, vect__tokenizer=<function tokenizer_split_porter at 0x7efedbb1d360>, vect__use_idf=False; total time= 6.6min\n",
      "[CV] END clf__C=10.0, clf__penalty=l2, vect__max_df=0.25, vect__ngram_range=(1, 1), vect__norm=None, vect__tokenizer=<function tokenizer_split_porter at 0x7efed594acb0>, vect__use_idf=False; total time= 7.4min\n",
      "[CV] END clf__C=100.0, clf__penalty=l1, vect__max_df=0.25, vect__ngram_range=(1, 1), vect__norm=None, vect__tokenizer=<function tokenizer_split at 0x7efedbb1d360>, vect__use_idf=False; total time=  13.7s\n",
      "[CV] END clf__C=100.0, clf__penalty=l1, vect__max_df=0.25, vect__ngram_range=(1, 1), vect__norm=None, vect__tokenizer=<function tokenizer_split_porter at 0x7efed594acb0>, vect__use_idf=False; total time= 6.4min\n",
      "[CV] END clf__C=100.0, clf__penalty=l1, vect__max_df=0.75, vect__ngram_range=(1, 1), vect__norm=None, vect__tokenizer=<function tokenizer_split_porter at 0x7efedbb1d360>, vect__use_idf=False; total time= 5.9min\n",
      "[CV] END clf__C=100.0, clf__penalty=l2, vect__max_df=0.75, vect__ngram_range=(1, 1), vect__norm=None, vect__tokenizer=<function tokenizer_split at 0x7efed594acb0>, vect__use_idf=False; total time=  25.3s\n",
      "[CV] END clf__C=100.0, clf__penalty=l2, vect__max_df=0.75, vect__ngram_range=(1, 1), vect__norm=None, vect__tokenizer=<function tokenizer_split_porter at 0x7efedbb1d360>, vect__use_idf=False; total time= 3.7min\n",
      "[CV] END clf__C=1.0, clf__penalty=l1, vect__max_df=0.25, vect__ngram_range=(1, 1), vect__tokenizer=<function tokenizer_split_porter at 0x7f3ee09329e0>; total time= 6.1min\n",
      "[CV] END clf__C=1.0, clf__penalty=l1, vect__max_df=0.75, vect__ngram_range=(1, 1), vect__tokenizer=<function tokenizer_split_porter at 0x7f3ee0932950>; total time= 6.0min\n",
      "[CV] END clf__C=1.0, clf__penalty=l2, vect__max_df=0.75, vect__ngram_range=(1, 1), vect__tokenizer=<function tokenizer_split_porter at 0x7f3ee0932a70>; total time= 7.6min\n",
      "[CV] END clf__C=10.0, clf__penalty=l1, vect__max_df=0.75, vect__ngram_range=(1, 1), vect__tokenizer=<function tokenizer_split at 0x7f3ee0932950>; total time=  14.5s\n",
      "[CV] END clf__C=10.0, clf__penalty=l1, vect__max_df=0.75, vect__ngram_range=(1, 1), vect__tokenizer=<function tokenizer_split at 0x7f3ee0932a70>; total time=  12.9s\n",
      "[CV] END clf__C=10.0, clf__penalty=l1, vect__max_df=0.75, vect__ngram_range=(1, 1), vect__tokenizer=<function tokenizer_split_porter at 0x7f3ee0932950>; total time= 6.4min\n",
      "[CV] END clf__C=10.0, clf__penalty=l2, vect__max_df=0.75, vect__ngram_range=(1, 1), vect__tokenizer=<function tokenizer_split at 0x7f3ee6b053f0>; total time=  12.4s\n",
      "[CV] END clf__C=10.0, clf__penalty=l2, vect__max_df=0.75, vect__ngram_range=(1, 1), vect__tokenizer=<function tokenizer_split at 0x7f3ee0932950>; total time=  13.0s\n",
      "[CV] END clf__C=10.0, clf__penalty=l2, vect__max_df=0.75, vect__ngram_range=(1, 1), vect__tokenizer=<function tokenizer_split_porter at 0x7f3ee6b053f0>; total time= 6.8min\n",
      "[CV] END clf__C=100.0, clf__penalty=l1, vect__max_df=0.75, vect__ngram_range=(1, 1), vect__tokenizer=<function tokenizer_split at 0x7f3ee0932950>; total time=  13.2s\n",
      "[CV] END clf__C=100.0, clf__penalty=l1, vect__max_df=0.75, vect__ngram_range=(1, 1), vect__tokenizer=<function tokenizer_split at 0x7f3ee6b053f0>; total time=  13.4s\n",
      "[CV] END clf__C=100.0, clf__penalty=l1, vect__max_df=0.75, vect__ngram_range=(1, 1), vect__tokenizer=<function tokenizer_split_porter at 0x7f3ee0932950>; total time= 6.4min\n",
      "[CV] END clf__C=100.0, clf__penalty=l2, vect__max_df=0.75, vect__ngram_range=(1, 1), vect__tokenizer=<function tokenizer_split at 0x7f3ee6b053f0>; total time=  15.1s\n",
      "[CV] END clf__C=100.0, clf__penalty=l2, vect__max_df=0.75, vect__ngram_range=(1, 1), vect__tokenizer=<function tokenizer_split at 0x7f3ee0932950>; total time=  15.4s\n",
      "[CV] END clf__C=100.0, clf__penalty=l2, vect__max_df=0.75, vect__ngram_range=(1, 1), vect__tokenizer=<function tokenizer_split_porter at 0x7f3ee6b053f0>; total time= 5.9min\n",
      "[CV] END clf__C=1.0, clf__penalty=l1, vect__max_df=0.75, vect__ngram_range=(1, 1), vect__norm=None, vect__tokenizer=<function tokenizer_split at 0x7f3ee0932950>, vect__use_idf=False; total time=  10.7s\n",
      "[CV] END clf__C=1.0, clf__penalty=l1, vect__max_df=0.75, vect__ngram_range=(1, 1), vect__norm=None, vect__tokenizer=<function tokenizer_split at 0x7f3ee6b053f0>, vect__use_idf=False; total time=  11.1s\n",
      "[CV] END clf__C=1.0, clf__penalty=l1, vect__max_df=0.75, vect__ngram_range=(1, 1), vect__norm=None, vect__tokenizer=<function tokenizer_split_porter at 0x7f3ee0932950>, vect__use_idf=False; total time= 6.0min\n",
      "[CV] END clf__C=1.0, clf__penalty=l2, vect__max_df=0.5, vect__ngram_range=(1, 1), vect__norm=None, vect__tokenizer=<function tokenizer_split_porter at 0x7f3ee6b053f0>, vect__use_idf=False; total time= 6.3min\n",
      "[CV] END clf__C=10.0, clf__penalty=l1, vect__max_df=0.5, vect__ngram_range=(1, 1), vect__norm=None, vect__tokenizer=<function tokenizer_split at 0x7f3ee0932950>, vect__use_idf=False; total time=  11.7s\n",
      "[CV] END clf__C=10.0, clf__penalty=l1, vect__max_df=0.5, vect__ngram_range=(1, 1), vect__norm=None, vect__tokenizer=<function tokenizer_split_porter at 0x7f3ee6b053f0>, vect__use_idf=False; total time= 6.7min\n",
      "[CV] END clf__C=10.0, clf__penalty=l2, vect__max_df=0.5, vect__ngram_range=(1, 1), vect__norm=None, vect__tokenizer=<function tokenizer_split at 0x7f3ee0932950>, vect__use_idf=False; total time=  23.9s\n",
      "[CV] END clf__C=10.0, clf__penalty=l2, vect__max_df=0.5, vect__ngram_range=(1, 1), vect__norm=None, vect__tokenizer=<function tokenizer_split at 0x7f3ee6b053f0>, vect__use_idf=False; total time=  28.6s\n",
      "[CV] END clf__C=10.0, clf__penalty=l2, vect__max_df=0.5, vect__ngram_range=(1, 1), vect__norm=None, vect__tokenizer=<function tokenizer_split_porter at 0x7f3ee0932950>, vect__use_idf=False; total time= 7.5min\n",
      "[CV] END clf__C=100.0, clf__penalty=l1, vect__max_df=0.25, vect__ngram_range=(1, 1), vect__norm=None, vect__tokenizer=<function tokenizer_split_porter at 0x7f3ee6b053f0>, vect__use_idf=False; total time= 6.3min\n",
      "[CV] END clf__C=100.0, clf__penalty=l2, vect__max_df=0.25, vect__ngram_range=(1, 1), vect__norm=None, vect__tokenizer=<function tokenizer_split_porter at 0x7f3ee0932950>, vect__use_idf=False; total time= 6.0min\n",
      "[CV] END clf__C=100.0, clf__penalty=l2, vect__max_df=0.75, vect__ngram_range=(1, 1), vect__norm=None, vect__tokenizer=<function tokenizer_split_porter at 0x7f3ee6b053f0>, vect__use_idf=False; total time= 3.5min\n"
     ]
    }
   ],
   "source": [
    "gs_lr_tfidf.predict(['this was ok in parts']),np.round(gs_lr_tfidf.predict_proba(['this was ok in parts']))"
   ]
  }
 ],
 "metadata": {
  "kernelspec": {
   "display_name": "eods-f22",
   "language": "python",
   "name": "eods-f22"
  },
  "language_info": {
   "codemirror_mode": {
    "name": "ipython",
    "version": 3
   },
   "file_extension": ".py",
   "mimetype": "text/x-python",
   "name": "python",
   "nbconvert_exporter": "python",
   "pygments_lexer": "ipython3",
   "version": "3.10.6"
  },
  "toc": {
   "base_numbering": 1,
   "nav_menu": {},
   "number_sections": false,
   "sideBar": true,
   "skip_h1_title": false,
   "title_cell": "Table of Contents",
   "title_sidebar": "Contents",
   "toc_cell": false,
   "toc_position": {},
   "toc_section_display": true,
   "toc_window_display": false
  }
 },
 "nbformat": 4,
 "nbformat_minor": 2
}
