{
 "cells": [
  {
   "cell_type": "markdown",
   "metadata": {
    "slideshow": {
     "slide_type": "slide"
    }
   },
   "source": [
    "## <center>Elements Of Data Science - F2022</center>\n",
    "# <center>Week 13: Data Processing, Databases and SQL<center>\n",
    "### <center>12/7/2022</center>"
   ]
  },
  {
   "cell_type": "markdown",
   "metadata": {
    "slideshow": {
     "slide_type": "slide"
    }
   },
   "source": [
    "# TODOs\n",
    "\n",
    "- Quiz 13, **Due Tuesday December 13th, 11:59pm ET**\n",
    "\n",
    "- Final\n",
    "  - Online via Gradescope, open-book, open-note, open-python\n",
    "  - Released *Wednesday December 7th 11:59pm ET*\n",
    "  - **Due Friday December 9th 11:59pm ET**\n",
    "  - Have maximum of 24hrs after starting to finish\n",
    "  - 30-40 questions (fill in the blank/multiple choice/short answer)\n",
    "  - Questions asked/answered **privately** via Ed"
   ]
  },
  {
   "cell_type": "markdown",
   "metadata": {
    "slideshow": {
     "slide_type": "slide"
    }
   },
   "source": [
    "# Today\n",
    "\n",
    "- Data processing with Pandas\n",
    "- Relational DBs and SQL\n",
    "- Connecting to databases with sqlalchemy and pandas\n",
    "\n",
    "<br>\n",
    "<br>\n",
    "\n",
    "# <center>Questions?</center>\n",
    "<br>\n",
    "<br>"
   ]
  },
  {
   "cell_type": "markdown",
   "metadata": {
    "slideshow": {
     "slide_type": "slide"
    }
   },
   "source": [
    "# Environment Setup"
   ]
  },
  {
   "cell_type": "code",
   "execution_count": 1,
   "metadata": {
    "slideshow": {
     "slide_type": "fragment"
    }
   },
   "outputs": [],
   "source": [
    "import numpy\n",
    "import numpy as np\n",
    "import pandas as pd\n",
    "import matplotlib.pyplot as plt\n",
    "import seaborn as sns\n",
    "\n",
    "from mlxtend.plotting import plot_decision_regions\n",
    "\n",
    "sns.set_style('darkgrid')\n",
    "%matplotlib inline"
   ]
  },
  {
   "cell_type": "markdown",
   "metadata": {
    "slideshow": {
     "slide_type": "slide"
    }
   },
   "source": [
    "# Data Processing and Delivery: ETL\n",
    "\n",
    "- **E**xtract **T**ransform **L**oad\n",
    "<br>\n",
    "\n",
    "- Extract: Reading in data\n",
    "- Transform: Transforming data\n",
    "- Load: Delivering data"
   ]
  },
  {
   "cell_type": "markdown",
   "metadata": {
    "slideshow": {
     "slide_type": "slide"
    }
   },
   "source": [
    "# Extract: Various Data Sources\n",
    "\n",
    "- flatfiles (csv, excel)\n",
    "- semi-structured documents (json, html)\n",
    "- unstructured documents\n",
    "- data + schema (dataframe,database, parquet)\n",
    "- APIs (wikipedia, twitter, spotify, etc.)\n",
    "- databases\n",
    "<br>\n",
    "<br>\n",
    "\n",
    "- Pandas to the rescue!\n",
    "+ Plus other specialized libraries"
   ]
  },
  {
   "cell_type": "markdown",
   "metadata": {
    "slideshow": {
     "slide_type": "slide"
    }
   },
   "source": [
    "# Extracting Data with Pandas\n",
    "\n",
    "- read_csv\n",
    "- read_excel\n",
    "- read_parquet\n",
    "<br>\n",
    "\n",
    "- read_json\n",
    "- read_html\n",
    "<br>\n",
    "\n",
    "- read_sql\n",
    "- read_clipboard\n",
    "- ..."
   ]
  },
  {
   "cell_type": "markdown",
   "metadata": {
    "slideshow": {
     "slide_type": "slide"
    }
   },
   "source": [
    "# Extract Data: CSV\n",
    "\n",
    "Comma Separated Values"
   ]
  },
  {
   "cell_type": "code",
   "execution_count": 2,
   "metadata": {
    "slideshow": {
     "slide_type": "fragment"
    }
   },
   "outputs": [
    {
     "name": "stdout",
     "output_type": "stream",
     "text": [
      "Year,Make,Model,Description,Price\r\n",
      "1997,Ford,E350,\"ac, abs, moon\",3000.00\r\n",
      "1999,Chevy,\"Venture Extended Edition\",\"\",4900.00\r\n",
      "1999,Chevy,\"Venture Extended Edition, Very Large\",,5000.00\r\n",
      "1996,Jeep,Grand Cherokee,\"MUST SELL! air, moon roof, loaded\",4799.00\r\n"
     ]
    }
   ],
   "source": [
    "%cat ../data/example.csv"
   ]
  },
  {
   "cell_type": "code",
   "execution_count": 3,
   "metadata": {
    "slideshow": {
     "slide_type": "fragment"
    }
   },
   "outputs": [
    {
     "data": {
      "text/html": [
       "<div>\n",
       "<style scoped>\n",
       "    .dataframe tbody tr th:only-of-type {\n",
       "        vertical-align: middle;\n",
       "    }\n",
       "\n",
       "    .dataframe tbody tr th {\n",
       "        vertical-align: top;\n",
       "    }\n",
       "\n",
       "    .dataframe thead th {\n",
       "        text-align: right;\n",
       "    }\n",
       "</style>\n",
       "<table border=\"1\" class=\"dataframe\">\n",
       "  <thead>\n",
       "    <tr style=\"text-align: right;\">\n",
       "      <th></th>\n",
       "      <th>Year</th>\n",
       "      <th>Make</th>\n",
       "      <th>Model</th>\n",
       "      <th>Description</th>\n",
       "      <th>Price</th>\n",
       "    </tr>\n",
       "  </thead>\n",
       "  <tbody>\n",
       "    <tr>\n",
       "      <th>0</th>\n",
       "      <td>1997</td>\n",
       "      <td>Ford</td>\n",
       "      <td>E350</td>\n",
       "      <td>ac, abs, moon</td>\n",
       "      <td>3000.0</td>\n",
       "    </tr>\n",
       "    <tr>\n",
       "      <th>1</th>\n",
       "      <td>1999</td>\n",
       "      <td>Chevy</td>\n",
       "      <td>Venture Extended Edition</td>\n",
       "      <td>NaN</td>\n",
       "      <td>4900.0</td>\n",
       "    </tr>\n",
       "    <tr>\n",
       "      <th>2</th>\n",
       "      <td>1999</td>\n",
       "      <td>Chevy</td>\n",
       "      <td>Venture Extended Edition, Very Large</td>\n",
       "      <td>NaN</td>\n",
       "      <td>5000.0</td>\n",
       "    </tr>\n",
       "    <tr>\n",
       "      <th>3</th>\n",
       "      <td>1996</td>\n",
       "      <td>Jeep</td>\n",
       "      <td>Grand Cherokee</td>\n",
       "      <td>MUST SELL! air, moon roof, loaded</td>\n",
       "      <td>4799.0</td>\n",
       "    </tr>\n",
       "  </tbody>\n",
       "</table>\n",
       "</div>"
      ],
      "text/plain": [
       "   Year   Make                                 Model  \\\n",
       "0  1997   Ford                                  E350   \n",
       "1  1999  Chevy              Venture Extended Edition   \n",
       "2  1999  Chevy  Venture Extended Edition, Very Large   \n",
       "3  1996   Jeep                        Grand Cherokee   \n",
       "\n",
       "                         Description   Price  \n",
       "0                      ac, abs, moon  3000.0  \n",
       "1                                NaN  4900.0  \n",
       "2                                NaN  5000.0  \n",
       "3  MUST SELL! air, moon roof, loaded  4799.0  "
      ]
     },
     "execution_count": 3,
     "metadata": {},
     "output_type": "execute_result"
    }
   ],
   "source": [
    "df = pd.read_csv('../data/example.csv',header=0,sep=',')\n",
    "df.head()"
   ]
  },
  {
   "cell_type": "markdown",
   "metadata": {
    "slideshow": {
     "slide_type": "slide"
    }
   },
   "source": [
    "# Extract Data: Excel\n",
    "<br>\n",
    "\n",
    "<div align=\"center\"><img src=\"images/excel_example.png\"></div>"
   ]
  },
  {
   "cell_type": "code",
   "execution_count": 4,
   "metadata": {
    "slideshow": {
     "slide_type": "fragment"
    }
   },
   "outputs": [
    {
     "data": {
      "text/html": [
       "<div>\n",
       "<style scoped>\n",
       "    .dataframe tbody tr th:only-of-type {\n",
       "        vertical-align: middle;\n",
       "    }\n",
       "\n",
       "    .dataframe tbody tr th {\n",
       "        vertical-align: top;\n",
       "    }\n",
       "\n",
       "    .dataframe thead th {\n",
       "        text-align: right;\n",
       "    }\n",
       "</style>\n",
       "<table border=\"1\" class=\"dataframe\">\n",
       "  <thead>\n",
       "    <tr style=\"text-align: right;\">\n",
       "      <th></th>\n",
       "      <th>Year</th>\n",
       "      <th>Make</th>\n",
       "      <th>Model</th>\n",
       "      <th>Description</th>\n",
       "      <th>Price</th>\n",
       "    </tr>\n",
       "  </thead>\n",
       "  <tbody>\n",
       "    <tr>\n",
       "      <th>0</th>\n",
       "      <td>1997</td>\n",
       "      <td>Ford</td>\n",
       "      <td>E350</td>\n",
       "      <td>ac, abs, moon</td>\n",
       "      <td>3000</td>\n",
       "    </tr>\n",
       "    <tr>\n",
       "      <th>1</th>\n",
       "      <td>1999</td>\n",
       "      <td>Chevy</td>\n",
       "      <td>Venture Extended Edition</td>\n",
       "      <td>NaN</td>\n",
       "      <td>4900</td>\n",
       "    </tr>\n",
       "    <tr>\n",
       "      <th>2</th>\n",
       "      <td>1999</td>\n",
       "      <td>Chevy</td>\n",
       "      <td>Venture Extended Edition, Very Large</td>\n",
       "      <td>NaN</td>\n",
       "      <td>5000</td>\n",
       "    </tr>\n",
       "    <tr>\n",
       "      <th>3</th>\n",
       "      <td>1996</td>\n",
       "      <td>Jeep</td>\n",
       "      <td>Grand Cherokee</td>\n",
       "      <td>MUST SELL! air, moon roof, loaded</td>\n",
       "      <td>4799</td>\n",
       "    </tr>\n",
       "  </tbody>\n",
       "</table>\n",
       "</div>"
      ],
      "text/plain": [
       "   Year   Make                                 Model  \\\n",
       "0  1997   Ford                                  E350   \n",
       "1  1999  Chevy              Venture Extended Edition   \n",
       "2  1999  Chevy  Venture Extended Edition, Very Large   \n",
       "3  1996   Jeep                        Grand Cherokee   \n",
       "\n",
       "                         Description  Price  \n",
       "0                      ac, abs, moon   3000  \n",
       "1                                NaN   4900  \n",
       "2                                NaN   5000  \n",
       "3  MUST SELL! air, moon roof, loaded   4799  "
      ]
     },
     "execution_count": 4,
     "metadata": {},
     "output_type": "execute_result"
    }
   ],
   "source": [
    "pd.read_excel('../data/example.xls')"
   ]
  },
  {
   "cell_type": "markdown",
   "metadata": {
    "slideshow": {
     "slide_type": "slide"
    }
   },
   "source": [
    "# Extract Data: Parquet\n",
    "\n",
    "- open source column-oriented data storage\n",
    "- part of the Apache Hadoop ecosystem\n",
    "- often used when working with Spark\n",
    "- requires additional parsing engine eg `pyarrow`\n",
    "- includes both data and **schema**\n",
    "- **Schema** : metadata about the dataset (column names, datatypes, etc.)"
   ]
  },
  {
   "cell_type": "code",
   "execution_count": 5,
   "metadata": {
    "slideshow": {
     "slide_type": "fragment"
    }
   },
   "outputs": [
    {
     "data": {
      "text/html": [
       "<div>\n",
       "<style scoped>\n",
       "    .dataframe tbody tr th:only-of-type {\n",
       "        vertical-align: middle;\n",
       "    }\n",
       "\n",
       "    .dataframe tbody tr th {\n",
       "        vertical-align: top;\n",
       "    }\n",
       "\n",
       "    .dataframe thead th {\n",
       "        text-align: right;\n",
       "    }\n",
       "</style>\n",
       "<table border=\"1\" class=\"dataframe\">\n",
       "  <thead>\n",
       "    <tr style=\"text-align: right;\">\n",
       "      <th></th>\n",
       "      <th>Year</th>\n",
       "      <th>Make</th>\n",
       "      <th>Model</th>\n",
       "      <th>Description</th>\n",
       "      <th>Price</th>\n",
       "    </tr>\n",
       "  </thead>\n",
       "  <tbody>\n",
       "    <tr>\n",
       "      <th>0</th>\n",
       "      <td>1997</td>\n",
       "      <td>Ford</td>\n",
       "      <td>E350</td>\n",
       "      <td>ac, abs, moon</td>\n",
       "      <td>3000.0</td>\n",
       "    </tr>\n",
       "    <tr>\n",
       "      <th>1</th>\n",
       "      <td>1999</td>\n",
       "      <td>Chevy</td>\n",
       "      <td>Venture Extended Edition</td>\n",
       "      <td>None</td>\n",
       "      <td>4900.0</td>\n",
       "    </tr>\n",
       "    <tr>\n",
       "      <th>2</th>\n",
       "      <td>1999</td>\n",
       "      <td>Chevy</td>\n",
       "      <td>Venture Extended Edition, Very Large</td>\n",
       "      <td>None</td>\n",
       "      <td>5000.0</td>\n",
       "    </tr>\n",
       "    <tr>\n",
       "      <th>3</th>\n",
       "      <td>1996</td>\n",
       "      <td>Jeep</td>\n",
       "      <td>Grand Cherokee</td>\n",
       "      <td>MUST SELL! air, moon roof, loaded</td>\n",
       "      <td>4799.0</td>\n",
       "    </tr>\n",
       "  </tbody>\n",
       "</table>\n",
       "</div>"
      ],
      "text/plain": [
       "   Year   Make                                 Model  \\\n",
       "0  1997   Ford                                  E350   \n",
       "1  1999  Chevy              Venture Extended Edition   \n",
       "2  1999  Chevy  Venture Extended Edition, Very Large   \n",
       "3  1996   Jeep                        Grand Cherokee   \n",
       "\n",
       "                         Description   Price  \n",
       "0                      ac, abs, moon  3000.0  \n",
       "1                               None  4900.0  \n",
       "2                               None  5000.0  \n",
       "3  MUST SELL! air, moon roof, loaded  4799.0  "
      ]
     },
     "execution_count": 5,
     "metadata": {},
     "output_type": "execute_result"
    }
   ],
   "source": [
    "pd.read_parquet('../data/example.parquet')"
   ]
  },
  {
   "cell_type": "markdown",
   "metadata": {
    "slideshow": {
     "slide_type": "slide"
    }
   },
   "source": [
    "# Extract Data: JSON\n",
    "\n",
    "- **J**ava**S**cript **O**bject **N**otation\n",
    "- often seen as return from api call\n",
    "- looks like a dictionary or list of dictionaries\n",
    "- pretty print using json.loads(json_string)\n",
    "\n",
    "```\n",
    "{\n",
    "  \"firstName\": \"John\",\n",
    "  \"lastName\": \"Smith\",\n",
    "  \"isAlive\": true,\n",
    "  \"age\": 27,\n",
    "  \"phoneNumbers\": [\n",
    "    {\n",
    "      \"type\": \"home\",\n",
    "      \"number\": \"212 555-1234\"\n",
    "    },\n",
    "    {\n",
    "      \"type\": \"office\",\n",
    "      \"number\": \"646 555-4567\"\n",
    "    },\n",
    "  ],\n",
    "  \"children\": [],\n",
    "  \"spouse\": null\n",
    "}\n",
    "```"
   ]
  },
  {
   "cell_type": "markdown",
   "metadata": {
    "slideshow": {
     "slide_type": "slide"
    }
   },
   "source": [
    "# Extract Data: JSON\n"
   ]
  },
  {
   "cell_type": "code",
   "execution_count": 6,
   "metadata": {
    "slideshow": {
     "slide_type": "fragment"
    }
   },
   "outputs": [],
   "source": [
    "json_example = \"\"\"\n",
    "{\"0\": {\"Year\": 1997,\n",
    "  \"Make\": \"Ford\",\n",
    "  \"Model\": \"E350\",\n",
    "  \"Description\": \"ac, abs, moon\",\n",
    "  \"Price\": 3000.0},\n",
    " \"1\": {\"Year\": 1999,\n",
    "  \"Make\": \"Chevy\",\n",
    "  \"Model\": \"Venture Extended Edition\",\n",
    "  \"Description\": null,\n",
    "  \"Price\": 4900.0},\n",
    " \"2\": {\"Year\": 1999,\n",
    "  \"Make\": \"Chevy\",\n",
    "  \"Model\": \"Venture Extended Edition, Very Large\",\n",
    "  \"Description\": null,\n",
    "  \"Price\": 5000.0},\n",
    " \"3\": {\"Year\": 1996,\n",
    "  \"Make\": \"Jeep\",\n",
    "  \"Model\": \"Grand Cherokee\",\n",
    "  \"Description\": \"MUST SELL! air, moon roof, loaded\",\n",
    "  \"Price\": 4799.0}}\n",
    "\"\"\""
   ]
  },
  {
   "cell_type": "code",
   "execution_count": 7,
   "metadata": {
    "slideshow": {
     "slide_type": "fragment"
    }
   },
   "outputs": [
    {
     "data": {
      "text/html": [
       "<div>\n",
       "<style scoped>\n",
       "    .dataframe tbody tr th:only-of-type {\n",
       "        vertical-align: middle;\n",
       "    }\n",
       "\n",
       "    .dataframe tbody tr th {\n",
       "        vertical-align: top;\n",
       "    }\n",
       "\n",
       "    .dataframe thead th {\n",
       "        text-align: right;\n",
       "    }\n",
       "</style>\n",
       "<table border=\"1\" class=\"dataframe\">\n",
       "  <thead>\n",
       "    <tr style=\"text-align: right;\">\n",
       "      <th></th>\n",
       "      <th>Year</th>\n",
       "      <th>Make</th>\n",
       "      <th>Model</th>\n",
       "      <th>Description</th>\n",
       "      <th>Price</th>\n",
       "    </tr>\n",
       "  </thead>\n",
       "  <tbody>\n",
       "    <tr>\n",
       "      <th>0</th>\n",
       "      <td>1997</td>\n",
       "      <td>Ford</td>\n",
       "      <td>E350</td>\n",
       "      <td>ac, abs, moon</td>\n",
       "      <td>3000</td>\n",
       "    </tr>\n",
       "    <tr>\n",
       "      <th>1</th>\n",
       "      <td>1999</td>\n",
       "      <td>Chevy</td>\n",
       "      <td>Venture Extended Edition</td>\n",
       "      <td>None</td>\n",
       "      <td>4900</td>\n",
       "    </tr>\n",
       "    <tr>\n",
       "      <th>2</th>\n",
       "      <td>1999</td>\n",
       "      <td>Chevy</td>\n",
       "      <td>Venture Extended Edition, Very Large</td>\n",
       "      <td>None</td>\n",
       "      <td>5000</td>\n",
       "    </tr>\n",
       "    <tr>\n",
       "      <th>3</th>\n",
       "      <td>1996</td>\n",
       "      <td>Jeep</td>\n",
       "      <td>Grand Cherokee</td>\n",
       "      <td>MUST SELL! air, moon roof, loaded</td>\n",
       "      <td>4799</td>\n",
       "    </tr>\n",
       "  </tbody>\n",
       "</table>\n",
       "</div>"
      ],
      "text/plain": [
       "   Year   Make                                 Model  \\\n",
       "0  1997   Ford                                  E350   \n",
       "1  1999  Chevy              Venture Extended Edition   \n",
       "2  1999  Chevy  Venture Extended Edition, Very Large   \n",
       "3  1996   Jeep                        Grand Cherokee   \n",
       "\n",
       "                         Description  Price  \n",
       "0                      ac, abs, moon   3000  \n",
       "1                               None   4900  \n",
       "2                               None   5000  \n",
       "3  MUST SELL! air, moon roof, loaded   4799  "
      ]
     },
     "execution_count": 7,
     "metadata": {},
     "output_type": "execute_result"
    }
   ],
   "source": [
    "pd.read_json(json_example,orient='index')"
   ]
  },
  {
   "cell_type": "markdown",
   "metadata": {
    "slideshow": {
     "slide_type": "slide"
    }
   },
   "source": [
    "# Extract Data: HTML\n",
    "\n",
    "- **H**yper**T**ext **M**arkup **L**anguage\n",
    "- Parse with BeautifulSoup"
   ]
  },
  {
   "cell_type": "code",
   "execution_count": 8,
   "metadata": {
    "slideshow": {
     "slide_type": "fragment"
    }
   },
   "outputs": [
    {
     "data": {
      "text/plain": [
       "['Example text!', 'And More!']"
      ]
     },
     "execution_count": 8,
     "metadata": {},
     "output_type": "execute_result"
    }
   ],
   "source": [
    "html = \"\"\"\n",
    "<html>\n",
    "    <head>\n",
    "        <title>Example</title>\n",
    "    </head>\n",
    "    <body>\n",
    "        <p id=\"first\" class=\"example\"><strong>Example text!</strong></p>\n",
    "        <p id=\"second\" class=\"example\">And More!</p>\n",
    "    </body>\n",
    "</html>\n",
    "\"\"\"\n",
    "\n",
    "from bs4 import BeautifulSoup\n",
    "\n",
    "soup = BeautifulSoup(html)\n",
    "[p.text for p in soup('p')]"
   ]
  },
  {
   "cell_type": "markdown",
   "metadata": {
    "slideshow": {
     "slide_type": "slide"
    }
   },
   "source": [
    "# Extract Data: APIs\n",
    "    \n",
    "- **A**pplication **P**rogramming **I**nterface\n",
    "- defines interactions between software components and resourses\n",
    "- most datasources have an API\n",
    "- some require authentication\n",
    "- python libraries exist for most common APIs\n",
    "<br>\n",
    "<br>\n",
    "\n",
    "- **requests**: library for making web requests and accessing the results"
   ]
  },
  {
   "cell_type": "markdown",
   "metadata": {
    "slideshow": {
     "slide_type": "slide"
    }
   },
   "source": [
    "# API Example: Wikipedia"
   ]
  },
  {
   "cell_type": "code",
   "execution_count": 9,
   "metadata": {
    "slideshow": {
     "slide_type": "fragment"
    }
   },
   "outputs": [
    {
     "name": "stdout",
     "output_type": "stream",
     "text": [
      "http://en.wikipedia.org/w/api.php?action=query&prop=info&format=json&titles=Data%20Science\n"
     ]
    }
   ],
   "source": [
    "import requests\n",
    "url = 'http://en.wikipedia.org/w/api.php?action=query&prop=info&format=json&titles='\n",
    "title = 'Data Science'\n",
    "title = title.replace(' ','%20')\n",
    "print(url+title)"
   ]
  },
  {
   "cell_type": "code",
   "execution_count": 10,
   "metadata": {
    "slideshow": {
     "slide_type": "fragment"
    }
   },
   "outputs": [
    {
     "data": {
      "text/plain": [
       "{'batchcomplete': '',\n",
       " 'query': {'pages': {'49495124': {'pageid': 49495124,\n",
       "    'ns': 0,\n",
       "    'title': 'Data Science',\n",
       "    'contentmodel': 'wikitext',\n",
       "    'pagelanguage': 'en',\n",
       "    'pagelanguagehtmlcode': 'en',\n",
       "    'pagelanguagedir': 'ltr',\n",
       "    'touched': '2022-11-07T18:39:30Z',\n",
       "    'lastrevid': 706007296,\n",
       "    'length': 26,\n",
       "    'redirect': '',\n",
       "    'new': ''}}}}"
      ]
     },
     "execution_count": 10,
     "metadata": {},
     "output_type": "execute_result"
    }
   ],
   "source": [
    "resp = requests.get(url+title)\n",
    "resp.json()"
   ]
  },
  {
   "cell_type": "code",
   "execution_count": 11,
   "metadata": {
    "slideshow": {
     "slide_type": "fragment"
    }
   },
   "outputs": [
    {
     "data": {
      "text/plain": [
       "'{\"batchcomplete\":\"\",\"query\":{\"pages\":{\"49495124\":{\"pageid\":49495124,\"ns\":0,\"title\":\"Data Science\",\"contentmodel\":\"wikitext\",\"pagelanguage\":\"en\",\"pagelanguagehtmlcode\":\"en\",\"pagelanguagedir\":\"ltr\",\"touched\":\"2022-11-07T18:39:30Z\",\"lastrevid\":706007296,\"length\":26,\"redirect\":\"\",\"new\":\"\"}}}}'"
      ]
     },
     "execution_count": 11,
     "metadata": {},
     "output_type": "execute_result"
    }
   ],
   "source": [
    "resp.text"
   ]
  },
  {
   "cell_type": "markdown",
   "metadata": {
    "slideshow": {
     "slide_type": "slide"
    }
   },
   "source": [
    "# API Example: Twitter\n",
    "\n",
    "1. [Apply for Twitter developer account](https://projects.raspberrypi.org/en/projects/getting-started-with-the-twitter-api/2)\n",
    "2. [Create a Twitter application to generate tokens and secrets](https://projects.raspberrypi.org/en/projects/getting-started-with-the-twitter-api/3)"
   ]
  },
  {
   "cell_type": "code",
   "execution_count": 12,
   "metadata": {
    "slideshow": {
     "slide_type": "fragment"
    }
   },
   "outputs": [],
   "source": [
    "with open('/home/bgibson/proj/twitter/twitter_consumer_key.txt') as f:\n",
    "    consumer_key = f.read().strip()\n",
    "with open('/home/bgibson/proj/twitter/twitter_consumer_secret.txt') as f:\n",
    "    consumer_secret = f.read().strip()\n",
    "with open('/home/bgibson/proj/twitter/twitter_access_token.txt') as f:\n",
    "    access_token = f.read().strip()\n",
    "with open('/home/bgibson/proj/twitter/twitter_access_token_secret.txt') as f:\n",
    "    access_token_secret = f.read().strip()\n",
    " \n",
    "from twython import Twython\n",
    "twitter = Twython(consumer_key,consumer_secret,access_token,access_token_secret)"
   ]
  },
  {
   "cell_type": "code",
   "execution_count": 13,
   "metadata": {
    "slideshow": {
     "slide_type": "fragment"
    }
   },
   "outputs": [
    {
     "name": "stdout",
     "output_type": "stream",
     "text": [
      "-------\n",
      "RT @jwoodgett: New position in data science and health research. Come join us at the Lunenfeld-Tanenbaum Research Institute @SinaiHealth, T…\n",
      "-------\n",
      "Are you Business owner and want to advetise your busienss like this then google this keyword - khojinINDIA and regi… https://t.co/wmNhogkfVC\n",
      "-------\n",
      "Come join our team at the Lunenfeld-Tanenbaum Research Institute as a Principal Investigator in Data Science and He… https://t.co/ZfbKm0wMr1\n"
     ]
    }
   ],
   "source": [
    "public_tweets = twitter.search(q='data science institute')['statuses']\n",
    "for status in public_tweets[:3]:\n",
    "    print('-------')\n",
    "    print(status[\"text\"])"
   ]
  },
  {
   "cell_type": "markdown",
   "metadata": {
    "slideshow": {
     "slide_type": "slide"
    }
   },
   "source": [
    "# API Example: Twitter"
   ]
  },
  {
   "cell_type": "code",
   "execution_count": 14,
   "metadata": {
    "slideshow": {
     "slide_type": "fragment"
    }
   },
   "outputs": [
    {
     "data": {
      "text/plain": [
       "{'created_at': 'Wed Dec 07 17:24:21 +0000 2022',\n",
       " 'id': 1600541735519764482,\n",
       " 'id_str': '1600541735519764482',\n",
       " 'text': 'RT @jwoodgett: New position in data science and health research. Come join us at the Lunenfeld-Tanenbaum Research Institute @SinaiHealth, T…',\n",
       " 'truncated': False,\n",
       " 'entities': {'hashtags': [],\n",
       "  'symbols': [],\n",
       "  'user_mentions': [{'screen_name': 'jwoodgett',\n",
       "    'name': 'Jim Woodgett',\n",
       "    'id': 134941111,\n",
       "    'id_str': '134941111',\n",
       "    'indices': [3, 13]},\n",
       "   {'screen_name': 'SinaiHealth',\n",
       "    'name': 'Sinai Health',\n",
       "    'id': 17158780,\n",
       "    'id_str': '17158780',\n",
       "    'indices': [124, 136]}],\n",
       "  'urls': []},\n",
       " 'metadata': {'iso_language_code': 'en', 'result_type': 'recent'},\n",
       " 'source': '<a href=\"https://mobile.twitter.com\" rel=\"nofollow\">Twitter Web App</a>',\n",
       " 'in_reply_to_status_id': None,\n",
       " 'in_reply_to_status_id_str': None,\n",
       " 'in_reply_to_user_id': None,\n",
       " 'in_reply_to_user_id_str': None,\n",
       " 'in_reply_to_screen_name': None,\n",
       " 'user': {'id': 1427382006124535815,\n",
       "  'id_str': '1427382006124535815',\n",
       "  'name': 'UofT Data Sciences Institute (DSI)',\n",
       "  'screen_name': 'UofTDSI',\n",
       "  'location': 'Toronto, Ontario',\n",
       "  'description': 'The Data Sciences Institute is a new multi-divisional, tri-campus, multidisciplinary hub for data science innovation @UofT.',\n",
       "  'url': 'https://t.co/bDPAR8tjjK',\n",
       "  'entities': {'url': {'urls': [{'url': 'https://t.co/bDPAR8tjjK',\n",
       "      'expanded_url': 'https://datasciences.utoronto.ca/',\n",
       "      'display_url': 'datasciences.utoronto.ca',\n",
       "      'indices': [0, 23]}]},\n",
       "   'description': {'urls': []}},\n",
       "  'protected': False,\n",
       "  'followers_count': 1336,\n",
       "  'friends_count': 153,\n",
       "  'listed_count': 12,\n",
       "  'created_at': 'Mon Aug 16 21:29:57 +0000 2021',\n",
       "  'favourites_count': 722,\n",
       "  'utc_offset': None,\n",
       "  'time_zone': None,\n",
       "  'geo_enabled': False,\n",
       "  'verified': False,\n",
       "  'statuses_count': 736,\n",
       "  'lang': None,\n",
       "  'contributors_enabled': False,\n",
       "  'is_translator': False,\n",
       "  'is_translation_enabled': False,\n",
       "  'profile_background_color': 'F5F8FA',\n",
       "  'profile_background_image_url': None,\n",
       "  'profile_background_image_url_https': None,\n",
       "  'profile_background_tile': False,\n",
       "  'profile_image_url': 'http://pbs.twimg.com/profile_images/1430177765077229573/1taXPa1r_normal.jpg',\n",
       "  'profile_image_url_https': 'https://pbs.twimg.com/profile_images/1430177765077229573/1taXPa1r_normal.jpg',\n",
       "  'profile_banner_url': 'https://pbs.twimg.com/profile_banners/1427382006124535815/1659456275',\n",
       "  'profile_link_color': '1DA1F2',\n",
       "  'profile_sidebar_border_color': 'C0DEED',\n",
       "  'profile_sidebar_fill_color': 'DDEEF6',\n",
       "  'profile_text_color': '333333',\n",
       "  'profile_use_background_image': True,\n",
       "  'has_extended_profile': True,\n",
       "  'default_profile': True,\n",
       "  'default_profile_image': False,\n",
       "  'following': False,\n",
       "  'follow_request_sent': False,\n",
       "  'notifications': False,\n",
       "  'translator_type': 'none',\n",
       "  'withheld_in_countries': []},\n",
       " 'geo': None,\n",
       " 'coordinates': None,\n",
       " 'place': None,\n",
       " 'contributors': None,\n",
       " 'retweeted_status': {'created_at': 'Mon Dec 05 21:47:48 +0000 2022',\n",
       "  'id': 1599883262884732937,\n",
       "  'id_str': '1599883262884732937',\n",
       "  'text': 'New position in data science and health research. Come join us at the Lunenfeld-Tanenbaum Research Institute… https://t.co/92ijMrkaMu',\n",
       "  'truncated': True,\n",
       "  'entities': {'hashtags': [],\n",
       "   'symbols': [],\n",
       "   'user_mentions': [],\n",
       "   'urls': [{'url': 'https://t.co/92ijMrkaMu',\n",
       "     'expanded_url': 'https://twitter.com/i/web/status/1599883262884732937',\n",
       "     'display_url': 'twitter.com/i/web/status/1…',\n",
       "     'indices': [110, 133]}]},\n",
       "  'metadata': {'iso_language_code': 'en', 'result_type': 'recent'},\n",
       "  'source': '<a href=\"https://tapbots.com/software/tweetbot/mac\" rel=\"nofollow\">Tweetbot for Mac</a>',\n",
       "  'in_reply_to_status_id': None,\n",
       "  'in_reply_to_status_id_str': None,\n",
       "  'in_reply_to_user_id': None,\n",
       "  'in_reply_to_user_id_str': None,\n",
       "  'in_reply_to_screen_name': None,\n",
       "  'user': {'id': 134941111,\n",
       "   'id_str': '134941111',\n",
       "   'name': 'Jim Woodgett',\n",
       "   'screen_name': 'jwoodgett',\n",
       "   'location': 'Toronto',\n",
       "   'description': 'Biomedical researcher at #LTRI: signaling, cancer & Alzheimers; @jwoodgett@mas.to He/Him #TerryFox https://t.co/c02NBnBblM',\n",
       "   'url': 'https://t.co/JuNHii5lSG',\n",
       "   'entities': {'url': {'urls': [{'url': 'https://t.co/JuNHii5lSG',\n",
       "       'expanded_url': 'http://www.lunenfeld.ca/researchers/woodgett',\n",
       "       'display_url': 'lunenfeld.ca/researchers/wo…',\n",
       "       'indices': [0, 23]}]},\n",
       "    'description': {'urls': [{'url': 'https://t.co/c02NBnBblM',\n",
       "       'expanded_url': 'http://tfri.ca',\n",
       "       'display_url': 'tfri.ca',\n",
       "       'indices': [99, 122]}]}},\n",
       "   'protected': False,\n",
       "   'followers_count': 9882,\n",
       "   'friends_count': 373,\n",
       "   'listed_count': 205,\n",
       "   'created_at': 'Mon Apr 19 22:25:15 +0000 2010',\n",
       "   'favourites_count': 48679,\n",
       "   'utc_offset': None,\n",
       "   'time_zone': None,\n",
       "   'geo_enabled': True,\n",
       "   'verified': False,\n",
       "   'statuses_count': 72497,\n",
       "   'lang': None,\n",
       "   'contributors_enabled': False,\n",
       "   'is_translator': False,\n",
       "   'is_translation_enabled': False,\n",
       "   'profile_background_color': '709397',\n",
       "   'profile_background_image_url': 'http://abs.twimg.com/images/themes/theme6/bg.gif',\n",
       "   'profile_background_image_url_https': 'https://abs.twimg.com/images/themes/theme6/bg.gif',\n",
       "   'profile_background_tile': False,\n",
       "   'profile_image_url': 'http://pbs.twimg.com/profile_images/1590769232039612442/St7OcwMy_normal.jpg',\n",
       "   'profile_image_url_https': 'https://pbs.twimg.com/profile_images/1590769232039612442/St7OcwMy_normal.jpg',\n",
       "   'profile_banner_url': 'https://pbs.twimg.com/profile_banners/134941111/1629217146',\n",
       "   'profile_link_color': '3A5738',\n",
       "   'profile_sidebar_border_color': '86A4A6',\n",
       "   'profile_sidebar_fill_color': 'A0C5C7',\n",
       "   'profile_text_color': '333333',\n",
       "   'profile_use_background_image': True,\n",
       "   'has_extended_profile': True,\n",
       "   'default_profile': False,\n",
       "   'default_profile_image': False,\n",
       "   'following': False,\n",
       "   'follow_request_sent': False,\n",
       "   'notifications': False,\n",
       "   'translator_type': 'none',\n",
       "   'withheld_in_countries': []},\n",
       "  'geo': None,\n",
       "  'coordinates': None,\n",
       "  'place': None,\n",
       "  'contributors': None,\n",
       "  'is_quote_status': False,\n",
       "  'retweet_count': 25,\n",
       "  'favorite_count': 27,\n",
       "  'favorited': False,\n",
       "  'retweeted': False,\n",
       "  'possibly_sensitive': False,\n",
       "  'lang': 'en'},\n",
       " 'is_quote_status': False,\n",
       " 'retweet_count': 25,\n",
       " 'favorite_count': 0,\n",
       " 'favorited': False,\n",
       " 'retweeted': False,\n",
       " 'lang': 'en'}"
      ]
     },
     "execution_count": 14,
     "metadata": {},
     "output_type": "execute_result"
    }
   ],
   "source": [
    "public_tweets[0]"
   ]
  },
  {
   "cell_type": "markdown",
   "metadata": {
    "slideshow": {
     "slide_type": "slide"
    }
   },
   "source": [
    "# Loading Data with pandas\n",
    "\n",
    "- to_csv\n",
    "- to excel\n",
    "- to_json\n",
    "- to_html\n",
    "- to_parquet\n",
    "<br>\n",
    "\n",
    "- to_sql\n",
    "- to_clipboard\n",
    "<br>\n",
    "\n",
    "- to_pickle"
   ]
  },
  {
   "cell_type": "markdown",
   "metadata": {},
   "source": [
    "# Data Processing Summary\n",
    "\n",
    "- ETL\n",
    "- reading datafiles using pandas\n",
    "- website scraping (requests,BeautifulSoup)\n",
    "- accessing data via API\n",
    "- **Next:** accessing data via SQL\n"
   ]
  },
  {
   "cell_type": "markdown",
   "metadata": {
    "slideshow": {
     "slide_type": "slide"
    }
   },
   "source": [
    "# Accessing Databases with Python\n",
    "\n",
    "- databases vs flat-files\n",
    "- Relational Databases and SQL\n",
    "- NoSQL databases"
   ]
  },
  {
   "cell_type": "markdown",
   "metadata": {
    "slideshow": {
     "slide_type": "slide"
    }
   },
   "source": [
    "# Flat Files\n",
    "\n",
    "<div align=\"center\"><img src=\"images/unnormalized.png\"></div>\n",
    "\n",
    "- eg: csv, json, etc\n",
    "- Pros\n",
    "  - Ease of access\n",
    "  - Simple to transport\n",
    "<br>\n",
    "\n",
    "- Cons\n",
    "  - May include redundant information\n",
    "  - Slow to search\n",
    "  - No integity checks"
   ]
  },
  {
   "cell_type": "markdown",
   "metadata": {
    "slideshow": {
     "slide_type": "slide"
    }
   },
   "source": [
    "# Relational Databases\n",
    "\n",
    "- Data stored in **tables** (rows/columns)\n",
    "- Table columns have well defined datatype requirements\n",
    "- Complex **indexes** can be set up over often used data/searches\n",
    "- Row level security, separate from the operating system\n",
    "- Related data is stored in separate tables, referenced by **keys**\n",
    "<br>\n",
    "\n",
    "- Many commonly used Relational Databases\n",
    "  - sqlite (small footprint db, might already have it installed)\n",
    "  - Mysql\n",
    "  - PostgreSQL\n",
    "  - Microsoft SQL Server\n",
    "  - Oracle"
   ]
  },
  {
   "cell_type": "markdown",
   "metadata": {
    "slideshow": {
     "slide_type": "slide"
    }
   },
   "source": [
    "# Database Normalization\n",
    "\n",
    "- Organize data in accordance with **normal forms**\n",
    "<br>\n",
    "\n",
    "- Rules designed to:\n",
    "  - reduce data redundancy\n",
    "  - improve data integrity\n",
    "<br>\n",
    "<br>\n",
    "\n",
    "- Rules like:\n",
    "  - Has Primary Key\n",
    "  - No repeating groups\n",
    "  - Cells have single values\n",
    "  - No partial dependencies on keys (use whole key)\n",
    "  - ..."
   ]
  },
  {
   "cell_type": "markdown",
   "metadata": {
    "slideshow": {
     "slide_type": "slide"
    }
   },
   "source": [
    "# Database Normalization\n",
    "<br>\n",
    "\n",
    "<div align=\"center\"><img src=\"images/database_normalization.jpeg\" width=\"1200px\"></div>\n",
    "\n",
    "From [https://www.minigranth.com/dbms-tutorial/database-normalization-dbms/](https://www.minigranth.com/dbms-tutorial/database-normalization-dbms/)"
   ]
  },
  {
   "cell_type": "markdown",
   "metadata": {
    "slideshow": {
     "slide_type": "slide"
    }
   },
   "source": [
    "# De-Normalization\n",
    "<br>\n",
    "\n",
    "- But we want a single table/dataframe!\n",
    "- Very often need to **denormalize**\n",
    "- .. using joins! (like we've seen before)"
   ]
  },
  {
   "cell_type": "markdown",
   "metadata": {
    "slideshow": {
     "slide_type": "slide"
    }
   },
   "source": [
    "# Structured Query Language (SQL)\n",
    "\n",
    "- (Semi) standard language for querying, transforming and returning data\n",
    "- Notable characteristics:\n",
    "  - generally case independent\n",
    "  - white-space is ignored\n",
    "  - strings denoted with single quotes\n",
    "  - comments start with double-dash \"--\"\n",
    "  \n",
    "```sql\n",
    "SELECT \n",
    "    client_id\n",
    "    ,lastname\n",
    "FROM\n",
    "    company_db.bi.clients --usually database.schema.table\n",
    "WHERE\n",
    "    lastname LIKE 'Gi%'   --only include rows with lastname starting with Gi\n",
    "LIMIT 10\n",
    "```"
   ]
  },
  {
   "cell_type": "markdown",
   "metadata": {
    "slideshow": {
     "slide_type": "slide"
    }
   },
   "source": [
    "# Small but Powerful DB: SQLite3\n",
    "\n",
    "- may already have it installed\n",
    "- many programs use it to store configurations, history, etc\n",
    "- good place to play around with sql\n",
    "\n",
    "```\n",
    "bgibson@civet:~$ sqlite3\n",
    "SQLite version 3.22.0 2018-01-22 18:45:57\n",
    "Enter \".help\" for usage hints.\n",
    "Connected to a transient in-memory database.\n",
    "Use \".open FILENAME\" to reopen on a persistent database.\n",
    "sqlite> \n",
    "```"
   ]
  },
  {
   "cell_type": "markdown",
   "metadata": {
    "slideshow": {
     "slide_type": "slide"
    }
   },
   "source": [
    "# Accessing Relational DBs: `sqlalchemy`\n",
    "\n",
    "- flexible library for accessing a variety of sql dbs\n",
    "- can use to query through pandas to retrieve a dataframe"
   ]
  },
  {
   "cell_type": "raw",
   "metadata": {
    "slideshow": {
     "slide_type": "skip"
    }
   },
   "source": [
    "import sqlalchemy\n",
    "\n",
    "df = pd.read_csv('../data/example.csv',header=0,sep=',',na_values='None')\n",
    "engine = sqlalchemy.create_engine('sqlite:///../data/autos.sqlite')\n",
    "df.to_sql('sales',engine,if_exists='replace',index_label=\"ID\")"
   ]
  },
  {
   "cell_type": "raw",
   "metadata": {
    "slideshow": {
     "slide_type": "skip"
    }
   },
   "source": [
    "import sqlalchemy\n",
    "\n",
    "engine = sqlalchemy.create_engine('sqlite:///../data/example_business.sqlite')\n",
    "\n",
    "data = [[102,'Mikel','Rouse',1002],\n",
    "        [103,'Laura','Gibson',1003],\n",
    "        [104,None,'Reeves',1003],\n",
    "        [105,'Scott','Payseur',1004]]\n",
    "clients = pd.DataFrame(data,columns=['client_id', 'firstname', 'lastname', 'home_address_id'])\n",
    "\n",
    "\n",
    "addresses = pd.DataFrame([[1002,'1 First Ave.'],[1003,'2 Second Ave.'],[1005,'3 Third Ave.']],\n",
    "                         columns=['address_id','address'])\n",
    "\n",
    "engine = sqlalchemy.create_engine('sqlite:///../data/example_business.sqlite')\n",
    "clients.to_sql('clients',engine,if_exists='replace',index=False)\n",
    "addresses.to_sql('addresses',engine,if_exists='replace',index=False)"
   ]
  },
  {
   "cell_type": "code",
   "execution_count": 15,
   "metadata": {
    "scrolled": true,
    "slideshow": {
     "slide_type": "fragment"
    }
   },
   "outputs": [
    {
     "data": {
      "text/html": [
       "<div>\n",
       "<style scoped>\n",
       "    .dataframe tbody tr th:only-of-type {\n",
       "        vertical-align: middle;\n",
       "    }\n",
       "\n",
       "    .dataframe tbody tr th {\n",
       "        vertical-align: top;\n",
       "    }\n",
       "\n",
       "    .dataframe thead th {\n",
       "        text-align: right;\n",
       "    }\n",
       "</style>\n",
       "<table border=\"1\" class=\"dataframe\">\n",
       "  <thead>\n",
       "    <tr style=\"text-align: right;\">\n",
       "      <th></th>\n",
       "      <th>client_id</th>\n",
       "      <th>firstname</th>\n",
       "      <th>lastname</th>\n",
       "      <th>home_address_id</th>\n",
       "    </tr>\n",
       "  </thead>\n",
       "  <tbody>\n",
       "    <tr>\n",
       "      <th>0</th>\n",
       "      <td>102</td>\n",
       "      <td>Mikel</td>\n",
       "      <td>Rouse</td>\n",
       "      <td>1002</td>\n",
       "    </tr>\n",
       "    <tr>\n",
       "      <th>1</th>\n",
       "      <td>103</td>\n",
       "      <td>Laura</td>\n",
       "      <td>Gibson</td>\n",
       "      <td>1003</td>\n",
       "    </tr>\n",
       "    <tr>\n",
       "      <th>2</th>\n",
       "      <td>104</td>\n",
       "      <td>None</td>\n",
       "      <td>Reeves</td>\n",
       "      <td>1003</td>\n",
       "    </tr>\n",
       "    <tr>\n",
       "      <th>3</th>\n",
       "      <td>105</td>\n",
       "      <td>Scott</td>\n",
       "      <td>Payseur</td>\n",
       "      <td>1004</td>\n",
       "    </tr>\n",
       "  </tbody>\n",
       "</table>\n",
       "</div>"
      ],
      "text/plain": [
       "   client_id firstname lastname  home_address_id\n",
       "0        102     Mikel    Rouse             1002\n",
       "1        103     Laura   Gibson             1003\n",
       "2        104      None   Reeves             1003\n",
       "3        105     Scott  Payseur             1004"
      ]
     },
     "execution_count": 15,
     "metadata": {},
     "output_type": "execute_result"
    }
   ],
   "source": [
    "import sqlalchemy\n",
    "\n",
    "# sqlite sqlalchemy relative path syntax: 'sqlite:///[path to database file]'\n",
    "engine = sqlalchemy.create_engine('sqlite:///../data/example_business.sqlite')\n",
    "\n",
    "# read all records from the table \"clients\"\n",
    "sql = \"\"\"\n",
    "SELECT\n",
    "    *\n",
    "FROM\n",
    "    clients\n",
    "\"\"\"\n",
    "\n",
    "pd.read_sql(sql,engine)"
   ]
  },
  {
   "cell_type": "markdown",
   "metadata": {
    "slideshow": {
     "slide_type": "slide"
    }
   },
   "source": [
    "# SQL: SELECT"
   ]
  },
  {
   "cell_type": "code",
   "execution_count": 16,
   "metadata": {
    "slideshow": {
     "slide_type": "fragment"
    }
   },
   "outputs": [
    {
     "data": {
      "text/html": [
       "<div>\n",
       "<style scoped>\n",
       "    .dataframe tbody tr th:only-of-type {\n",
       "        vertical-align: middle;\n",
       "    }\n",
       "\n",
       "    .dataframe tbody tr th {\n",
       "        vertical-align: top;\n",
       "    }\n",
       "\n",
       "    .dataframe thead th {\n",
       "        text-align: right;\n",
       "    }\n",
       "</style>\n",
       "<table border=\"1\" class=\"dataframe\">\n",
       "  <thead>\n",
       "    <tr style=\"text-align: right;\">\n",
       "      <th></th>\n",
       "      <th>client_id</th>\n",
       "      <th>lastname</th>\n",
       "    </tr>\n",
       "  </thead>\n",
       "  <tbody>\n",
       "    <tr>\n",
       "      <th>0</th>\n",
       "      <td>102</td>\n",
       "      <td>Rouse</td>\n",
       "    </tr>\n",
       "    <tr>\n",
       "      <th>1</th>\n",
       "      <td>103</td>\n",
       "      <td>Gibson</td>\n",
       "    </tr>\n",
       "    <tr>\n",
       "      <th>2</th>\n",
       "      <td>104</td>\n",
       "      <td>Reeves</td>\n",
       "    </tr>\n",
       "    <tr>\n",
       "      <th>3</th>\n",
       "      <td>105</td>\n",
       "      <td>Payseur</td>\n",
       "    </tr>\n",
       "  </tbody>\n",
       "</table>\n",
       "</div>"
      ],
      "text/plain": [
       "   client_id lastname\n",
       "0        102    Rouse\n",
       "1        103   Gibson\n",
       "2        104   Reeves\n",
       "3        105  Payseur"
      ]
     },
     "execution_count": 16,
     "metadata": {},
     "output_type": "execute_result"
    }
   ],
   "source": [
    "sql=\"\"\"\n",
    "SELECT \n",
    "    client_id\n",
    "    ,lastname\n",
    "FROM\n",
    "    clients\n",
    "\"\"\"\n",
    "\n",
    "pd.read_sql(sql,engine)"
   ]
  },
  {
   "cell_type": "markdown",
   "metadata": {
    "slideshow": {
     "slide_type": "slide"
    }
   },
   "source": [
    "# SQL: * (wildcard)"
   ]
  },
  {
   "cell_type": "code",
   "execution_count": 17,
   "metadata": {
    "slideshow": {
     "slide_type": "fragment"
    }
   },
   "outputs": [
    {
     "data": {
      "text/html": [
       "<div>\n",
       "<style scoped>\n",
       "    .dataframe tbody tr th:only-of-type {\n",
       "        vertical-align: middle;\n",
       "    }\n",
       "\n",
       "    .dataframe tbody tr th {\n",
       "        vertical-align: top;\n",
       "    }\n",
       "\n",
       "    .dataframe thead th {\n",
       "        text-align: right;\n",
       "    }\n",
       "</style>\n",
       "<table border=\"1\" class=\"dataframe\">\n",
       "  <thead>\n",
       "    <tr style=\"text-align: right;\">\n",
       "      <th></th>\n",
       "      <th>client_id</th>\n",
       "      <th>firstname</th>\n",
       "      <th>lastname</th>\n",
       "      <th>home_address_id</th>\n",
       "    </tr>\n",
       "  </thead>\n",
       "  <tbody>\n",
       "    <tr>\n",
       "      <th>0</th>\n",
       "      <td>102</td>\n",
       "      <td>Mikel</td>\n",
       "      <td>Rouse</td>\n",
       "      <td>1002</td>\n",
       "    </tr>\n",
       "    <tr>\n",
       "      <th>1</th>\n",
       "      <td>103</td>\n",
       "      <td>Laura</td>\n",
       "      <td>Gibson</td>\n",
       "      <td>1003</td>\n",
       "    </tr>\n",
       "    <tr>\n",
       "      <th>2</th>\n",
       "      <td>104</td>\n",
       "      <td>None</td>\n",
       "      <td>Reeves</td>\n",
       "      <td>1003</td>\n",
       "    </tr>\n",
       "    <tr>\n",
       "      <th>3</th>\n",
       "      <td>105</td>\n",
       "      <td>Scott</td>\n",
       "      <td>Payseur</td>\n",
       "      <td>1004</td>\n",
       "    </tr>\n",
       "  </tbody>\n",
       "</table>\n",
       "</div>"
      ],
      "text/plain": [
       "   client_id firstname lastname  home_address_id\n",
       "0        102     Mikel    Rouse             1002\n",
       "1        103     Laura   Gibson             1003\n",
       "2        104      None   Reeves             1003\n",
       "3        105     Scott  Payseur             1004"
      ]
     },
     "execution_count": 17,
     "metadata": {},
     "output_type": "execute_result"
    }
   ],
   "source": [
    "sql=\"\"\"\n",
    "SELECT \n",
    "    *\n",
    "FROM\n",
    "    clients\n",
    "\"\"\"\n",
    "clients = pd.read_sql(sql,engine)\n",
    "clients"
   ]
  },
  {
   "cell_type": "code",
   "execution_count": 18,
   "metadata": {
    "slideshow": {
     "slide_type": "fragment"
    }
   },
   "outputs": [
    {
     "data": {
      "text/html": [
       "<div>\n",
       "<style scoped>\n",
       "    .dataframe tbody tr th:only-of-type {\n",
       "        vertical-align: middle;\n",
       "    }\n",
       "\n",
       "    .dataframe tbody tr th {\n",
       "        vertical-align: top;\n",
       "    }\n",
       "\n",
       "    .dataframe thead th {\n",
       "        text-align: right;\n",
       "    }\n",
       "</style>\n",
       "<table border=\"1\" class=\"dataframe\">\n",
       "  <thead>\n",
       "    <tr style=\"text-align: right;\">\n",
       "      <th></th>\n",
       "      <th>address_id</th>\n",
       "      <th>address</th>\n",
       "    </tr>\n",
       "  </thead>\n",
       "  <tbody>\n",
       "    <tr>\n",
       "      <th>0</th>\n",
       "      <td>1002</td>\n",
       "      <td>1 First Ave.</td>\n",
       "    </tr>\n",
       "    <tr>\n",
       "      <th>1</th>\n",
       "      <td>1003</td>\n",
       "      <td>2 Second Ave.</td>\n",
       "    </tr>\n",
       "    <tr>\n",
       "      <th>2</th>\n",
       "      <td>1005</td>\n",
       "      <td>3 Third Ave.</td>\n",
       "    </tr>\n",
       "  </tbody>\n",
       "</table>\n",
       "</div>"
      ],
      "text/plain": [
       "   address_id        address\n",
       "0        1002   1 First Ave.\n",
       "1        1003  2 Second Ave.\n",
       "2        1005   3 Third Ave."
      ]
     },
     "execution_count": 18,
     "metadata": {},
     "output_type": "execute_result"
    }
   ],
   "source": [
    "sql=\"\"\"\n",
    "SELECT \n",
    "    *\n",
    "FROM\n",
    "    addresses\n",
    "\"\"\"\n",
    "addresses = pd.read_sql(sql,engine)\n",
    "addresses"
   ]
  },
  {
   "cell_type": "markdown",
   "metadata": {
    "slideshow": {
     "slide_type": "slide"
    }
   },
   "source": [
    "# SQL: LIMIT"
   ]
  },
  {
   "cell_type": "code",
   "execution_count": 19,
   "metadata": {
    "slideshow": {
     "slide_type": "fragment"
    }
   },
   "outputs": [
    {
     "data": {
      "text/html": [
       "<div>\n",
       "<style scoped>\n",
       "    .dataframe tbody tr th:only-of-type {\n",
       "        vertical-align: middle;\n",
       "    }\n",
       "\n",
       "    .dataframe tbody tr th {\n",
       "        vertical-align: top;\n",
       "    }\n",
       "\n",
       "    .dataframe thead th {\n",
       "        text-align: right;\n",
       "    }\n",
       "</style>\n",
       "<table border=\"1\" class=\"dataframe\">\n",
       "  <thead>\n",
       "    <tr style=\"text-align: right;\">\n",
       "      <th></th>\n",
       "      <th>client_id</th>\n",
       "      <th>firstname</th>\n",
       "      <th>lastname</th>\n",
       "      <th>home_address_id</th>\n",
       "    </tr>\n",
       "  </thead>\n",
       "  <tbody>\n",
       "    <tr>\n",
       "      <th>0</th>\n",
       "      <td>102</td>\n",
       "      <td>Mikel</td>\n",
       "      <td>Rouse</td>\n",
       "      <td>1002</td>\n",
       "    </tr>\n",
       "    <tr>\n",
       "      <th>1</th>\n",
       "      <td>103</td>\n",
       "      <td>Laura</td>\n",
       "      <td>Gibson</td>\n",
       "      <td>1003</td>\n",
       "    </tr>\n",
       "  </tbody>\n",
       "</table>\n",
       "</div>"
      ],
      "text/plain": [
       "   client_id firstname lastname  home_address_id\n",
       "0        102     Mikel    Rouse             1002\n",
       "1        103     Laura   Gibson             1003"
      ]
     },
     "execution_count": 19,
     "metadata": {},
     "output_type": "execute_result"
    }
   ],
   "source": [
    "sql=\"\"\"\n",
    "SELECT \n",
    "    *\n",
    "FROM\n",
    "    clients\n",
    "LIMIT 2\n",
    "\"\"\"\n",
    "pd.read_sql(sql,engine)"
   ]
  },
  {
   "cell_type": "markdown",
   "metadata": {
    "slideshow": {
     "slide_type": "slide"
    }
   },
   "source": [
    "# SQL: WHERE"
   ]
  },
  {
   "cell_type": "code",
   "execution_count": 20,
   "metadata": {
    "slideshow": {
     "slide_type": "fragment"
    }
   },
   "outputs": [
    {
     "data": {
      "text/html": [
       "<div>\n",
       "<style scoped>\n",
       "    .dataframe tbody tr th:only-of-type {\n",
       "        vertical-align: middle;\n",
       "    }\n",
       "\n",
       "    .dataframe tbody tr th {\n",
       "        vertical-align: top;\n",
       "    }\n",
       "\n",
       "    .dataframe thead th {\n",
       "        text-align: right;\n",
       "    }\n",
       "</style>\n",
       "<table border=\"1\" class=\"dataframe\">\n",
       "  <thead>\n",
       "    <tr style=\"text-align: right;\">\n",
       "      <th></th>\n",
       "      <th>client_id</th>\n",
       "      <th>firstname</th>\n",
       "      <th>lastname</th>\n",
       "      <th>home_address_id</th>\n",
       "    </tr>\n",
       "  </thead>\n",
       "  <tbody>\n",
       "    <tr>\n",
       "      <th>0</th>\n",
       "      <td>103</td>\n",
       "      <td>Laura</td>\n",
       "      <td>Gibson</td>\n",
       "      <td>1003</td>\n",
       "    </tr>\n",
       "    <tr>\n",
       "      <th>1</th>\n",
       "      <td>104</td>\n",
       "      <td>None</td>\n",
       "      <td>Reeves</td>\n",
       "      <td>1003</td>\n",
       "    </tr>\n",
       "  </tbody>\n",
       "</table>\n",
       "</div>"
      ],
      "text/plain": [
       "   client_id firstname lastname  home_address_id\n",
       "0        103     Laura   Gibson             1003\n",
       "1        104      None   Reeves             1003"
      ]
     },
     "execution_count": 20,
     "metadata": {},
     "output_type": "execute_result"
    }
   ],
   "source": [
    "sql = \"\"\"\n",
    "SELECT\n",
    "    *\n",
    "FROM\n",
    "    clients\n",
    "WHERE home_address_id = 1003\n",
    "\"\"\"\n",
    "\n",
    "pd.read_sql(sql,engine)"
   ]
  },
  {
   "cell_type": "markdown",
   "metadata": {
    "slideshow": {
     "slide_type": "slide"
    }
   },
   "source": [
    "# SQL: LIKE and %"
   ]
  },
  {
   "cell_type": "code",
   "execution_count": 21,
   "metadata": {
    "slideshow": {
     "slide_type": "fragment"
    }
   },
   "outputs": [
    {
     "data": {
      "text/html": [
       "<div>\n",
       "<style scoped>\n",
       "    .dataframe tbody tr th:only-of-type {\n",
       "        vertical-align: middle;\n",
       "    }\n",
       "\n",
       "    .dataframe tbody tr th {\n",
       "        vertical-align: top;\n",
       "    }\n",
       "\n",
       "    .dataframe thead th {\n",
       "        text-align: right;\n",
       "    }\n",
       "</style>\n",
       "<table border=\"1\" class=\"dataframe\">\n",
       "  <thead>\n",
       "    <tr style=\"text-align: right;\">\n",
       "      <th></th>\n",
       "      <th>client_id</th>\n",
       "      <th>firstname</th>\n",
       "      <th>lastname</th>\n",
       "      <th>home_address_id</th>\n",
       "    </tr>\n",
       "  </thead>\n",
       "  <tbody>\n",
       "    <tr>\n",
       "      <th>0</th>\n",
       "      <td>103</td>\n",
       "      <td>Laura</td>\n",
       "      <td>Gibson</td>\n",
       "      <td>1003</td>\n",
       "    </tr>\n",
       "  </tbody>\n",
       "</table>\n",
       "</div>"
      ],
      "text/plain": [
       "   client_id firstname lastname  home_address_id\n",
       "0        103     Laura   Gibson             1003"
      ]
     },
     "execution_count": 21,
     "metadata": {},
     "output_type": "execute_result"
    }
   ],
   "source": [
    "sql = \"\"\"\n",
    "SELECT\n",
    "    *\n",
    "FROM\n",
    "    clients\n",
    "WHERE (home_address_id = 1003) AND (lastname LIKE 'Gi%')\n",
    "\"\"\"\n",
    "\n",
    "pd.read_sql(sql,engine)"
   ]
  },
  {
   "cell_type": "markdown",
   "metadata": {
    "slideshow": {
     "slide_type": "slide"
    }
   },
   "source": [
    "# SQL: AS alias"
   ]
  },
  {
   "cell_type": "code",
   "execution_count": 22,
   "metadata": {
    "slideshow": {
     "slide_type": "fragment"
    }
   },
   "outputs": [
    {
     "data": {
      "text/html": [
       "<div>\n",
       "<style scoped>\n",
       "    .dataframe tbody tr th:only-of-type {\n",
       "        vertical-align: middle;\n",
       "    }\n",
       "\n",
       "    .dataframe tbody tr th {\n",
       "        vertical-align: top;\n",
       "    }\n",
       "\n",
       "    .dataframe thead th {\n",
       "        text-align: right;\n",
       "    }\n",
       "</style>\n",
       "<table border=\"1\" class=\"dataframe\">\n",
       "  <thead>\n",
       "    <tr style=\"text-align: right;\">\n",
       "      <th></th>\n",
       "      <th>CID</th>\n",
       "      <th>Lastname</th>\n",
       "    </tr>\n",
       "  </thead>\n",
       "  <tbody>\n",
       "    <tr>\n",
       "      <th>0</th>\n",
       "      <td>102</td>\n",
       "      <td>Rouse</td>\n",
       "    </tr>\n",
       "    <tr>\n",
       "      <th>1</th>\n",
       "      <td>103</td>\n",
       "      <td>Gibson</td>\n",
       "    </tr>\n",
       "    <tr>\n",
       "      <th>2</th>\n",
       "      <td>104</td>\n",
       "      <td>Reeves</td>\n",
       "    </tr>\n",
       "    <tr>\n",
       "      <th>3</th>\n",
       "      <td>105</td>\n",
       "      <td>Payseur</td>\n",
       "    </tr>\n",
       "  </tbody>\n",
       "</table>\n",
       "</div>"
      ],
      "text/plain": [
       "   CID Lastname\n",
       "0  102    Rouse\n",
       "1  103   Gibson\n",
       "2  104   Reeves\n",
       "3  105  Payseur"
      ]
     },
     "execution_count": 22,
     "metadata": {},
     "output_type": "execute_result"
    }
   ],
   "source": [
    "sql=\"\"\"\n",
    "SELECT \n",
    "    client_id AS CID\n",
    "    ,lastname AS Lastname\n",
    "FROM\n",
    "    clients AS ca\n",
    "\"\"\"\n",
    "\n",
    "pd.read_sql(sql,engine)"
   ]
  },
  {
   "cell_type": "markdown",
   "metadata": {
    "slideshow": {
     "slide_type": "slide"
    }
   },
   "source": [
    "# SQL: (INNER) JOIN"
   ]
  },
  {
   "cell_type": "code",
   "execution_count": 23,
   "metadata": {
    "slideshow": {
     "slide_type": "fragment"
    }
   },
   "outputs": [
    {
     "data": {
      "text/html": [
       "<div>\n",
       "<style scoped>\n",
       "    .dataframe tbody tr th:only-of-type {\n",
       "        vertical-align: middle;\n",
       "    }\n",
       "\n",
       "    .dataframe tbody tr th {\n",
       "        vertical-align: top;\n",
       "    }\n",
       "\n",
       "    .dataframe thead th {\n",
       "        text-align: right;\n",
       "    }\n",
       "</style>\n",
       "<table border=\"1\" class=\"dataframe\">\n",
       "  <thead>\n",
       "    <tr style=\"text-align: right;\">\n",
       "      <th></th>\n",
       "      <th>firstname</th>\n",
       "      <th>address</th>\n",
       "    </tr>\n",
       "  </thead>\n",
       "  <tbody>\n",
       "    <tr>\n",
       "      <th>0</th>\n",
       "      <td>Mikel</td>\n",
       "      <td>1 First Ave.</td>\n",
       "    </tr>\n",
       "    <tr>\n",
       "      <th>1</th>\n",
       "      <td>Laura</td>\n",
       "      <td>2 Second Ave.</td>\n",
       "    </tr>\n",
       "  </tbody>\n",
       "</table>\n",
       "</div>"
      ],
      "text/plain": [
       "  firstname        address\n",
       "0     Mikel   1 First Ave.\n",
       "1     Laura  2 Second Ave."
      ]
     },
     "execution_count": 23,
     "metadata": {},
     "output_type": "execute_result"
    }
   ],
   "source": [
    "sql=\"\"\"\n",
    "SELECT\n",
    "    c.firstname\n",
    "    ,a.address\n",
    "FROM clients AS c\n",
    "JOIN addresses AS a ON c.home_address_id = a.address_id\n",
    "WHERE c.firstname IS NOT NULL\n",
    "\"\"\"\n",
    "\n",
    "pd.read_sql(sql,engine)"
   ]
  },
  {
   "cell_type": "markdown",
   "metadata": {
    "slideshow": {
     "slide_type": "slide"
    }
   },
   "source": [
    "# SQL: LEFT JOIN"
   ]
  },
  {
   "cell_type": "code",
   "execution_count": 24,
   "metadata": {
    "slideshow": {
     "slide_type": "fragment"
    }
   },
   "outputs": [
    {
     "data": {
      "text/html": [
       "<div>\n",
       "<style scoped>\n",
       "    .dataframe tbody tr th:only-of-type {\n",
       "        vertical-align: middle;\n",
       "    }\n",
       "\n",
       "    .dataframe tbody tr th {\n",
       "        vertical-align: top;\n",
       "    }\n",
       "\n",
       "    .dataframe thead th {\n",
       "        text-align: right;\n",
       "    }\n",
       "</style>\n",
       "<table border=\"1\" class=\"dataframe\">\n",
       "  <thead>\n",
       "    <tr style=\"text-align: right;\">\n",
       "      <th></th>\n",
       "      <th>firstname</th>\n",
       "      <th>address</th>\n",
       "    </tr>\n",
       "  </thead>\n",
       "  <tbody>\n",
       "    <tr>\n",
       "      <th>0</th>\n",
       "      <td>Mikel</td>\n",
       "      <td>1 First Ave.</td>\n",
       "    </tr>\n",
       "    <tr>\n",
       "      <th>1</th>\n",
       "      <td>Laura</td>\n",
       "      <td>2 Second Ave.</td>\n",
       "    </tr>\n",
       "    <tr>\n",
       "      <th>2</th>\n",
       "      <td>Scott</td>\n",
       "      <td>None</td>\n",
       "    </tr>\n",
       "  </tbody>\n",
       "</table>\n",
       "</div>"
      ],
      "text/plain": [
       "  firstname        address\n",
       "0     Mikel   1 First Ave.\n",
       "1     Laura  2 Second Ave.\n",
       "2     Scott           None"
      ]
     },
     "execution_count": 24,
     "metadata": {},
     "output_type": "execute_result"
    }
   ],
   "source": [
    "sql=\"\"\"\n",
    "SELECT\n",
    "    c.firstname,a.address\n",
    "FROM clients AS c\n",
    "LEFT JOIN addresses AS a ON c.home_address_id = a.address_id\n",
    "WHERE c.firstname IS NOT NULL\n",
    "\"\"\"\n",
    "\n",
    "pd.read_sql(sql,engine)"
   ]
  },
  {
   "cell_type": "markdown",
   "metadata": {
    "slideshow": {
     "slide_type": "slide"
    }
   },
   "source": [
    "# SQL: RIGHT JOIN"
   ]
  },
  {
   "cell_type": "code",
   "execution_count": 25,
   "metadata": {
    "slideshow": {
     "slide_type": "fragment"
    }
   },
   "outputs": [
    {
     "data": {
      "text/html": [
       "<div>\n",
       "<style scoped>\n",
       "    .dataframe tbody tr th:only-of-type {\n",
       "        vertical-align: middle;\n",
       "    }\n",
       "\n",
       "    .dataframe tbody tr th {\n",
       "        vertical-align: top;\n",
       "    }\n",
       "\n",
       "    .dataframe thead th {\n",
       "        text-align: right;\n",
       "    }\n",
       "</style>\n",
       "<table border=\"1\" class=\"dataframe\">\n",
       "  <thead>\n",
       "    <tr style=\"text-align: right;\">\n",
       "      <th></th>\n",
       "      <th>firstname</th>\n",
       "      <th>address</th>\n",
       "    </tr>\n",
       "  </thead>\n",
       "  <tbody>\n",
       "    <tr>\n",
       "      <th>0</th>\n",
       "      <td>Mikel</td>\n",
       "      <td>1 First Ave.</td>\n",
       "    </tr>\n",
       "    <tr>\n",
       "      <th>1</th>\n",
       "      <td>Laura</td>\n",
       "      <td>2 Second Ave.</td>\n",
       "    </tr>\n",
       "    <tr>\n",
       "      <th>2</th>\n",
       "      <td>None</td>\n",
       "      <td>2 Second Ave.</td>\n",
       "    </tr>\n",
       "    <tr>\n",
       "      <th>3</th>\n",
       "      <td>None</td>\n",
       "      <td>3 Third Ave.</td>\n",
       "    </tr>\n",
       "  </tbody>\n",
       "</table>\n",
       "</div>"
      ],
      "text/plain": [
       "  firstname        address\n",
       "0     Mikel   1 First Ave.\n",
       "1     Laura  2 Second Ave.\n",
       "2      None  2 Second Ave.\n",
       "3      None   3 Third Ave."
      ]
     },
     "execution_count": 25,
     "metadata": {},
     "output_type": "execute_result"
    }
   ],
   "source": [
    "sql=\"\"\"\n",
    "SELECT\n",
    "    c.firstname,a.address\n",
    "FROM clients AS c\n",
    "RIGHT JOIN addresses AS a ON c.home_address_id = a.address_id\n",
    "\"\"\"\n",
    "pd.read_sql(sql,engine)"
   ]
  },
  {
   "cell_type": "markdown",
   "metadata": {
    "slideshow": {
     "slide_type": "slide"
    }
   },
   "source": [
    "# SQL: FULL OUTER JOIN"
   ]
  },
  {
   "cell_type": "code",
   "execution_count": 26,
   "metadata": {
    "slideshow": {
     "slide_type": "fragment"
    }
   },
   "outputs": [
    {
     "data": {
      "text/html": [
       "<div>\n",
       "<style scoped>\n",
       "    .dataframe tbody tr th:only-of-type {\n",
       "        vertical-align: middle;\n",
       "    }\n",
       "\n",
       "    .dataframe tbody tr th {\n",
       "        vertical-align: top;\n",
       "    }\n",
       "\n",
       "    .dataframe thead th {\n",
       "        text-align: right;\n",
       "    }\n",
       "</style>\n",
       "<table border=\"1\" class=\"dataframe\">\n",
       "  <thead>\n",
       "    <tr style=\"text-align: right;\">\n",
       "      <th></th>\n",
       "      <th>firstname</th>\n",
       "      <th>address</th>\n",
       "    </tr>\n",
       "  </thead>\n",
       "  <tbody>\n",
       "    <tr>\n",
       "      <th>0</th>\n",
       "      <td>Mikel</td>\n",
       "      <td>1 First Ave.</td>\n",
       "    </tr>\n",
       "    <tr>\n",
       "      <th>1</th>\n",
       "      <td>Laura</td>\n",
       "      <td>2 Second Ave.</td>\n",
       "    </tr>\n",
       "    <tr>\n",
       "      <th>2</th>\n",
       "      <td>None</td>\n",
       "      <td>2 Second Ave.</td>\n",
       "    </tr>\n",
       "    <tr>\n",
       "      <th>3</th>\n",
       "      <td>Scott</td>\n",
       "      <td>None</td>\n",
       "    </tr>\n",
       "    <tr>\n",
       "      <th>4</th>\n",
       "      <td>None</td>\n",
       "      <td>3 Third Ave.</td>\n",
       "    </tr>\n",
       "  </tbody>\n",
       "</table>\n",
       "</div>"
      ],
      "text/plain": [
       "  firstname        address\n",
       "0     Mikel   1 First Ave.\n",
       "1     Laura  2 Second Ave.\n",
       "2      None  2 Second Ave.\n",
       "3     Scott           None\n",
       "4      None   3 Third Ave."
      ]
     },
     "execution_count": 26,
     "metadata": {},
     "output_type": "execute_result"
    }
   ],
   "source": [
    "sql=\"\"\"\n",
    "SELECT\n",
    "    c.firstname,a.address\n",
    "FROM clients AS c\n",
    "FULL OUTER JOIN addresses AS a ON c.home_address_id = a.address_id\n",
    "\"\"\"\n",
    "pd.read_sql(sql,engine)"
   ]
  },
  {
   "cell_type": "markdown",
   "metadata": {
    "slideshow": {
     "slide_type": "slide"
    }
   },
   "source": [
    "# SQL: Listing Tables"
   ]
  },
  {
   "cell_type": "code",
   "execution_count": 27,
   "metadata": {
    "slideshow": {
     "slide_type": "fragment"
    }
   },
   "outputs": [
    {
     "data": {
      "text/html": [
       "<div>\n",
       "<style scoped>\n",
       "    .dataframe tbody tr th:only-of-type {\n",
       "        vertical-align: middle;\n",
       "    }\n",
       "\n",
       "    .dataframe tbody tr th {\n",
       "        vertical-align: top;\n",
       "    }\n",
       "\n",
       "    .dataframe thead th {\n",
       "        text-align: right;\n",
       "    }\n",
       "</style>\n",
       "<table border=\"1\" class=\"dataframe\">\n",
       "  <thead>\n",
       "    <tr style=\"text-align: right;\">\n",
       "      <th></th>\n",
       "      <th>name</th>\n",
       "    </tr>\n",
       "  </thead>\n",
       "  <tbody>\n",
       "    <tr>\n",
       "      <th>0</th>\n",
       "      <td>addresses</td>\n",
       "    </tr>\n",
       "    <tr>\n",
       "      <th>1</th>\n",
       "      <td>clients</td>\n",
       "    </tr>\n",
       "  </tbody>\n",
       "</table>\n",
       "</div>"
      ],
      "text/plain": [
       "        name\n",
       "0  addresses\n",
       "1    clients"
      ]
     },
     "execution_count": 27,
     "metadata": {},
     "output_type": "execute_result"
    }
   ],
   "source": [
    "sql = \"\"\"\n",
    "SELECT \n",
    "    name\n",
    "FROM sqlite_schema \n",
    "WHERE type='table' \n",
    "ORDER BY name\n",
    "\"\"\"\n",
    "pd.read_sql(sql,engine)"
   ]
  },
  {
   "cell_type": "markdown",
   "metadata": {
    "slideshow": {
     "slide_type": "slide"
    }
   },
   "source": [
    "# SQL: And Much More!\n",
    "\n",
    "- Multiple Joins\n",
    "- DISTINCT\n",
    "- COUNT\n",
    "- ORDER BY\n",
    "- GROUP BY\n",
    "- Operators (string concatenate operator is '||' in sqlite)\n",
    "- Subqueries\n",
    "- HAVING\n",
    "- see [Data Science From Scratch Ch. 23](https://ezproxy.cul.columbia.edu/login?qurl=https%3a%2f%2fsearch.ebscohost.com%2flogin.aspx%3fdirect%3dtrue%26db%3dnlebk%26AN%3d979529%26site%3dehost-live%26scope%3dsite%26ebv%3DEB%26ppid%3Dpp_275)"
   ]
  },
  {
   "cell_type": "markdown",
   "metadata": {
    "slideshow": {
     "slide_type": "slide"
    }
   },
   "source": [
    "# pandasql\n",
    "\n",
    "- allows for querying of pandas DataFrames using SQLite syntax\n",
    "- good way to practice SQL without a database\n"
   ]
  },
  {
   "cell_type": "code",
   "execution_count": 28,
   "metadata": {
    "slideshow": {
     "slide_type": "fragment"
    }
   },
   "outputs": [],
   "source": [
    "from pandasql import PandaSQL \n",
    "\n",
    "# set up an instance of PandaSQL to pass SQL commands to\n",
    "pysqldf = PandaSQL()"
   ]
  },
  {
   "cell_type": "code",
   "execution_count": 29,
   "metadata": {
    "slideshow": {
     "slide_type": "fragment"
    }
   },
   "outputs": [
    {
     "data": {
      "text/html": [
       "<div>\n",
       "<style scoped>\n",
       "    .dataframe tbody tr th:only-of-type {\n",
       "        vertical-align: middle;\n",
       "    }\n",
       "\n",
       "    .dataframe tbody tr th {\n",
       "        vertical-align: top;\n",
       "    }\n",
       "\n",
       "    .dataframe thead th {\n",
       "        text-align: right;\n",
       "    }\n",
       "</style>\n",
       "<table border=\"1\" class=\"dataframe\">\n",
       "  <thead>\n",
       "    <tr style=\"text-align: right;\">\n",
       "      <th></th>\n",
       "      <th>firstname</th>\n",
       "      <th>address</th>\n",
       "    </tr>\n",
       "  </thead>\n",
       "  <tbody>\n",
       "    <tr>\n",
       "      <th>0</th>\n",
       "      <td>Mikel</td>\n",
       "      <td>1 First Ave.</td>\n",
       "    </tr>\n",
       "    <tr>\n",
       "      <th>1</th>\n",
       "      <td>Laura</td>\n",
       "      <td>2 Second Ave.</td>\n",
       "    </tr>\n",
       "    <tr>\n",
       "      <th>2</th>\n",
       "      <td>None</td>\n",
       "      <td>2 Second Ave.</td>\n",
       "    </tr>\n",
       "  </tbody>\n",
       "</table>\n",
       "</div>"
      ],
      "text/plain": [
       "  firstname        address\n",
       "0     Mikel   1 First Ave.\n",
       "1     Laura  2 Second Ave.\n",
       "2      None  2 Second Ave."
      ]
     },
     "execution_count": 29,
     "metadata": {},
     "output_type": "execute_result"
    }
   ],
   "source": [
    "sql = \"\"\"\n",
    "SELECT\n",
    "    c.firstname,a.address\n",
    "FROM clients AS c\n",
    "JOIN addresses AS a ON c.home_address_id = a.address_id\n",
    "\"\"\"\n",
    "pysqldf(sql)"
   ]
  },
  {
   "cell_type": "markdown",
   "metadata": {
    "slideshow": {
     "slide_type": "slide"
    }
   },
   "source": [
    "# For More SQL practice\n",
    "\n",
    "- [SQL Murder Mystery](https://mystery.knightlab.com/)\n",
    "- [SQLZoo](https://sqlzoo.net/wiki/SQL_Tutorial)"
   ]
  },
  {
   "cell_type": "markdown",
   "metadata": {
    "slideshow": {
     "slide_type": "slide"
    }
   },
   "source": [
    "# NoSQL\n",
    "\n",
    "- Anything that isn't traditional SQL/RDBMS\n",
    "  - key-value (Redis,Berkely DB)\n",
    "  - document store (MongoDB, DocumentDB)\n",
    "  - wide column (Cassandra, HBase, DynamoDB)\n",
    "  - graph (Neo4j)\n",
    "<br>\n",
    "<br>\n",
    "\n",
    "- Rapidly growing field to fit needs\n",
    "- Probably more as we speak"
   ]
  },
  {
   "cell_type": "markdown",
   "metadata": {
    "slideshow": {
     "slide_type": "slide"
    }
   },
   "source": [
    "# Example: Mongo\n",
    "<br>\n",
    "\n",
    "- records represented as documents (think json)\n",
    "- very flexible structure\n",
    "- great way to store semi-structure data\n",
    "- a lot of processing needed to turn into feature vectors\n",
    "<br>\n",
    "\n",
    "- contains databases (db)\n",
    "  - which contain collections (like tables)\n",
    "    - which you then do finds on"
   ]
  },
  {
   "cell_type": "markdown",
   "metadata": {
    "slideshow": {
     "slide_type": "slide"
    }
   },
   "source": [
    "# Example: Mongo\n",
    "\n",
    "- Need to have Mongo running on your local machine with a 'twitter_db' database"
   ]
  },
  {
   "cell_type": "raw",
   "metadata": {
    "slideshow": {
     "slide_type": "skip"
    }
   },
   "source": [
    "import pymongo\n",
    "import json\n",
    "from pymongo import MongoClient, InsertOne\n",
    "\n",
    "client = pymongo.MongoClient()\n",
    "db = client.twitter_db\n",
    "collection = db.twitter_collection\n",
    "requesting = []\n",
    "\n",
    "for jsonObj in public_tweets:\n",
    "    #myDict = json.load(jsonObj)\n",
    "    requesting.append(InsertOne(jsonObj))\n",
    "\n",
    "result = collection.bulk_write(requesting)\n",
    "client.close()"
   ]
  },
  {
   "cell_type": "code",
   "execution_count": 30,
   "metadata": {
    "slideshow": {
     "slide_type": "fragment"
    }
   },
   "outputs": [],
   "source": [
    "import pymongo\n",
    "\n",
    "# start up our client, defaults to the local machine\n",
    "client = pymongo.MongoClient() # host=\"mongodb://localhost:27017\"\n",
    "\n",
    "# get a connection to a database\n",
    "db = client.twitter_db\n",
    "\n",
    "# get a connection to a collection in that database\n",
    "coll = db.twitter_collection"
   ]
  },
  {
   "cell_type": "markdown",
   "metadata": {
    "slideshow": {
     "slide_type": "slide"
    }
   },
   "source": [
    "# Example: Mongo"
   ]
  },
  {
   "cell_type": "code",
   "execution_count": 31,
   "metadata": {
    "slideshow": {
     "slide_type": "fragment"
    }
   },
   "outputs": [
    {
     "data": {
      "text/plain": [
       "{'_id': ObjectId('638e40d4355fc7918bf682b1'),\n",
       " 'created_at': 'Mon Dec 05 17:17:01 +0000 2022',\n",
       " 'id': 1599815115872038912,\n",
       " 'id_str': '1599815115872038912',\n",
       " 'text': \"RT @anifel20: You don't need to spend $𝟭𝟬𝟬𝟬𝘀 to learn Data Science.❌\\n\\nStanford University, Harvard University &amp; Massachusetts Institute of…\",\n",
       " 'truncated': False,\n",
       " 'entities': {'hashtags': [],\n",
       "  'symbols': [],\n",
       "  'user_mentions': [{'screen_name': 'anifel20',\n",
       "    'name': 'Felo Anifel',\n",
       "    'id': 212922754,\n",
       "    'id_str': '212922754',\n",
       "    'indices': [3, 12]}],\n",
       "  'urls': []},\n",
       " 'metadata': {'iso_language_code': 'en', 'result_type': 'recent'},\n",
       " 'source': '<a href=\"http://twitter.com/download/iphone\" rel=\"nofollow\">Twitter for iPhone</a>',\n",
       " 'in_reply_to_status_id': None,\n",
       " 'in_reply_to_status_id_str': None,\n",
       " 'in_reply_to_user_id': None,\n",
       " 'in_reply_to_user_id_str': None,\n",
       " 'in_reply_to_screen_name': None,\n",
       " 'user': {'id': 617864273,\n",
       "  'id_str': '617864273',\n",
       "  'name': 'Honourable-Saro',\n",
       "  'screen_name': 'yomi_mabayoje',\n",
       "  'location': 'outside my comfort zone. ',\n",
       "  'description': '•Farmer •Travel Consultant. A Textrovert. CFC fan and a football lover',\n",
       "  'url': None,\n",
       "  'entities': {'description': {'urls': []}},\n",
       "  'protected': False,\n",
       "  'followers_count': 2663,\n",
       "  'friends_count': 1390,\n",
       "  'listed_count': 25,\n",
       "  'created_at': 'Mon Jun 25 07:15:53 +0000 2012',\n",
       "  'favourites_count': 165605,\n",
       "  'utc_offset': None,\n",
       "  'time_zone': None,\n",
       "  'geo_enabled': True,\n",
       "  'verified': False,\n",
       "  'statuses_count': 262648,\n",
       "  'lang': None,\n",
       "  'contributors_enabled': False,\n",
       "  'is_translator': False,\n",
       "  'is_translation_enabled': False,\n",
       "  'profile_background_color': '8B542B',\n",
       "  'profile_background_image_url': 'http://abs.twimg.com/images/themes/theme8/bg.gif',\n",
       "  'profile_background_image_url_https': 'https://abs.twimg.com/images/themes/theme8/bg.gif',\n",
       "  'profile_background_tile': False,\n",
       "  'profile_image_url': 'http://pbs.twimg.com/profile_images/1455294816531533826/Fupxb7Rs_normal.jpg',\n",
       "  'profile_image_url_https': 'https://pbs.twimg.com/profile_images/1455294816531533826/Fupxb7Rs_normal.jpg',\n",
       "  'profile_banner_url': 'https://pbs.twimg.com/profile_banners/617864273/1622337936',\n",
       "  'profile_link_color': '1B95E0',\n",
       "  'profile_sidebar_border_color': '000000',\n",
       "  'profile_sidebar_fill_color': 'EADEAA',\n",
       "  'profile_text_color': '333333',\n",
       "  'profile_use_background_image': True,\n",
       "  'has_extended_profile': True,\n",
       "  'default_profile': False,\n",
       "  'default_profile_image': False,\n",
       "  'following': False,\n",
       "  'follow_request_sent': False,\n",
       "  'notifications': False,\n",
       "  'translator_type': 'none',\n",
       "  'withheld_in_countries': []},\n",
       " 'geo': None,\n",
       " 'coordinates': None,\n",
       " 'place': None,\n",
       " 'contributors': None,\n",
       " 'retweeted_status': {'created_at': 'Tue Oct 25 17:44:08 +0000 2022',\n",
       "  'id': 1584964039305703424,\n",
       "  'id_str': '1584964039305703424',\n",
       "  'text': \"You don't need to spend $𝟭𝟬𝟬𝟬𝘀 to learn Data Science.❌\\n\\nStanford University, Harvard University &amp; Massachusetts Ins… https://t.co/7vi9rOvenc\",\n",
       "  'truncated': True,\n",
       "  'entities': {'hashtags': [],\n",
       "   'symbols': [],\n",
       "   'user_mentions': [],\n",
       "   'urls': [{'url': 'https://t.co/7vi9rOvenc',\n",
       "     'expanded_url': 'https://twitter.com/i/web/status/1584964039305703424',\n",
       "     'display_url': 'twitter.com/i/web/status/1…',\n",
       "     'indices': [121, 144]}]},\n",
       "  'metadata': {'iso_language_code': 'en', 'result_type': 'recent'},\n",
       "  'source': '<a href=\"http://twitter.com/download/iphone\" rel=\"nofollow\">Twitter for iPhone</a>',\n",
       "  'in_reply_to_status_id': None,\n",
       "  'in_reply_to_status_id_str': None,\n",
       "  'in_reply_to_user_id': None,\n",
       "  'in_reply_to_user_id_str': None,\n",
       "  'in_reply_to_screen_name': None,\n",
       "  'user': {'id': 212922754,\n",
       "   'id_str': '212922754',\n",
       "   'name': 'Felo Anifel',\n",
       "   'screen_name': 'anifel20',\n",
       "   'location': 'Earth',\n",
       "   'description': 'I tweet and retweet about Studying Abroad, Schools and Scholarships. STEM-Grad Assistantships tips.',\n",
       "   'url': 'https://t.co/XKRqwas9Gs',\n",
       "   'entities': {'url': {'urls': [{'url': 'https://t.co/XKRqwas9Gs',\n",
       "       'expanded_url': 'https://www.youtube.com/channel/UCxtxU6JzeGiGK8Xw46LhqDg',\n",
       "       'display_url': 'youtube.com/channel/UCxtxU…',\n",
       "       'indices': [0, 23]}]},\n",
       "    'description': {'urls': []}},\n",
       "   'protected': False,\n",
       "   'followers_count': 39704,\n",
       "   'friends_count': 749,\n",
       "   'listed_count': 217,\n",
       "   'created_at': 'Sun Nov 07 13:07:50 +0000 2010',\n",
       "   'favourites_count': 5692,\n",
       "   'utc_offset': None,\n",
       "   'time_zone': None,\n",
       "   'geo_enabled': False,\n",
       "   'verified': False,\n",
       "   'statuses_count': 23584,\n",
       "   'lang': None,\n",
       "   'contributors_enabled': False,\n",
       "   'is_translator': False,\n",
       "   'is_translation_enabled': False,\n",
       "   'profile_background_color': '000000',\n",
       "   'profile_background_image_url': 'http://abs.twimg.com/images/themes/theme1/bg.png',\n",
       "   'profile_background_image_url_https': 'https://abs.twimg.com/images/themes/theme1/bg.png',\n",
       "   'profile_background_tile': False,\n",
       "   'profile_image_url': 'http://pbs.twimg.com/profile_images/740321926086688768/y4-a8_pq_normal.jpg',\n",
       "   'profile_image_url_https': 'https://pbs.twimg.com/profile_images/740321926086688768/y4-a8_pq_normal.jpg',\n",
       "   'profile_link_color': '3B94D9',\n",
       "   'profile_sidebar_border_color': '000000',\n",
       "   'profile_sidebar_fill_color': '000000',\n",
       "   'profile_text_color': '000000',\n",
       "   'profile_use_background_image': False,\n",
       "   'has_extended_profile': True,\n",
       "   'default_profile': False,\n",
       "   'default_profile_image': False,\n",
       "   'following': False,\n",
       "   'follow_request_sent': False,\n",
       "   'notifications': False,\n",
       "   'translator_type': 'none',\n",
       "   'withheld_in_countries': []},\n",
       "  'geo': None,\n",
       "  'coordinates': None,\n",
       "  'place': None,\n",
       "  'contributors': None,\n",
       "  'is_quote_status': False,\n",
       "  'retweet_count': 4062,\n",
       "  'favorite_count': 11196,\n",
       "  'favorited': False,\n",
       "  'retweeted': False,\n",
       "  'lang': 'en'},\n",
       " 'is_quote_status': False,\n",
       " 'retweet_count': 4062,\n",
       " 'favorite_count': 0,\n",
       " 'favorited': False,\n",
       " 'retweeted': False,\n",
       " 'lang': 'en'}"
      ]
     },
     "execution_count": 31,
     "metadata": {},
     "output_type": "execute_result"
    }
   ],
   "source": [
    "# get one record\n",
    "coll.find_one()"
   ]
  },
  {
   "cell_type": "markdown",
   "metadata": {
    "slideshow": {
     "slide_type": "slide"
    }
   },
   "source": [
    "# Example: Mongo Cont."
   ]
  },
  {
   "cell_type": "code",
   "execution_count": 32,
   "metadata": {
    "slideshow": {
     "slide_type": "fragment"
    }
   },
   "outputs": [
    {
     "data": {
      "text/plain": [
       "[{'_id': ObjectId('638e40d4355fc7918bf682b1'),\n",
       "  'user': {'screen_name': 'yomi_mabayoje'}},\n",
       " {'_id': ObjectId('638e40d4355fc7918bf682b2'),\n",
       "  'user': {'screen_name': 'Pepperdine_RGFR'}},\n",
       " {'_id': ObjectId('638e40d4355fc7918bf682b3'),\n",
       "  'user': {'screen_name': 'milzmuzing'}}]"
      ]
     },
     "execution_count": 32,
     "metadata": {},
     "output_type": "execute_result"
    }
   ],
   "source": [
    "[x for x in coll.find(filter={'retweeted':False},projection={'user.screen_name'},limit=3)]"
   ]
  },
  {
   "cell_type": "markdown",
   "metadata": {
    "slideshow": {
     "slide_type": "slide"
    }
   },
   "source": [
    "<br>\n",
    "<br>\n",
    "\n",
    "# <center>Questions re Databases?</center>\n",
    "<br>\n",
    "<br>\n"
   ]
  },
  {
   "cell_type": "markdown",
   "metadata": {
    "slideshow": {
     "slide_type": "slide"
    }
   },
   "source": [
    "<br>\n",
    "<br>\n",
    "\n",
    "# <center>Question re Final?</center>\n",
    "<br>\n",
    "<br>"
   ]
  }
 ],
 "metadata": {
  "celltoolbar": "Slideshow",
  "kernelspec": {
   "display_name": "eods-f22",
   "language": "python",
   "name": "eods-f22"
  },
  "language_info": {
   "codemirror_mode": {
    "name": "ipython",
    "version": 3
   },
   "file_extension": ".py",
   "mimetype": "text/x-python",
   "name": "python",
   "nbconvert_exporter": "python",
   "pygments_lexer": "ipython3",
   "version": "3.10.6"
  },
  "toc": {
   "base_numbering": 1,
   "nav_menu": {},
   "number_sections": false,
   "sideBar": true,
   "skip_h1_title": false,
   "title_cell": "Table of Contents",
   "title_sidebar": "Contents",
   "toc_cell": false,
   "toc_position": {},
   "toc_section_display": true,
   "toc_window_display": false
  }
 },
 "nbformat": 4,
 "nbformat_minor": 4
}
