{
 "cells": [
  {
   "cell_type": "code",
   "execution_count": 1,
   "id": "07e9b27d",
   "metadata": {},
   "outputs": [
    {
     "name": "stdout",
     "output_type": "stream",
     "text": [
      "python version: 3.10.6 | packaged by conda-forge | (main, Aug 22 2022, 20:41:22) [Clang 13.0.1 ]\n",
      "pandas version: 1.4.4\n",
      "sklearn version: 1.1.2\n",
      "pandas path: ['/Users/clarissarjtai/miniforge3/envs/eods-f22/lib/python3.10/site-packages/pandas']\n"
     ]
    }
   ],
   "source": [
    "import sys\n",
    "import pandas\n",
    "import sklearn\n",
    "print('python version:',sys.version)\n",
    "print('pandas version:',pandas.__version__)\n",
    "print('sklearn version:',sklearn.__version__)\n",
    "print('pandas path:',pandas.__path__)"
   ]
  },
  {
   "cell_type": "code",
   "execution_count": null,
   "id": "4b9e7ec7",
   "metadata": {},
   "outputs": [],
   "source": []
  }
 ],
 "metadata": {
  "kernelspec": {
   "display_name": "eods-f22",
   "language": "python",
   "name": "eods-f22"
  },
  "language_info": {
   "codemirror_mode": {
    "name": "ipython",
    "version": 3
   },
   "file_extension": ".py",
   "mimetype": "text/x-python",
   "name": "python",
   "nbconvert_exporter": "python",
   "pygments_lexer": "ipython3",
   "version": "3.10.6"
  }
 },
 "nbformat": 4,
 "nbformat_minor": 5
}
