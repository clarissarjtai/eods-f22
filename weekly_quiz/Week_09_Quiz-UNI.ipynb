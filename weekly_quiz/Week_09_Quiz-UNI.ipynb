{
 "cells": [
  {
   "cell_type": "markdown",
   "metadata": {
    "slideshow": {
     "slide_type": "subslide"
    }
   },
   "source": [
    "# Week 9 Quiz\n",
    "\n",
    "## [Name] - [UNI]\n",
    "\n",
    "### Due Tues. Nov 8th, 11:59pm\n",
    "\n",
    "In this quiz we'll practice scaling data and using PCA for dimensionality reduction.\n",
    "\n",
    "### Instructions\n",
    "\n",
    "Replace the Name and UNI in cell above and the notebook filename\n",
    "\n",
    "Replace all '____' below using the instructions provided.\n",
    "\n",
    "When completed, \n",
    " 1. make sure you've replaced Name and UNI in the first cell and filename\n",
    " 2. Kernel -> Restart & Run All to run all cells in order \n",
    " 3. Print Preview -> Print (Landscape Layout) -> Save to pdf \n",
    " 4. post pdf to GradeScope"
   ]
  },
  {
   "cell_type": "markdown",
   "metadata": {},
   "source": [
    "### Load Standard Libraries"
   ]
  },
  {
   "cell_type": "code",
   "execution_count": null,
   "metadata": {},
   "outputs": [],
   "source": [
    "# Import numpy, pandas, matplotlib.pyplot and seaborn\n",
    "import numpy as np\n",
    "import pandas as pd\n",
    "import matplotlib.pyplot as plt\n",
    "import seaborn as sns\n",
    "\n",
    "# Set matplotlib to display inline\n",
    "%matplotlib inline"
   ]
  },
  {
   "cell_type": "markdown",
   "metadata": {},
   "source": [
    "### Load the Dataset"
   ]
  },
  {
   "cell_type": "code",
   "execution_count": null,
   "metadata": {},
   "outputs": [],
   "source": [
    "# Import load_breast_cancer from sklearn.datasets\n",
    "from sklearn.datasets import load_breast_cancer\n",
    "\n",
    "# Load the breast cancer dataset using the load_breast_cancer() function.\n",
    "# Store in the variable 'cancer'.\n",
    "cancer = load_breast_cancer()\n",
    "\n",
    "# Create a new dataframe X with values from cancer.data (which is stored as a numpy array)\n",
    "#    and with columns named using cancer.feature_names (also a numpy array)\n",
    "X = pd.DataFrame(cancer.data,columns=cancer.feature_names)\n",
    "\n",
    "# For this quiz, only keep the first 10 features/columns\n",
    "# Store the result back into X\n",
    "X = X.iloc[:,:10]\n",
    "\n",
    "# Assert that the shape of the dataframe is (569,10): 569 rows, 10 columns\n",
    "assert X.shape == (569,10)"
   ]
  },
  {
   "cell_type": "markdown",
   "metadata": {},
   "source": [
    "### Calculate Summary Stats"
   ]
  },
  {
   "cell_type": "code",
   "execution_count": null,
   "metadata": {},
   "outputs": [],
   "source": [
    "# The distribution of features in this dataset vary quite a bit, affecting PCA performance.\n",
    "# To get a sense of the difference, display the mean and standard deviation of each feature.\n",
    "# Use the .agg() function, which takes a list of strings describing the functions to apply.\n",
    "# Call .agg() on X\n",
    "#   with the function names 'mean' and 'std' \n",
    "#   transpose the dataframe using .T or .transpose()\n",
    "#   and round to a precision of 2\n",
    "____"
   ]
  },
  {
   "cell_type": "markdown",
   "metadata": {},
   "source": [
    "###  Standardize the Data"
   ]
  },
  {
   "cell_type": "code",
   "execution_count": null,
   "metadata": {},
   "outputs": [],
   "source": [
    "# Standardize the data to mean 0, standard deviation of 1 using sklearn StandardScaler\n",
    "\n",
    "#Import StandardScaler from sklearn\n",
    "____\n",
    "\n",
    "# To standardize X use StandardScaler with default settings\n",
    "#  do a fit_transform() on X\n",
    "#  store in X_zscore\n",
    "X_zscore = ____\n",
    "\n",
    "# Add feature names by creating a new DataFrame\n",
    "#  containing X_zscore\n",
    "#  with the same column names as the original dataframe X\n",
    "#  store back into X_zscore\n",
    "X_zscore = ____\n",
    "\n",
    "# assert that the mean is near 0 and standard deviation is near 1 for all standardized features\n",
    "assert X_zscore.mean().round(2).eq(0).all() and X_zscore.std().round(2).eq(1).all()\n",
    "\n",
    "# To visually confirm that all features have been standardized:\n",
    "# Call .agg() on X_zscore\n",
    "#   with the function names 'mean' and 'std' \n",
    "#   transpose the dataframe using .T or .transpose()\n",
    "#   and round to a precision of 2\n",
    "____"
   ]
  },
  {
   "cell_type": "markdown",
   "metadata": {},
   "source": [
    "### Show Variance Described by PCA"
   ]
  },
  {
   "cell_type": "code",
   "execution_count": null,
   "metadata": {},
   "outputs": [],
   "source": [
    "# Import PCA from sklearn.\n",
    "____\n",
    "\n",
    "# Fit a PCA model to X_zscore using PCA() with default parameters\n",
    "#   and store in pca\n",
    "pca = ____\n",
    "\n",
    "# Create a new DataFrame with 2 columns:\n",
    "#   \"component\" with values 0 to the number of components in pca\n",
    "#   \"cumulative explained variance\" with the .cumsum() of the explained_variance_ratio_ in pca\n",
    "#   store in df_var\n",
    "df_var = ____\n",
    "\n",
    "# Use sns.pointplot() to plot the data from df_var with\n",
    "#   \"component\" on the x-axis\n",
    "#   \"cumulative explained variance\" on the y-axis\n",
    "____\n",
    "\n",
    "# Note that over 55% of the variance is explained by the first component\n",
    "# Over 80% by the first 2 components\n",
    "# Over 90% by the first 4 components"
   ]
  },
  {
   "cell_type": "markdown",
   "metadata": {},
   "source": [
    "### Transform Dataset using First 2 Components"
   ]
  },
  {
   "cell_type": "code",
   "execution_count": null,
   "metadata": {},
   "outputs": [],
   "source": [
    "# Fit and transform X_zscore using a new PCA model with n_components=2\n",
    "# Store the transformed dataset in X_pca\n",
    "X_pca = ____\n",
    "\n",
    "# Add feature names by creating a new DataFrame\n",
    "#  containing X_pca\n",
    "#  with the column names ['component0','component1']\n",
    "#  store back into X_pca\n",
    "X_pca = ____\n",
    "\n",
    "# Assert that the pca representation has the same number of rows (569) but now 2 columns\n",
    "assert X_pca.shape == (569,2)"
   ]
  },
  {
   "cell_type": "markdown",
   "metadata": {},
   "source": [
    "### Plot the Reduced Representation"
   ]
  },
  {
   "cell_type": "code",
   "execution_count": null,
   "metadata": {},
   "outputs": [],
   "source": [
    "# Using seaborn, create a scatterplot of the data in X_pca\n",
    "#  with component0 on the x-axis\n",
    "#  and component1 on the y-axis\n",
    "#  Color the points by their class assignment by setting hue=cancer.target\n",
    "#  Capture the returned axis in ax\n",
    "ax = ____\n",
    "\n",
    "# Set the title to 'First 2 Components Colored by Class' using ax\n",
    "____\n",
    "\n",
    "# Note that we haven't used the cancer.target information to generate the pca representation.\n",
    "# We're coloring by cancer.target here to demonstrate that under this transformation\n",
    "#   a linear model will do a decent job of separating the classes"
   ]
  }
 ],
 "metadata": {
  "kernelspec": {
   "display_name": "eods-f22",
   "language": "python",
   "name": "eods-f22"
  },
  "language_info": {
   "codemirror_mode": {
    "name": "ipython",
    "version": 3
   },
   "file_extension": ".py",
   "mimetype": "text/x-python",
   "name": "python",
   "nbconvert_exporter": "python",
   "pygments_lexer": "ipython3",
   "version": "3.10.6"
  },
  "toc": {
   "base_numbering": 1,
   "nav_menu": {},
   "number_sections": false,
   "sideBar": true,
   "skip_h1_title": false,
   "title_cell": "Table of Contents",
   "title_sidebar": "Contents",
   "toc_cell": false,
   "toc_position": {},
   "toc_section_display": true,
   "toc_window_display": false
  }
 },
 "nbformat": 4,
 "nbformat_minor": 2
}
