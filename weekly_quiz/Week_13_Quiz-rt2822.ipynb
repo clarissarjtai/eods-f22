{
 "cells": [
  {
   "cell_type": "markdown",
   "metadata": {},
   "source": [
    "# Week 13 Quiz\n",
    "\n",
    "## Clarissa Tai - rt2822\n",
    "\n",
    "### Due Tues Dec 13th, 11:59pm ET"
   ]
  },
  {
   "cell_type": "markdown",
   "metadata": {},
   "source": [
    "In this quiz we'll practice using SQL to extract and transform some US State population data.\n",
    "\n",
    "We'll use pandasql to execute SQL on pandas dataframes.\n",
    "\n",
    "If for some reason pandasql deosn't work, please just take a shot at what you think the SQL should be."
   ]
  },
  {
   "cell_type": "code",
   "execution_count": 1,
   "metadata": {},
   "outputs": [],
   "source": [
    "import pandas as pd\n",
    "import numpy as np\n",
    "import matplotlib.pyplot as plt\n",
    "\n",
    "from pandasql import PandaSQL\n",
    "\n",
    "%matplotlib inline"
   ]
  },
  {
   "cell_type": "markdown",
   "metadata": {},
   "source": [
    "## Set up pysqldf"
   ]
  },
  {
   "cell_type": "code",
   "execution_count": 2,
   "metadata": {},
   "outputs": [],
   "source": [
    "# Setting up an instance of PandaSQL to pass SQL commands to\n",
    "pysqldf = PandaSQL()"
   ]
  },
  {
   "cell_type": "markdown",
   "metadata": {},
   "source": [
    "## Load Data"
   ]
  },
  {
   "cell_type": "code",
   "execution_count": 3,
   "metadata": {},
   "outputs": [],
   "source": [
    "# Load state population data\n",
    "state_population = pd.read_csv('../data/state-population.csv')\n",
    "state_population = state_population.rename({'state/region':'abbreviation'},\n",
    "                                           axis=1)\n",
    "\n",
    "# Load state area data\n",
    "state_areas = pd.read_csv('../data/state-areas.csv')\n",
    "state_areas = state_areas.rename({'area (sq. mi)':'area'},axis=1)\n",
    "\n",
    "# Load state abbreviation data\n",
    "state_abbreviations = pd.read_csv('../data/state-abbrevs.csv')"
   ]
  },
  {
   "cell_type": "markdown",
   "metadata": {},
   "source": [
    "## Practice SQL"
   ]
  },
  {
   "cell_type": "code",
   "execution_count": 4,
   "metadata": {},
   "outputs": [
    {
     "data": {
      "text/html": [
       "<div>\n",
       "<style scoped>\n",
       "    .dataframe tbody tr th:only-of-type {\n",
       "        vertical-align: middle;\n",
       "    }\n",
       "\n",
       "    .dataframe tbody tr th {\n",
       "        vertical-align: top;\n",
       "    }\n",
       "\n",
       "    .dataframe thead th {\n",
       "        text-align: right;\n",
       "    }\n",
       "</style>\n",
       "<table border=\"1\" class=\"dataframe\">\n",
       "  <thead>\n",
       "    <tr style=\"text-align: right;\">\n",
       "      <th></th>\n",
       "      <th>state</th>\n",
       "      <th>area</th>\n",
       "    </tr>\n",
       "  </thead>\n",
       "  <tbody>\n",
       "    <tr>\n",
       "      <th>0</th>\n",
       "      <td>Alabama</td>\n",
       "      <td>52423</td>\n",
       "    </tr>\n",
       "    <tr>\n",
       "      <th>1</th>\n",
       "      <td>Alaska</td>\n",
       "      <td>656425</td>\n",
       "    </tr>\n",
       "    <tr>\n",
       "      <th>2</th>\n",
       "      <td>Arizona</td>\n",
       "      <td>114006</td>\n",
       "    </tr>\n",
       "  </tbody>\n",
       "</table>\n",
       "</div>"
      ],
      "text/plain": [
       "     state    area\n",
       "0  Alabama   52423\n",
       "1   Alaska  656425\n",
       "2  Arizona  114006"
      ]
     },
     "execution_count": 4,
     "metadata": {},
     "output_type": "execute_result"
    }
   ],
   "source": [
    "# Write SQL to print out:\n",
    "#    all columns from table state_areas limited to the first 3 rows \n",
    "#    aka state_areas.head(3)\n",
    "sql = \"\"\"\n",
    "SELECT *\n",
    "FROM state_areas\n",
    "LIMIT 3\n",
    "\"\"\"\n",
    "pysqldf(sql)"
   ]
  },
  {
   "cell_type": "code",
   "execution_count": 5,
   "metadata": {},
   "outputs": [
    {
     "data": {
      "text/html": [
       "<div>\n",
       "<style scoped>\n",
       "    .dataframe tbody tr th:only-of-type {\n",
       "        vertical-align: middle;\n",
       "    }\n",
       "\n",
       "    .dataframe tbody tr th {\n",
       "        vertical-align: top;\n",
       "    }\n",
       "\n",
       "    .dataframe thead th {\n",
       "        text-align: right;\n",
       "    }\n",
       "</style>\n",
       "<table border=\"1\" class=\"dataframe\">\n",
       "  <thead>\n",
       "    <tr style=\"text-align: right;\">\n",
       "      <th></th>\n",
       "      <th>abbreviation</th>\n",
       "    </tr>\n",
       "  </thead>\n",
       "  <tbody>\n",
       "    <tr>\n",
       "      <th>0</th>\n",
       "      <td>AL</td>\n",
       "    </tr>\n",
       "    <tr>\n",
       "      <th>1</th>\n",
       "      <td>AL</td>\n",
       "    </tr>\n",
       "    <tr>\n",
       "      <th>2</th>\n",
       "      <td>AL</td>\n",
       "    </tr>\n",
       "  </tbody>\n",
       "</table>\n",
       "</div>"
      ],
      "text/plain": [
       "  abbreviation\n",
       "0           AL\n",
       "1           AL\n",
       "2           AL"
      ]
     },
     "execution_count": 5,
     "metadata": {},
     "output_type": "execute_result"
    }
   ],
   "source": [
    "# Write SQL to print out the same dataframe as given by this pandas call:\n",
    "#    state_population.loc[:,['abbreviation']].iloc[:3]\n",
    "sql = \"\"\"\n",
    "SELECT S.abbreviation\n",
    "FROM state_population as S\n",
    "LIMIT 3\n",
    "\"\"\"\n",
    "pysqldf(sql)"
   ]
  },
  {
   "cell_type": "markdown",
   "metadata": {},
   "source": [
    "---"
   ]
  },
  {
   "cell_type": "markdown",
   "metadata": {},
   "source": [
    "# OPTIONAL\n",
    "\n",
    "Everything below is optional if you'd like more practice with sql"
   ]
  },
  {
   "cell_type": "code",
   "execution_count": null,
   "metadata": {},
   "outputs": [],
   "source": [
    "# Write SQL to print out:\n",
    "#    columns state and area from table state_areas for rows with state starting with 'Mi'\n",
    "sql = \"\"\"\n",
    "____\n",
    "\"\"\"\n",
    "pysqldf(sql)"
   ]
  },
  {
   "cell_type": "code",
   "execution_count": null,
   "metadata": {},
   "outputs": [],
   "source": [
    "# Write SQL to print out:\n",
    "#    columns state and area from table state_areas \n",
    "#    for rows with state starting with 'Mi' and area greater than 80000\n",
    "sql = \"\"\"\n",
    "____\n",
    "\"\"\"\n",
    "pysqldf(sql)"
   ]
  },
  {
   "cell_type": "code",
   "execution_count": null,
   "metadata": {},
   "outputs": [],
   "source": [
    "# Write SQL to print out:\n",
    "#    all columns from table state_areas \n",
    "#    LEFT JOINed with state_abbreviations ON state\n",
    "#    limited to the first 3 rows\n",
    "sql = \"\"\"\n",
    "____\n",
    "\"\"\"\n",
    "pysqldf(sql)"
   ]
  },
  {
   "cell_type": "code",
   "execution_count": null,
   "metadata": {},
   "outputs": [],
   "source": [
    "# Write SQL to print out:\n",
    "#    all columns from table state_areas aliased as s_area\n",
    "#    INNER JOINed with state_abbreviations aliased as s_abb ON state\n",
    "#    INNER JOINed with state_population aliased as s_pop ON abbreviation\n",
    "#    limited to the first 3 rows\n",
    "sql = \"\"\"\n",
    "____\n",
    "\"\"\"\n",
    "pysqldf(sql)"
   ]
  },
  {
   "cell_type": "code",
   "execution_count": null,
   "metadata": {},
   "outputs": [],
   "source": [
    "# Write SQL to print out:\n",
    "#    s_area.state,\n",
    "#    s_area.area,\n",
    "#    s_pop.year,\n",
    "#    s_pop.population\n",
    "#    from table state_areas aliased as s_area\n",
    "#    INNER JOINed with state_abbreviations aliased as s_abb ON state\n",
    "#    INNER JOINed with state_population aliased as s_pop ON abbreviation\n",
    "#    where s_pop.ages is 'total'\n",
    "#    ordered by s_area.state, s_pop.year\n",
    "sql = \"\"\"\n",
    "____\n",
    "\"\"\"\n",
    "pysqldf(sql)\n",
    "# you should see 1224 rows and 4 columns"
   ]
  },
  {
   "cell_type": "code",
   "execution_count": null,
   "metadata": {},
   "outputs": [],
   "source": [
    "# Feel free to experiment with additional SQL calls. \n",
    "# For example, state_population contains more regions than there are states in state_areas\n",
    "#     so different join types (left, right) will give different results\n",
    "\n",
    "# As an additional challenge:\n",
    "#  calculate the total average population per state in thousands over the years observed\n",
    "sql = \"\"\"\n",
    "____\n",
    "\"\"\"\n",
    "pysqldf(sql) "
   ]
  },
  {
   "cell_type": "code",
   "execution_count": null,
   "metadata": {},
   "outputs": [],
   "source": []
  }
 ],
 "metadata": {
  "kernelspec": {
   "display_name": "eods-f22",
   "language": "python",
   "name": "eods-f22"
  },
  "language_info": {
   "codemirror_mode": {
    "name": "ipython",
    "version": 3
   },
   "file_extension": ".py",
   "mimetype": "text/x-python",
   "name": "python",
   "nbconvert_exporter": "python",
   "pygments_lexer": "ipython3",
   "version": "3.10.6"
  },
  "toc": {
   "base_numbering": 1,
   "nav_menu": {},
   "number_sections": false,
   "sideBar": true,
   "skip_h1_title": false,
   "title_cell": "Table of Contents",
   "title_sidebar": "Contents",
   "toc_cell": false,
   "toc_position": {},
   "toc_section_display": true,
   "toc_window_display": false
  }
 },
 "nbformat": 4,
 "nbformat_minor": 2
}
