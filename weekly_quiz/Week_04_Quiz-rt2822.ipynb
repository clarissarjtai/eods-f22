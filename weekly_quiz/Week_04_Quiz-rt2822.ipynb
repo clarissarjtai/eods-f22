{
 "cells": [
  {
   "cell_type": "markdown",
   "metadata": {},
   "source": [
    "# Week 4 Quiz\n",
    "\n",
    "## Clarissa - rt2822\n",
    "\n",
    "### Due Tuesday Oct 4th 11:59pm ET\n",
    "\n",
    "### Instructions\n",
    "\n",
    "Replace the Name and UNI in cell above and the notebook filename\n",
    "\n",
    "Replace all '____' below using the instructions provided.\n",
    "\n",
    "When completed, \n",
    " 1. make sure you've replaced Name and UNI in the first cell and filename\n",
    " 2. Kernel -> Restart & Run All to run all cells in order \n",
    " 3. Print Preview -> Print (Landscape Layout) -> Save to pdf \n",
    " 4. post pdf to GradeScope"
   ]
  },
  {
   "cell_type": "code",
   "execution_count": 1,
   "metadata": {},
   "outputs": [],
   "source": [
    "import pandas as pd\n",
    "import numpy as np\n",
    "import seaborn as sns\n",
    "\n",
    "sns.set_style('darkgrid')\n",
    "\n",
    "%matplotlib inline"
   ]
  },
  {
   "cell_type": "markdown",
   "metadata": {},
   "source": [
    "In this quiz we'll calculate a 95% confidence interval for the mean value of 'flavanoids' from the wine dataset."
   ]
  },
  {
   "cell_type": "code",
   "execution_count": 2,
   "metadata": {},
   "outputs": [
    {
     "name": "stdout",
     "output_type": "stream",
     "text": [
      "<class 'pandas.core.frame.DataFrame'>\n",
      "RangeIndex: 178 entries, 0 to 177\n",
      "Data columns (total 14 columns):\n",
      " #   Column                        Non-Null Count  Dtype  \n",
      "---  ------                        --------------  -----  \n",
      " 0   alcohol                       178 non-null    float64\n",
      " 1   malic_acid                    178 non-null    float64\n",
      " 2   ash                           178 non-null    float64\n",
      " 3   alcalinity_of_ash             178 non-null    float64\n",
      " 4   magnesium                     178 non-null    float64\n",
      " 5   total_phenols                 178 non-null    float64\n",
      " 6   flavanoids                    178 non-null    float64\n",
      " 7   nonflavanoid_phenols          178 non-null    float64\n",
      " 8   proanthocyanins               178 non-null    float64\n",
      " 9   color_intensity               178 non-null    float64\n",
      " 10  hue                           178 non-null    float64\n",
      " 11  od280/od315_of_diluted_wines  178 non-null    float64\n",
      " 12  proline                       178 non-null    float64\n",
      " 13  class                         178 non-null    int64  \n",
      "dtypes: float64(13), int64(1)\n",
      "memory usage: 19.6 KB\n"
     ]
    }
   ],
   "source": [
    "# Read in ../data/wine_dataset.csv as df\n",
    "df = pd.read_csv(\"../data/wine_dataset.csv\")\n",
    "\n",
    "# print .info() on df for a summary of the dataset\n",
    "df.info()"
   ]
  },
  {
   "cell_type": "code",
   "execution_count": 3,
   "metadata": {},
   "outputs": [
    {
     "data": {
      "image/png": "[encoded data removed]",
      "text/plain": [
       "<Figure size 640x480 with 1 Axes>"
      ]
     },
     "metadata": {},
     "output_type": "display_data"
    }
   ],
   "source": [
    "# Generate a barplot of the 'flavenoids' column with 95% confidence intervals using sns.barplot()\n",
    "# These are the CI values we're going to calculate below.\n",
    "# Capture the axis of the plot in ax\n",
    "ax = sns.barplot(df.flavanoids)"
   ]
  },
  {
   "cell_type": "code",
   "execution_count": 4,
   "metadata": {},
   "outputs": [
    {
     "data": {
      "text/plain": [
       "2.03"
      ]
     },
     "execution_count": 4,
     "metadata": {},
     "output_type": "execute_result"
    }
   ],
   "source": [
    "# Assign the mean value of flavanoids to variable observed_mean\n",
    "observed_mean = df.flavanoids.mean()\n",
    "\n",
    "# Print the observed mean with a precision of 2\n",
    "observed_mean.round(2)"
   ]
  },
  {
   "cell_type": "code",
   "execution_count": 5,
   "metadata": {},
   "outputs": [
    {
     "data": {
      "text/plain": [
       "2.16"
      ]
     },
     "execution_count": 5,
     "metadata": {},
     "output_type": "execute_result"
    }
   ],
   "source": [
    "# generate a bootstrap sample of df.flavanoids (with the same number of values as the original dataset)\n",
    "#   using .sample() (with replacement) \n",
    "#   using random_state=0 so our answers will match\n",
    "#   assign the result to sample\n",
    "sample = df.flavanoids.sample(n = df.shape[0], replace = True, random_state=0)\n",
    "\n",
    "# Print the mean of the sample with a precision of 2\n",
    "# Note: if the sample mean is the same as the observed mean, \n",
    "#       check: are you sampling with replacement?\n",
    "sample.mean().round(2)"
   ]
  },
  {
   "cell_type": "code",
   "execution_count": 6,
   "metadata": {},
   "outputs": [
    {
     "data": {
      "text/plain": [
       "[2.0769662921348315,\n",
       " 2.0498876404494384,\n",
       " 1.9907303370786518,\n",
       " 2.0649438202247192,\n",
       " 2.1284831460674156]"
      ]
     },
     "execution_count": 6,
     "metadata": {},
     "output_type": "execute_result"
    }
   ],
   "source": [
    "# Generate 1000 additional sample means using bootstrap sampling from the 'flavanoids' column\n",
    "#   each sample should have the same number of values as the original dataframe\n",
    "#   sample with replacement\n",
    "#   do not use random_state for this step (your results may differ from the course solution slightly)\n",
    "#   store in the list sample_means\n",
    "sample_means = [df.flavanoids.sample(n = df.shape[0], replace = True).mean() for i in range(1000)]\n",
    "\n",
    "# Print the first 5 values in sample_means\n",
    "sample_means[:5]"
   ]
  },
  {
   "cell_type": "code",
   "execution_count": 7,
   "metadata": {},
   "outputs": [
    {
     "data": {
      "text/plain": [
       "<AxesSubplot: ylabel='Count'>"
      ]
     },
     "execution_count": 7,
     "metadata": {},
     "output_type": "execute_result"
    },
    {
     "data": {
      "image/png": "[encoded data removed]",
      "text/plain": [
       "<Figure size 640x480 with 1 Axes>"
      ]
     },
     "metadata": {},
     "output_type": "display_data"
    }
   ],
   "source": [
    "# Plot the distribution of sample means using sns.histplot()\n",
    "sns.histplot(sample_means)"
   ]
  },
  {
   "cell_type": "code",
   "execution_count": 8,
   "metadata": {},
   "outputs": [
    {
     "data": {
      "text/plain": [
       "25.0"
      ]
     },
     "execution_count": 8,
     "metadata": {},
     "output_type": "execute_result"
    }
   ],
   "source": [
    "# To get the 95% confidence interval, we want to retain the central 95% of our sample_means.\n",
    "# To do this we need to first determine how many values must be trimmed from the ends of the sorted array.\n",
    "# For 95% CI, we want to trim 1/2 of 5% from each end.\n",
    "# Calculate 2.5% of the length of sample_means and store as trim_amount.\n",
    "trim_amount = len(sample_means)*0.025\n",
    "\n",
    "# print the trim_amount, the number of elements we'll trim from each end of the sorted list\n",
    "trim_amount"
   ]
  },
  {
   "cell_type": "code",
   "execution_count": 9,
   "metadata": {},
   "outputs": [
    {
     "data": {
      "text/plain": [
       "25"
      ]
     },
     "execution_count": 9,
     "metadata": {},
     "output_type": "execute_result"
    }
   ],
   "source": [
    "# We want to index into our sample_means, but trim_amount is a float.\n",
    "# Use np.round() to round and int() to convert to int and store the result in trim_idx.\n",
    "trim_idx = int(np.round(trim_amount,0))\n",
    "\n",
    "# Print trim_idx\n",
    "trim_idx"
   ]
  },
  {
   "cell_type": "code",
   "execution_count": 10,
   "metadata": {},
   "outputs": [
    {
     "data": {
      "text/plain": [
       "array([1.88949438, 2.1747191 ])"
      ]
     },
     "execution_count": 10,
     "metadata": {},
     "output_type": "execute_result"
    }
   ],
   "source": [
    "# We can now print the 95% CI for our measure by indexing into the sorted array of sample_means.\n",
    "# Use np.sort() to return a sorted numpy array \n",
    "#   then use a list of the indices we want, [trim_idx,-trim_idx-1], to use \"fancy indexing\" on this sorted array.\n",
    "# Store the 95% CI values as ci\n",
    "ci = np.sort(sample_means)[[trim_idx,-trim_idx-1]]\n",
    "\n",
    "# Print the ci values and visually compare the endpoints of the CI in the barplot above.\n",
    "ci"
   ]
  },
  {
   "cell_type": "code",
   "execution_count": null,
   "metadata": {},
   "outputs": [],
   "source": []
  }
 ],
 "metadata": {
  "kernelspec": {
   "display_name": "eods-f22",
   "language": "python",
   "name": "eods-f22"
  },
  "language_info": {
   "codemirror_mode": {
    "name": "ipython",
    "version": 3
   },
   "file_extension": ".py",
   "mimetype": "text/x-python",
   "name": "python",
   "nbconvert_exporter": "python",
   "pygments_lexer": "ipython3",
   "version": "3.10.6"
  },
  "toc": {
   "base_numbering": 1,
   "nav_menu": {},
   "number_sections": false,
   "sideBar": true,
   "skip_h1_title": false,
   "title_cell": "Table of Contents",
   "title_sidebar": "Contents",
   "toc_cell": false,
   "toc_position": {},
   "toc_section_display": true,
   "toc_window_display": false
  }
 },
 "nbformat": 4,
 "nbformat_minor": 2
}
